{
 "cells": [
  {
   "cell_type": "markdown",
   "metadata": {},
   "source": [
    "**Import Libraries and Files**"
   ]
  },
  {
   "cell_type": "code",
   "execution_count": 53,
   "metadata": {},
   "outputs": [],
   "source": [
    "import pandas as pd\n",
    "import numpy as np"
   ]
  },
  {
   "cell_type": "code",
   "execution_count": 54,
   "metadata": {},
   "outputs": [
    {
     "name": "stderr",
     "output_type": "stream",
     "text": [
      "/tmp/ipykernel_261583/1026464259.py:3: DtypeWarning: Columns (14) have mixed types. Specify dtype option on import or set low_memory=False.\n",
      "  commits = pd.read_csv(\"csvs/modified_commits_2019_8.csv\",encoding=\"ISO-8859-1\")\n"
     ]
    }
   ],
   "source": [
    "# Load the CSV file\n",
    "lists = pd.read_csv(\"csvs/lists_2019_8.csv\",encoding=\"ISO-8859-1\")\n",
    "commits = pd.read_csv(\"csvs/modified_commits_2019_8.csv\",encoding=\"ISO-8859-1\")\n",
    "people = pd.read_csv(\"csvs/people_2019_8.csv\",encoding=\"ISO-8859-1\")\n",
    "# pr = pd.read_csv(\"csvs/pull-requests.csv\",encoding=\"ISO-8859-1\")\n",
    "pr = pd.read_csv(\"csvs/modified_pull-requests.csv\",encoding=\"ISO-8859-1\")\n",
    "alias=pd.read_csv(\"csvs/modified_aliases_2019_8.csv\",encoding=\"ISO-8859-1\")\n",
    "repo_name=pd.read_csv(\"repo_name_match.csv\",encoding=\"ISO-8859-1\")"
   ]
  },
  {
   "cell_type": "markdown",
   "metadata": {},
   "source": [
    "**Joining the necessary tables**"
   ]
  },
  {
   "cell_type": "markdown",
   "metadata": {},
   "source": [
    "*Reading the projects*"
   ]
  },
  {
   "cell_type": "code",
   "execution_count": 56,
   "metadata": {},
   "outputs": [],
   "source": [
    "projects=lists[['listid','listname','status']]"
   ]
  },
  {
   "cell_type": "code",
   "execution_count": 57,
   "metadata": {},
   "outputs": [
    {
     "name": "stderr",
     "output_type": "stream",
     "text": [
      "/tmp/ipykernel_261583/2186385244.py:2: SettingWithCopyWarning: \n",
      "A value is trying to be set on a copy of a slice from a DataFrame.\n",
      "Try using .loc[row_indexer,col_indexer] = value instead\n",
      "\n",
      "See the caveats in the documentation: https://pandas.pydata.org/pandas-docs/stable/user_guide/indexing.html#returning-a-view-versus-a-copy\n",
      "  projects['listname'] = projects['listname'].str.lower()\n"
     ]
    }
   ],
   "source": [
    "# Convert all values in the 'listname' column to lowercase\n",
    "projects['listname'] = projects['listname'].str.lower()"
   ]
  },
  {
   "cell_type": "code",
   "execution_count": 187,
   "metadata": {},
   "outputs": [
    {
     "data": {
      "text/html": [
       "<div>\n",
       "<style scoped>\n",
       "    .dataframe tbody tr th:only-of-type {\n",
       "        vertical-align: middle;\n",
       "    }\n",
       "\n",
       "    .dataframe tbody tr th {\n",
       "        vertical-align: top;\n",
       "    }\n",
       "\n",
       "    .dataframe thead th {\n",
       "        text-align: right;\n",
       "    }\n",
       "</style>\n",
       "<table border=\"1\" class=\"dataframe\">\n",
       "  <thead>\n",
       "    <tr style=\"text-align: right;\">\n",
       "      <th></th>\n",
       "      <th>listid</th>\n",
       "      <th>listname</th>\n",
       "      <th>status</th>\n",
       "    </tr>\n",
       "  </thead>\n",
       "  <tbody>\n",
       "    <tr>\n",
       "      <th>0</th>\n",
       "      <td>1</td>\n",
       "      <td>Amaterasu</td>\n",
       "      <td>0</td>\n",
       "    </tr>\n",
       "    <tr>\n",
       "      <th>1</th>\n",
       "      <td>2</td>\n",
       "      <td>Annotator</td>\n",
       "      <td>0</td>\n",
       "    </tr>\n",
       "    <tr>\n",
       "      <th>2</th>\n",
       "      <td>3</td>\n",
       "      <td>BatchEE</td>\n",
       "      <td>0</td>\n",
       "    </tr>\n",
       "  </tbody>\n",
       "</table>\n",
       "</div>"
      ],
      "text/plain": [
       "   listid   listname  status\n",
       "0       1  Amaterasu       0\n",
       "1       2  Annotator       0\n",
       "2       3    BatchEE       0"
      ]
     },
     "execution_count": 187,
     "metadata": {},
     "output_type": "execute_result"
    }
   ],
   "source": [
    "projects.head(3)"
   ]
  },
  {
   "cell_type": "markdown",
   "metadata": {},
   "source": [
    "*Reading the commits*"
   ]
  },
  {
   "cell_type": "code",
   "execution_count": 58,
   "metadata": {},
   "outputs": [],
   "source": [
    "com=commits[['list','authorid','committerid']]"
   ]
  },
  {
   "cell_type": "code",
   "execution_count": 142,
   "metadata": {},
   "outputs": [
    {
     "data": {
      "text/html": [
       "<div>\n",
       "<style scoped>\n",
       "    .dataframe tbody tr th:only-of-type {\n",
       "        vertical-align: middle;\n",
       "    }\n",
       "\n",
       "    .dataframe tbody tr th {\n",
       "        vertical-align: top;\n",
       "    }\n",
       "\n",
       "    .dataframe thead th {\n",
       "        text-align: right;\n",
       "    }\n",
       "</style>\n",
       "<table border=\"1\" class=\"dataframe\">\n",
       "  <thead>\n",
       "    <tr style=\"text-align: right;\">\n",
       "      <th></th>\n",
       "      <th>list</th>\n",
       "      <th>authorid</th>\n",
       "      <th>committerid</th>\n",
       "    </tr>\n",
       "  </thead>\n",
       "  <tbody>\n",
       "    <tr>\n",
       "      <th>0</th>\n",
       "      <td>54</td>\n",
       "      <td>2846</td>\n",
       "      <td>2846</td>\n",
       "    </tr>\n",
       "    <tr>\n",
       "      <th>1</th>\n",
       "      <td>54</td>\n",
       "      <td>2846</td>\n",
       "      <td>2846</td>\n",
       "    </tr>\n",
       "    <tr>\n",
       "      <th>2</th>\n",
       "      <td>54</td>\n",
       "      <td>2846</td>\n",
       "      <td>2846</td>\n",
       "    </tr>\n",
       "  </tbody>\n",
       "</table>\n",
       "</div>"
      ],
      "text/plain": [
       "   list  authorid  committerid\n",
       "0    54      2846         2846\n",
       "1    54      2846         2846\n",
       "2    54      2846         2846"
      ]
     },
     "execution_count": 142,
     "metadata": {},
     "output_type": "execute_result"
    }
   ],
   "source": [
    "com.head(3)"
   ]
  },
  {
   "cell_type": "markdown",
   "metadata": {},
   "source": [
    "*Reading alias*"
   ]
  },
  {
   "cell_type": "code",
   "execution_count": 59,
   "metadata": {},
   "outputs": [],
   "source": [
    "devs=alias[['aliasid','name','email']]"
   ]
  },
  {
   "cell_type": "code",
   "execution_count": 60,
   "metadata": {},
   "outputs": [
    {
     "name": "stderr",
     "output_type": "stream",
     "text": [
      "/tmp/ipykernel_261583/2314199456.py:2: SettingWithCopyWarning: \n",
      "A value is trying to be set on a copy of a slice from a DataFrame.\n",
      "Try using .loc[row_indexer,col_indexer] = value instead\n",
      "\n",
      "See the caveats in the documentation: https://pandas.pydata.org/pandas-docs/stable/user_guide/indexing.html#returning-a-view-versus-a-copy\n",
      "  devs['name'] = devs['name'].str.lower()\n"
     ]
    }
   ],
   "source": [
    "# Convert all values in the 'listname' column to lowercase\n",
    "devs['name'] = devs['name'].str.lower()"
   ]
  },
  {
   "cell_type": "code",
   "execution_count": 8,
   "metadata": {},
   "outputs": [
    {
     "data": {
      "text/html": [
       "<div>\n",
       "<style scoped>\n",
       "    .dataframe tbody tr th:only-of-type {\n",
       "        vertical-align: middle;\n",
       "    }\n",
       "\n",
       "    .dataframe tbody tr th {\n",
       "        vertical-align: top;\n",
       "    }\n",
       "\n",
       "    .dataframe thead th {\n",
       "        text-align: right;\n",
       "    }\n",
       "</style>\n",
       "<table border=\"1\" class=\"dataframe\">\n",
       "  <thead>\n",
       "    <tr style=\"text-align: right;\">\n",
       "      <th></th>\n",
       "      <th>aliasid</th>\n",
       "      <th>name</th>\n",
       "      <th>email</th>\n",
       "    </tr>\n",
       "  </thead>\n",
       "  <tbody>\n",
       "    <tr>\n",
       "      <th>0</th>\n",
       "      <td>22233</td>\n",
       "      <td>andy seaborne (assigned) (jira)</td>\n",
       "      <td>jira@apache.org</td>\n",
       "    </tr>\n",
       "    <tr>\n",
       "      <th>1</th>\n",
       "      <td>12937</td>\n",
       "      <td>olivier lamy</td>\n",
       "      <td>reply+i-2355594-3a189c6b1c866515f1dd1db09f4f45...</td>\n",
       "    </tr>\n",
       "    <tr>\n",
       "      <th>2</th>\n",
       "      <td>12967</td>\n",
       "      <td>olivier lamy (reopened) (jira)</td>\n",
       "      <td>jira@apache.org</td>\n",
       "    </tr>\n",
       "  </tbody>\n",
       "</table>\n",
       "</div>"
      ],
      "text/plain": [
       "   aliasid                             name  \\\n",
       "0    22233  andy seaborne (assigned) (jira)   \n",
       "1    12937                     olivier lamy   \n",
       "2    12967   olivier lamy (reopened) (jira)   \n",
       "\n",
       "                                               email  \n",
       "0                                    jira@apache.org  \n",
       "1  reply+i-2355594-3a189c6b1c866515f1dd1db09f4f45...  \n",
       "2                                    jira@apache.org  "
      ]
     },
     "execution_count": 8,
     "metadata": {},
     "output_type": "execute_result"
    }
   ],
   "source": [
    "devs.head(3)"
   ]
  },
  {
   "cell_type": "code",
   "execution_count": 61,
   "metadata": {},
   "outputs": [
    {
     "name": "stdout",
     "output_type": "stream",
     "text": [
      "(3655492, 3)\n",
      "(312, 3)\n",
      "(47078, 3)\n"
     ]
    }
   ],
   "source": [
    "print(com.shape)\n",
    "print(projects.shape)\n",
    "print(devs.shape)"
   ]
  },
  {
   "cell_type": "code",
   "execution_count": 62,
   "metadata": {},
   "outputs": [
    {
     "name": "stderr",
     "output_type": "stream",
     "text": [
      "/tmp/ipykernel_261583/816927746.py:1: SettingWithCopyWarning: \n",
      "A value is trying to be set on a copy of a slice from a DataFrame\n",
      "\n",
      "See the caveats in the documentation: https://pandas.pydata.org/pandas-docs/stable/user_guide/indexing.html#returning-a-view-versus-a-copy\n",
      "  projects.rename(columns={'listid': 'project_id'}, inplace=True)\n",
      "/tmp/ipykernel_261583/816927746.py:2: SettingWithCopyWarning: \n",
      "A value is trying to be set on a copy of a slice from a DataFrame\n",
      "\n",
      "See the caveats in the documentation: https://pandas.pydata.org/pandas-docs/stable/user_guide/indexing.html#returning-a-view-versus-a-copy\n",
      "  projects.rename(columns={'listname': 'project_name'}, inplace=True)\n",
      "/tmp/ipykernel_261583/816927746.py:3: SettingWithCopyWarning: \n",
      "A value is trying to be set on a copy of a slice from a DataFrame\n",
      "\n",
      "See the caveats in the documentation: https://pandas.pydata.org/pandas-docs/stable/user_guide/indexing.html#returning-a-view-versus-a-copy\n",
      "  projects.rename(columns={'status': 'project_status'}, inplace=True)\n"
     ]
    }
   ],
   "source": [
    "projects.rename(columns={'listid': 'project_id'}, inplace=True)\n",
    "projects.rename(columns={'listname': 'project_name'}, inplace=True)\n",
    "projects.rename(columns={'status': 'project_status'}, inplace=True)"
   ]
  },
  {
   "cell_type": "code",
   "execution_count": 64,
   "metadata": {},
   "outputs": [
    {
     "data": {
      "text/plain": [
       "Index(['project_id', 'project_name', 'project_status'], dtype='object')"
      ]
     },
     "execution_count": 64,
     "metadata": {},
     "output_type": "execute_result"
    }
   ],
   "source": [
    "projects.columns"
   ]
  },
  {
   "cell_type": "code",
   "execution_count": 63,
   "metadata": {},
   "outputs": [
    {
     "name": "stderr",
     "output_type": "stream",
     "text": [
      "/tmp/ipykernel_261583/3586036795.py:1: SettingWithCopyWarning: \n",
      "A value is trying to be set on a copy of a slice from a DataFrame\n",
      "\n",
      "See the caveats in the documentation: https://pandas.pydata.org/pandas-docs/stable/user_guide/indexing.html#returning-a-view-versus-a-copy\n",
      "  com.rename(columns={'list': 'project_id'}, inplace=True)\n",
      "/tmp/ipykernel_261583/3586036795.py:2: SettingWithCopyWarning: \n",
      "A value is trying to be set on a copy of a slice from a DataFrame\n",
      "\n",
      "See the caveats in the documentation: https://pandas.pydata.org/pandas-docs/stable/user_guide/indexing.html#returning-a-view-versus-a-copy\n",
      "  com.rename(columns={'authorid': 'alias_id'}, inplace=True)\n"
     ]
    }
   ],
   "source": [
    "com.rename(columns={'list': 'project_id'}, inplace=True)\n",
    "com.rename(columns={'authorid': 'alias_id'}, inplace=True)"
   ]
  },
  {
   "cell_type": "code",
   "execution_count": 65,
   "metadata": {},
   "outputs": [
    {
     "data": {
      "text/plain": [
       "Index(['project_id', 'alias_id', 'committerid'], dtype='object')"
      ]
     },
     "execution_count": 65,
     "metadata": {},
     "output_type": "execute_result"
    }
   ],
   "source": [
    "com.columns"
   ]
  },
  {
   "cell_type": "code",
   "execution_count": 66,
   "metadata": {},
   "outputs": [
    {
     "name": "stderr",
     "output_type": "stream",
     "text": [
      "/tmp/ipykernel_261583/74888050.py:1: SettingWithCopyWarning: \n",
      "A value is trying to be set on a copy of a slice from a DataFrame\n",
      "\n",
      "See the caveats in the documentation: https://pandas.pydata.org/pandas-docs/stable/user_guide/indexing.html#returning-a-view-versus-a-copy\n",
      "  devs.rename(columns={'aliasid': 'alias_id'}, inplace=True)\n",
      "/tmp/ipykernel_261583/74888050.py:2: SettingWithCopyWarning: \n",
      "A value is trying to be set on a copy of a slice from a DataFrame\n",
      "\n",
      "See the caveats in the documentation: https://pandas.pydata.org/pandas-docs/stable/user_guide/indexing.html#returning-a-view-versus-a-copy\n",
      "  devs.rename(columns={'name': 'dev_name'}, inplace=True)\n"
     ]
    }
   ],
   "source": [
    "devs.rename(columns={'aliasid': 'alias_id'}, inplace=True)\n",
    "devs.rename(columns={'name': 'dev_name'}, inplace=True)"
   ]
  },
  {
   "cell_type": "code",
   "execution_count": 15,
   "metadata": {},
   "outputs": [
    {
     "data": {
      "text/plain": [
       "Index(['alias_id', 'dev_name', 'email'], dtype='object')"
      ]
     },
     "execution_count": 15,
     "metadata": {},
     "output_type": "execute_result"
    }
   ],
   "source": [
    "devs.columns"
   ]
  },
  {
   "cell_type": "markdown",
   "metadata": {},
   "source": [
    "**Right Outer join projects and commits table**"
   ]
  },
  {
   "cell_type": "code",
   "execution_count": 67,
   "metadata": {},
   "outputs": [],
   "source": [
    "# Right Outer Join\n",
    "projects_commits = projects.merge(com, on='project_id', how='right')"
   ]
  },
  {
   "cell_type": "code",
   "execution_count": 68,
   "metadata": {},
   "outputs": [
    {
     "data": {
      "text/html": [
       "<div>\n",
       "<style scoped>\n",
       "    .dataframe tbody tr th:only-of-type {\n",
       "        vertical-align: middle;\n",
       "    }\n",
       "\n",
       "    .dataframe tbody tr th {\n",
       "        vertical-align: top;\n",
       "    }\n",
       "\n",
       "    .dataframe thead th {\n",
       "        text-align: right;\n",
       "    }\n",
       "</style>\n",
       "<table border=\"1\" class=\"dataframe\">\n",
       "  <thead>\n",
       "    <tr style=\"text-align: right;\">\n",
       "      <th></th>\n",
       "      <th>project_id</th>\n",
       "      <th>project_name</th>\n",
       "      <th>project_status</th>\n",
       "      <th>alias_id</th>\n",
       "      <th>committerid</th>\n",
       "    </tr>\n",
       "  </thead>\n",
       "  <tbody>\n",
       "    <tr>\n",
       "      <th>0</th>\n",
       "      <td>54</td>\n",
       "      <td>airflow</td>\n",
       "      <td>1</td>\n",
       "      <td>2846</td>\n",
       "      <td>2846</td>\n",
       "    </tr>\n",
       "    <tr>\n",
       "      <th>1</th>\n",
       "      <td>54</td>\n",
       "      <td>airflow</td>\n",
       "      <td>1</td>\n",
       "      <td>2846</td>\n",
       "      <td>2846</td>\n",
       "    </tr>\n",
       "    <tr>\n",
       "      <th>2</th>\n",
       "      <td>54</td>\n",
       "      <td>airflow</td>\n",
       "      <td>1</td>\n",
       "      <td>2846</td>\n",
       "      <td>2846</td>\n",
       "    </tr>\n",
       "    <tr>\n",
       "      <th>3</th>\n",
       "      <td>54</td>\n",
       "      <td>airflow</td>\n",
       "      <td>1</td>\n",
       "      <td>2846</td>\n",
       "      <td>2846</td>\n",
       "    </tr>\n",
       "    <tr>\n",
       "      <th>4</th>\n",
       "      <td>54</td>\n",
       "      <td>airflow</td>\n",
       "      <td>1</td>\n",
       "      <td>2846</td>\n",
       "      <td>2846</td>\n",
       "    </tr>\n",
       "    <tr>\n",
       "      <th>5</th>\n",
       "      <td>54</td>\n",
       "      <td>airflow</td>\n",
       "      <td>1</td>\n",
       "      <td>2846</td>\n",
       "      <td>2846</td>\n",
       "    </tr>\n",
       "    <tr>\n",
       "      <th>6</th>\n",
       "      <td>54</td>\n",
       "      <td>airflow</td>\n",
       "      <td>1</td>\n",
       "      <td>2846</td>\n",
       "      <td>2846</td>\n",
       "    </tr>\n",
       "    <tr>\n",
       "      <th>7</th>\n",
       "      <td>54</td>\n",
       "      <td>airflow</td>\n",
       "      <td>1</td>\n",
       "      <td>2846</td>\n",
       "      <td>2846</td>\n",
       "    </tr>\n",
       "    <tr>\n",
       "      <th>8</th>\n",
       "      <td>54</td>\n",
       "      <td>airflow</td>\n",
       "      <td>1</td>\n",
       "      <td>2846</td>\n",
       "      <td>2846</td>\n",
       "    </tr>\n",
       "    <tr>\n",
       "      <th>9</th>\n",
       "      <td>54</td>\n",
       "      <td>airflow</td>\n",
       "      <td>1</td>\n",
       "      <td>2846</td>\n",
       "      <td>2846</td>\n",
       "    </tr>\n",
       "  </tbody>\n",
       "</table>\n",
       "</div>"
      ],
      "text/plain": [
       "   project_id project_name  project_status  alias_id  committerid\n",
       "0          54      airflow               1      2846         2846\n",
       "1          54      airflow               1      2846         2846\n",
       "2          54      airflow               1      2846         2846\n",
       "3          54      airflow               1      2846         2846\n",
       "4          54      airflow               1      2846         2846\n",
       "5          54      airflow               1      2846         2846\n",
       "6          54      airflow               1      2846         2846\n",
       "7          54      airflow               1      2846         2846\n",
       "8          54      airflow               1      2846         2846\n",
       "9          54      airflow               1      2846         2846"
      ]
     },
     "execution_count": 68,
     "metadata": {},
     "output_type": "execute_result"
    }
   ],
   "source": [
    "projects_commits.head(10)"
   ]
  },
  {
   "cell_type": "code",
   "execution_count": 69,
   "metadata": {},
   "outputs": [
    {
     "data": {
      "text/plain": [
       "(3655492, 5)"
      ]
     },
     "execution_count": 69,
     "metadata": {},
     "output_type": "execute_result"
    }
   ],
   "source": [
    "projects_commits.shape"
   ]
  },
  {
   "cell_type": "markdown",
   "metadata": {},
   "source": [
    "**This means we got 3655492 commits from 263 projects**"
   ]
  },
  {
   "cell_type": "code",
   "execution_count": 70,
   "metadata": {},
   "outputs": [
    {
     "name": "stdout",
     "output_type": "stream",
     "text": [
      "[ 54 256 132  55 129 128 276 254   1  56   2  58  59  49 277  65 130  61\n",
      "  62  63  64 257   3  70  67  68  69 259 260  81  71  66  72  73  74  75\n",
      "  76  77  78  79  80 179  83 261  82 263  92 264  84   5  85  86  87  88\n",
      "   6  89  90  91  13  93  94  95  96   8  10  97 267  11  98  99 100  12\n",
      " 106 113  14 107 108 109 110 112 268 101 102 103 104 105  15 121  57 116\n",
      " 269 270 176 117 177 178 181 118 183 184 185 186 188 291  52 190 119  29\n",
      " 292 191 192 195  50 196 197 135 136 120 137 139  51 279 142 280 143 145\n",
      "  21 283 154 156 157 159 160 161 163 285 164  24  25  26 168 169 286 287\n",
      " 170 171 172 173 289 115 122 131 223 199 295 200 296 201 123 203 271  33\n",
      " 297 124 204 205 207 208 209 210  37 298 211 272  16 273  17 212 213 214\n",
      " 215 216 217 218 127 219 301 253  53  39 225 302  41 229 230 231 232  43\n",
      " 235 303 238 240 241 242 243 244 306 246 248 250 308 310 252 312  18  20\n",
      " 153 288  30  31  45  48 134 138 141 281 144 146 155  23 167 175  27 182\n",
      " 290 189 187  28 194 293 294 206 202  32  34  35 299  38 222 220 221 227\n",
      " 226  40  42 234 236 239 305 247 311   7  44]\n",
      "263\n"
     ]
    }
   ],
   "source": [
    "unique_values = projects_commits['project_id'].unique()\n",
    "print(unique_values)\n",
    "print(unique_values.size)"
   ]
  },
  {
   "cell_type": "code",
   "execution_count": 71,
   "metadata": {},
   "outputs": [],
   "source": [
    "# Right Outer Join on people_id\n",
    "merged = devs.merge(projects_commits, on='alias_id', how='right')"
   ]
  },
  {
   "cell_type": "code",
   "execution_count": 72,
   "metadata": {},
   "outputs": [
    {
     "data": {
      "text/html": [
       "<div>\n",
       "<style scoped>\n",
       "    .dataframe tbody tr th:only-of-type {\n",
       "        vertical-align: middle;\n",
       "    }\n",
       "\n",
       "    .dataframe tbody tr th {\n",
       "        vertical-align: top;\n",
       "    }\n",
       "\n",
       "    .dataframe thead th {\n",
       "        text-align: right;\n",
       "    }\n",
       "</style>\n",
       "<table border=\"1\" class=\"dataframe\">\n",
       "  <thead>\n",
       "    <tr style=\"text-align: right;\">\n",
       "      <th></th>\n",
       "      <th>alias_id</th>\n",
       "      <th>dev_name</th>\n",
       "      <th>email</th>\n",
       "      <th>project_id</th>\n",
       "      <th>project_name</th>\n",
       "      <th>project_status</th>\n",
       "      <th>committerid</th>\n",
       "    </tr>\n",
       "  </thead>\n",
       "  <tbody>\n",
       "    <tr>\n",
       "      <th>0</th>\n",
       "      <td>2846</td>\n",
       "      <td>kaxilnaik</td>\n",
       "      <td>kaxilnaik@apache.org</td>\n",
       "      <td>54</td>\n",
       "      <td>airflow</td>\n",
       "      <td>1</td>\n",
       "      <td>2846</td>\n",
       "    </tr>\n",
       "    <tr>\n",
       "      <th>1</th>\n",
       "      <td>2846</td>\n",
       "      <td>kaxilnaik</td>\n",
       "      <td>kaxilnaik@apache.org</td>\n",
       "      <td>54</td>\n",
       "      <td>airflow</td>\n",
       "      <td>1</td>\n",
       "      <td>2846</td>\n",
       "    </tr>\n",
       "    <tr>\n",
       "      <th>2</th>\n",
       "      <td>2846</td>\n",
       "      <td>kaxilnaik</td>\n",
       "      <td>kaxilnaik@apache.org</td>\n",
       "      <td>54</td>\n",
       "      <td>airflow</td>\n",
       "      <td>1</td>\n",
       "      <td>2846</td>\n",
       "    </tr>\n",
       "    <tr>\n",
       "      <th>3</th>\n",
       "      <td>2846</td>\n",
       "      <td>kaxilnaik</td>\n",
       "      <td>kaxilnaik@apache.org</td>\n",
       "      <td>54</td>\n",
       "      <td>airflow</td>\n",
       "      <td>1</td>\n",
       "      <td>2846</td>\n",
       "    </tr>\n",
       "    <tr>\n",
       "      <th>4</th>\n",
       "      <td>2846</td>\n",
       "      <td>kaxilnaik</td>\n",
       "      <td>kaxilnaik@apache.org</td>\n",
       "      <td>54</td>\n",
       "      <td>airflow</td>\n",
       "      <td>1</td>\n",
       "      <td>2846</td>\n",
       "    </tr>\n",
       "    <tr>\n",
       "      <th>5</th>\n",
       "      <td>2846</td>\n",
       "      <td>kaxilnaik</td>\n",
       "      <td>kaxilnaik@apache.org</td>\n",
       "      <td>54</td>\n",
       "      <td>airflow</td>\n",
       "      <td>1</td>\n",
       "      <td>2846</td>\n",
       "    </tr>\n",
       "    <tr>\n",
       "      <th>6</th>\n",
       "      <td>2846</td>\n",
       "      <td>kaxilnaik</td>\n",
       "      <td>kaxilnaik@apache.org</td>\n",
       "      <td>54</td>\n",
       "      <td>airflow</td>\n",
       "      <td>1</td>\n",
       "      <td>2846</td>\n",
       "    </tr>\n",
       "    <tr>\n",
       "      <th>7</th>\n",
       "      <td>2846</td>\n",
       "      <td>kaxilnaik</td>\n",
       "      <td>kaxilnaik@apache.org</td>\n",
       "      <td>54</td>\n",
       "      <td>airflow</td>\n",
       "      <td>1</td>\n",
       "      <td>2846</td>\n",
       "    </tr>\n",
       "    <tr>\n",
       "      <th>8</th>\n",
       "      <td>2846</td>\n",
       "      <td>kaxilnaik</td>\n",
       "      <td>kaxilnaik@apache.org</td>\n",
       "      <td>54</td>\n",
       "      <td>airflow</td>\n",
       "      <td>1</td>\n",
       "      <td>2846</td>\n",
       "    </tr>\n",
       "    <tr>\n",
       "      <th>9</th>\n",
       "      <td>2846</td>\n",
       "      <td>kaxilnaik</td>\n",
       "      <td>kaxilnaik@apache.org</td>\n",
       "      <td>54</td>\n",
       "      <td>airflow</td>\n",
       "      <td>1</td>\n",
       "      <td>2846</td>\n",
       "    </tr>\n",
       "  </tbody>\n",
       "</table>\n",
       "</div>"
      ],
      "text/plain": [
       "   alias_id   dev_name                 email  project_id project_name  \\\n",
       "0      2846  kaxilnaik  kaxilnaik@apache.org          54      airflow   \n",
       "1      2846  kaxilnaik  kaxilnaik@apache.org          54      airflow   \n",
       "2      2846  kaxilnaik  kaxilnaik@apache.org          54      airflow   \n",
       "3      2846  kaxilnaik  kaxilnaik@apache.org          54      airflow   \n",
       "4      2846  kaxilnaik  kaxilnaik@apache.org          54      airflow   \n",
       "5      2846  kaxilnaik  kaxilnaik@apache.org          54      airflow   \n",
       "6      2846  kaxilnaik  kaxilnaik@apache.org          54      airflow   \n",
       "7      2846  kaxilnaik  kaxilnaik@apache.org          54      airflow   \n",
       "8      2846  kaxilnaik  kaxilnaik@apache.org          54      airflow   \n",
       "9      2846  kaxilnaik  kaxilnaik@apache.org          54      airflow   \n",
       "\n",
       "   project_status  committerid  \n",
       "0               1         2846  \n",
       "1               1         2846  \n",
       "2               1         2846  \n",
       "3               1         2846  \n",
       "4               1         2846  \n",
       "5               1         2846  \n",
       "6               1         2846  \n",
       "7               1         2846  \n",
       "8               1         2846  \n",
       "9               1         2846  "
      ]
     },
     "execution_count": 72,
     "metadata": {},
     "output_type": "execute_result"
    }
   ],
   "source": [
    "merged.head(10)"
   ]
  },
  {
   "cell_type": "code",
   "execution_count": 73,
   "metadata": {},
   "outputs": [
    {
     "data": {
      "text/plain": [
       "(3655492, 7)"
      ]
     },
     "execution_count": 73,
     "metadata": {},
     "output_type": "execute_result"
    }
   ],
   "source": [
    "merged.shape"
   ]
  },
  {
   "cell_type": "markdown",
   "metadata": {},
   "source": [
    "**So we finally got all the commit details with relevant projects and committers**"
   ]
  },
  {
   "cell_type": "code",
   "execution_count": 22,
   "metadata": {},
   "outputs": [
    {
     "name": "stdout",
     "output_type": "stream",
     "text": [
      "True\n"
     ]
    }
   ],
   "source": [
    "# Check if a column contains NaN\n",
    "has_nan = merged['dev_name'].isna().any()\n",
    "\n",
    "print(has_nan)  # We have some people with no names"
   ]
  },
  {
   "cell_type": "code",
   "execution_count": 210,
   "metadata": {},
   "outputs": [
    {
     "name": "stdout",
     "output_type": "stream",
     "text": [
      "alias_id\n",
      "12991    8\n",
      "Name: count, dtype: int64\n"
     ]
    }
   ],
   "source": [
    "# Filter rows which has atleast one nan value\n",
    "rows_with_nan = merged[merged['dev_name'].isna()]\n",
    "\n",
    "# print(rows_with_nan)\n",
    "\n",
    "# Count occurrences of each unique value in a column\n",
    "unique_value_counts = rows_with_nan['alias_id'].value_counts()\n",
    "\n",
    "print(unique_value_counts)"
   ]
  },
  {
   "cell_type": "markdown",
   "metadata": {},
   "source": [
    "**We determine Core Developers here**"
   ]
  },
  {
   "cell_type": "code",
   "execution_count": 74,
   "metadata": {},
   "outputs": [
    {
     "name": "stdout",
     "output_type": "stream",
     "text": [
      "      project_id  alias_id  commit_count  total_commits  num_people  \\\n",
      "0              1      4097            39             39           1   \n",
      "5              2      4427           110            161           6   \n",
      "2              2      4423            22            161           6   \n",
      "4              2      4425            21            161           6   \n",
      "6              2      4428             4            161           6   \n",
      "...          ...       ...           ...            ...         ...   \n",
      "7815         311     45916            35          13625           7   \n",
      "7817         311     45919            12          13625           7   \n",
      "7818         312     21969            52            102           3   \n",
      "7819         312     47081            30            102           3   \n",
      "7820         312     47083            20            102           3   \n",
      "\n",
      "      average_commits  commit_percentage  cumulative_commit_percentage  \\\n",
      "0           39.000000         100.000000                    100.000000   \n",
      "5           26.833333          68.322981                     68.322981   \n",
      "2           26.833333          13.664596                     81.987578   \n",
      "4           26.833333          13.043478                     95.031056   \n",
      "6           26.833333           2.484472                     97.515528   \n",
      "...               ...                ...                           ...   \n",
      "7815      1946.428571           0.256881                     99.911927   \n",
      "7817      1946.428571           0.088073                    100.000000   \n",
      "7818        34.000000          50.980392                     50.980392   \n",
      "7819        34.000000          29.411765                     80.392157   \n",
      "7820        34.000000          19.607843                    100.000000   \n",
      "\n",
      "     Core_Developer  Total_Core_Developers  \n",
      "0               Yes                      1  \n",
      "5               Yes                      1  \n",
      "2                No                      1  \n",
      "4                No                      1  \n",
      "6                No                      1  \n",
      "...             ...                    ...  \n",
      "7815             No                      3  \n",
      "7817             No                      3  \n",
      "7818            Yes                      1  \n",
      "7819             No                      1  \n",
      "7820             No                      1  \n",
      "\n",
      "[7821 rows x 10 columns]\n"
     ]
    },
    {
     "name": "stderr",
     "output_type": "stream",
     "text": [
      "/tmp/ipykernel_261583/2453455463.py:46: DeprecationWarning: DataFrameGroupBy.apply operated on the grouping columns. This behavior is deprecated, and in a future version of pandas the grouping columns will be excluded from the operation. Either pass `include_groups=False` to exclude the groupings or explicitly select the grouping columns after groupby to silence this warning.\n",
      "  result_df = result_df.groupby('project_id', group_keys=False).apply(identify_core_devs)\n"
     ]
    }
   ],
   "source": [
    "df = merged\n",
    "\n",
    "# Count total commits per person per project\n",
    "commit_counts = df.groupby(['project_id', 'alias_id']).size().reset_index(name='commit_count')\n",
    "\n",
    "# Count total commits per project\n",
    "total_commits_per_project = df.groupby('project_id').size().reset_index(name='total_commits')\n",
    "\n",
    "# Count unique people per project\n",
    "num_people_per_project = df.groupby('project_id')['alias_id'].nunique().reset_index(name='num_people')\n",
    "\n",
    "# Merge all the information\n",
    "result_df = commit_counts.merge(total_commits_per_project, on='project_id').merge(num_people_per_project, on='project_id')\n",
    "\n",
    "# Calculate average commits per person in the project\n",
    "result_df['average_commits'] = result_df['total_commits'] / result_df['num_people']\n",
    "\n",
    "# Calculate percentage of total commits each person made\n",
    "result_df['commit_percentage'] = (result_df['commit_count'] / result_df['total_commits']) * 100\n",
    "\n",
    "# Sort by project_id first, then by commit_percentage in descending order\n",
    "result_df = result_df.sort_values(by=['project_id', 'commit_percentage'], ascending=[True, False])\n",
    "\n",
    "# Calculate cumulative sum of commit percentage within each project\n",
    "result_df['cumulative_commit_percentage'] = result_df.groupby('project_id')['commit_percentage'].cumsum()\n",
    "\n",
    "# Identify Core Developers\n",
    "def identify_core_devs(group):\n",
    "    core_devs = []\n",
    "    cumulative_percentage = 0\n",
    "    \n",
    "    for index, row in group.iterrows():\n",
    "        if row['commit_count'] < row['average_commits']:  # Stop if below average commits\n",
    "            break\n",
    "        cumulative_percentage += row['commit_percentage']\n",
    "        core_devs.append(index)\n",
    "        if cumulative_percentage >= 90:  # Stop if cumulative commits reach 90%+\n",
    "            break\n",
    "    \n",
    "    group['Core_Developer'] = 'No'\n",
    "    group.loc[core_devs, 'Core_Developer'] = 'Yes'\n",
    "    group['Total_Core_Developers'] = group['Core_Developer'].eq('Yes').sum()\n",
    "    return group\n",
    "\n",
    "# Apply function per project\n",
    "result_df = result_df.groupby('project_id', group_keys=False).apply(identify_core_devs)\n",
    "\n",
    "# Display result\n",
    "print(result_df)"
   ]
  },
  {
   "cell_type": "code",
   "execution_count": 75,
   "metadata": {},
   "outputs": [
    {
     "data": {
      "text/html": [
       "<div>\n",
       "<style scoped>\n",
       "    .dataframe tbody tr th:only-of-type {\n",
       "        vertical-align: middle;\n",
       "    }\n",
       "\n",
       "    .dataframe tbody tr th {\n",
       "        vertical-align: top;\n",
       "    }\n",
       "\n",
       "    .dataframe thead th {\n",
       "        text-align: right;\n",
       "    }\n",
       "</style>\n",
       "<table border=\"1\" class=\"dataframe\">\n",
       "  <thead>\n",
       "    <tr style=\"text-align: right;\">\n",
       "      <th></th>\n",
       "      <th>project_id</th>\n",
       "      <th>alias_id</th>\n",
       "      <th>commit_count</th>\n",
       "      <th>total_commits</th>\n",
       "      <th>num_people</th>\n",
       "      <th>average_commits</th>\n",
       "      <th>commit_percentage</th>\n",
       "      <th>cumulative_commit_percentage</th>\n",
       "      <th>Core_Developer</th>\n",
       "      <th>Total_Core_Developers</th>\n",
       "    </tr>\n",
       "  </thead>\n",
       "  <tbody>\n",
       "    <tr>\n",
       "      <th>0</th>\n",
       "      <td>1</td>\n",
       "      <td>4097</td>\n",
       "      <td>39</td>\n",
       "      <td>39</td>\n",
       "      <td>1</td>\n",
       "      <td>39.000000</td>\n",
       "      <td>100.000000</td>\n",
       "      <td>100.000000</td>\n",
       "      <td>Yes</td>\n",
       "      <td>1</td>\n",
       "    </tr>\n",
       "    <tr>\n",
       "      <th>5</th>\n",
       "      <td>2</td>\n",
       "      <td>4427</td>\n",
       "      <td>110</td>\n",
       "      <td>161</td>\n",
       "      <td>6</td>\n",
       "      <td>26.833333</td>\n",
       "      <td>68.322981</td>\n",
       "      <td>68.322981</td>\n",
       "      <td>Yes</td>\n",
       "      <td>1</td>\n",
       "    </tr>\n",
       "    <tr>\n",
       "      <th>2</th>\n",
       "      <td>2</td>\n",
       "      <td>4423</td>\n",
       "      <td>22</td>\n",
       "      <td>161</td>\n",
       "      <td>6</td>\n",
       "      <td>26.833333</td>\n",
       "      <td>13.664596</td>\n",
       "      <td>81.987578</td>\n",
       "      <td>No</td>\n",
       "      <td>1</td>\n",
       "    </tr>\n",
       "    <tr>\n",
       "      <th>4</th>\n",
       "      <td>2</td>\n",
       "      <td>4425</td>\n",
       "      <td>21</td>\n",
       "      <td>161</td>\n",
       "      <td>6</td>\n",
       "      <td>26.833333</td>\n",
       "      <td>13.043478</td>\n",
       "      <td>95.031056</td>\n",
       "      <td>No</td>\n",
       "      <td>1</td>\n",
       "    </tr>\n",
       "    <tr>\n",
       "      <th>6</th>\n",
       "      <td>2</td>\n",
       "      <td>4428</td>\n",
       "      <td>4</td>\n",
       "      <td>161</td>\n",
       "      <td>6</td>\n",
       "      <td>26.833333</td>\n",
       "      <td>2.484472</td>\n",
       "      <td>97.515528</td>\n",
       "      <td>No</td>\n",
       "      <td>1</td>\n",
       "    </tr>\n",
       "    <tr>\n",
       "      <th>3</th>\n",
       "      <td>2</td>\n",
       "      <td>4424</td>\n",
       "      <td>3</td>\n",
       "      <td>161</td>\n",
       "      <td>6</td>\n",
       "      <td>26.833333</td>\n",
       "      <td>1.863354</td>\n",
       "      <td>99.378882</td>\n",
       "      <td>No</td>\n",
       "      <td>1</td>\n",
       "    </tr>\n",
       "    <tr>\n",
       "      <th>1</th>\n",
       "      <td>2</td>\n",
       "      <td>4422</td>\n",
       "      <td>1</td>\n",
       "      <td>161</td>\n",
       "      <td>6</td>\n",
       "      <td>26.833333</td>\n",
       "      <td>0.621118</td>\n",
       "      <td>100.000000</td>\n",
       "      <td>No</td>\n",
       "      <td>1</td>\n",
       "    </tr>\n",
       "    <tr>\n",
       "      <th>7</th>\n",
       "      <td>3</td>\n",
       "      <td>4099</td>\n",
       "      <td>3037</td>\n",
       "      <td>8287</td>\n",
       "      <td>13</td>\n",
       "      <td>637.461538</td>\n",
       "      <td>36.647762</td>\n",
       "      <td>36.647762</td>\n",
       "      <td>Yes</td>\n",
       "      <td>3</td>\n",
       "    </tr>\n",
       "    <tr>\n",
       "      <th>10</th>\n",
       "      <td>3</td>\n",
       "      <td>5924</td>\n",
       "      <td>2603</td>\n",
       "      <td>8287</td>\n",
       "      <td>13</td>\n",
       "      <td>637.461538</td>\n",
       "      <td>31.410643</td>\n",
       "      <td>68.058405</td>\n",
       "      <td>Yes</td>\n",
       "      <td>3</td>\n",
       "    </tr>\n",
       "    <tr>\n",
       "      <th>19</th>\n",
       "      <td>3</td>\n",
       "      <td>5933</td>\n",
       "      <td>1242</td>\n",
       "      <td>8287</td>\n",
       "      <td>13</td>\n",
       "      <td>637.461538</td>\n",
       "      <td>14.987330</td>\n",
       "      <td>83.045734</td>\n",
       "      <td>Yes</td>\n",
       "      <td>3</td>\n",
       "    </tr>\n",
       "    <tr>\n",
       "      <th>12</th>\n",
       "      <td>3</td>\n",
       "      <td>5926</td>\n",
       "      <td>476</td>\n",
       "      <td>8287</td>\n",
       "      <td>13</td>\n",
       "      <td>637.461538</td>\n",
       "      <td>5.743936</td>\n",
       "      <td>88.789671</td>\n",
       "      <td>No</td>\n",
       "      <td>3</td>\n",
       "    </tr>\n",
       "    <tr>\n",
       "      <th>11</th>\n",
       "      <td>3</td>\n",
       "      <td>5925</td>\n",
       "      <td>363</td>\n",
       "      <td>8287</td>\n",
       "      <td>13</td>\n",
       "      <td>637.461538</td>\n",
       "      <td>4.380355</td>\n",
       "      <td>93.170025</td>\n",
       "      <td>No</td>\n",
       "      <td>3</td>\n",
       "    </tr>\n",
       "    <tr>\n",
       "      <th>15</th>\n",
       "      <td>3</td>\n",
       "      <td>5929</td>\n",
       "      <td>217</td>\n",
       "      <td>8287</td>\n",
       "      <td>13</td>\n",
       "      <td>637.461538</td>\n",
       "      <td>2.618559</td>\n",
       "      <td>95.788585</td>\n",
       "      <td>No</td>\n",
       "      <td>3</td>\n",
       "    </tr>\n",
       "    <tr>\n",
       "      <th>16</th>\n",
       "      <td>3</td>\n",
       "      <td>5930</td>\n",
       "      <td>174</td>\n",
       "      <td>8287</td>\n",
       "      <td>13</td>\n",
       "      <td>637.461538</td>\n",
       "      <td>2.099674</td>\n",
       "      <td>97.888259</td>\n",
       "      <td>No</td>\n",
       "      <td>3</td>\n",
       "    </tr>\n",
       "    <tr>\n",
       "      <th>17</th>\n",
       "      <td>3</td>\n",
       "      <td>5931</td>\n",
       "      <td>79</td>\n",
       "      <td>8287</td>\n",
       "      <td>13</td>\n",
       "      <td>637.461538</td>\n",
       "      <td>0.953300</td>\n",
       "      <td>98.841559</td>\n",
       "      <td>No</td>\n",
       "      <td>3</td>\n",
       "    </tr>\n",
       "    <tr>\n",
       "      <th>14</th>\n",
       "      <td>3</td>\n",
       "      <td>5928</td>\n",
       "      <td>39</td>\n",
       "      <td>8287</td>\n",
       "      <td>13</td>\n",
       "      <td>637.461538</td>\n",
       "      <td>0.470617</td>\n",
       "      <td>99.312176</td>\n",
       "      <td>No</td>\n",
       "      <td>3</td>\n",
       "    </tr>\n",
       "    <tr>\n",
       "      <th>13</th>\n",
       "      <td>3</td>\n",
       "      <td>5927</td>\n",
       "      <td>31</td>\n",
       "      <td>8287</td>\n",
       "      <td>13</td>\n",
       "      <td>637.461538</td>\n",
       "      <td>0.374080</td>\n",
       "      <td>99.686256</td>\n",
       "      <td>No</td>\n",
       "      <td>3</td>\n",
       "    </tr>\n",
       "    <tr>\n",
       "      <th>8</th>\n",
       "      <td>3</td>\n",
       "      <td>4107</td>\n",
       "      <td>21</td>\n",
       "      <td>8287</td>\n",
       "      <td>13</td>\n",
       "      <td>637.461538</td>\n",
       "      <td>0.253409</td>\n",
       "      <td>99.939665</td>\n",
       "      <td>No</td>\n",
       "      <td>3</td>\n",
       "    </tr>\n",
       "    <tr>\n",
       "      <th>9</th>\n",
       "      <td>3</td>\n",
       "      <td>5892</td>\n",
       "      <td>3</td>\n",
       "      <td>8287</td>\n",
       "      <td>13</td>\n",
       "      <td>637.461538</td>\n",
       "      <td>0.036201</td>\n",
       "      <td>99.975866</td>\n",
       "      <td>No</td>\n",
       "      <td>3</td>\n",
       "    </tr>\n",
       "    <tr>\n",
       "      <th>18</th>\n",
       "      <td>3</td>\n",
       "      <td>5932</td>\n",
       "      <td>2</td>\n",
       "      <td>8287</td>\n",
       "      <td>13</td>\n",
       "      <td>637.461538</td>\n",
       "      <td>0.024134</td>\n",
       "      <td>100.000000</td>\n",
       "      <td>No</td>\n",
       "      <td>3</td>\n",
       "    </tr>\n",
       "    <tr>\n",
       "      <th>21</th>\n",
       "      <td>5</td>\n",
       "      <td>11519</td>\n",
       "      <td>1531</td>\n",
       "      <td>3520</td>\n",
       "      <td>15</td>\n",
       "      <td>234.666667</td>\n",
       "      <td>43.494318</td>\n",
       "      <td>43.494318</td>\n",
       "      <td>Yes</td>\n",
       "      <td>4</td>\n",
       "    </tr>\n",
       "    <tr>\n",
       "      <th>27</th>\n",
       "      <td>5</td>\n",
       "      <td>11525</td>\n",
       "      <td>606</td>\n",
       "      <td>3520</td>\n",
       "      <td>15</td>\n",
       "      <td>234.666667</td>\n",
       "      <td>17.215909</td>\n",
       "      <td>60.710227</td>\n",
       "      <td>Yes</td>\n",
       "      <td>4</td>\n",
       "    </tr>\n",
       "    <tr>\n",
       "      <th>23</th>\n",
       "      <td>5</td>\n",
       "      <td>11521</td>\n",
       "      <td>478</td>\n",
       "      <td>3520</td>\n",
       "      <td>15</td>\n",
       "      <td>234.666667</td>\n",
       "      <td>13.579545</td>\n",
       "      <td>74.289773</td>\n",
       "      <td>Yes</td>\n",
       "      <td>4</td>\n",
       "    </tr>\n",
       "    <tr>\n",
       "      <th>31</th>\n",
       "      <td>5</td>\n",
       "      <td>11530</td>\n",
       "      <td>343</td>\n",
       "      <td>3520</td>\n",
       "      <td>15</td>\n",
       "      <td>234.666667</td>\n",
       "      <td>9.744318</td>\n",
       "      <td>84.034091</td>\n",
       "      <td>Yes</td>\n",
       "      <td>4</td>\n",
       "    </tr>\n",
       "    <tr>\n",
       "      <th>22</th>\n",
       "      <td>5</td>\n",
       "      <td>11520</td>\n",
       "      <td>162</td>\n",
       "      <td>3520</td>\n",
       "      <td>15</td>\n",
       "      <td>234.666667</td>\n",
       "      <td>4.602273</td>\n",
       "      <td>88.636364</td>\n",
       "      <td>No</td>\n",
       "      <td>4</td>\n",
       "    </tr>\n",
       "  </tbody>\n",
       "</table>\n",
       "</div>"
      ],
      "text/plain": [
       "    project_id  alias_id  commit_count  total_commits  num_people  \\\n",
       "0            1      4097            39             39           1   \n",
       "5            2      4427           110            161           6   \n",
       "2            2      4423            22            161           6   \n",
       "4            2      4425            21            161           6   \n",
       "6            2      4428             4            161           6   \n",
       "3            2      4424             3            161           6   \n",
       "1            2      4422             1            161           6   \n",
       "7            3      4099          3037           8287          13   \n",
       "10           3      5924          2603           8287          13   \n",
       "19           3      5933          1242           8287          13   \n",
       "12           3      5926           476           8287          13   \n",
       "11           3      5925           363           8287          13   \n",
       "15           3      5929           217           8287          13   \n",
       "16           3      5930           174           8287          13   \n",
       "17           3      5931            79           8287          13   \n",
       "14           3      5928            39           8287          13   \n",
       "13           3      5927            31           8287          13   \n",
       "8            3      4107            21           8287          13   \n",
       "9            3      5892             3           8287          13   \n",
       "18           3      5932             2           8287          13   \n",
       "21           5     11519          1531           3520          15   \n",
       "27           5     11525           606           3520          15   \n",
       "23           5     11521           478           3520          15   \n",
       "31           5     11530           343           3520          15   \n",
       "22           5     11520           162           3520          15   \n",
       "\n",
       "    average_commits  commit_percentage  cumulative_commit_percentage  \\\n",
       "0         39.000000         100.000000                    100.000000   \n",
       "5         26.833333          68.322981                     68.322981   \n",
       "2         26.833333          13.664596                     81.987578   \n",
       "4         26.833333          13.043478                     95.031056   \n",
       "6         26.833333           2.484472                     97.515528   \n",
       "3         26.833333           1.863354                     99.378882   \n",
       "1         26.833333           0.621118                    100.000000   \n",
       "7        637.461538          36.647762                     36.647762   \n",
       "10       637.461538          31.410643                     68.058405   \n",
       "19       637.461538          14.987330                     83.045734   \n",
       "12       637.461538           5.743936                     88.789671   \n",
       "11       637.461538           4.380355                     93.170025   \n",
       "15       637.461538           2.618559                     95.788585   \n",
       "16       637.461538           2.099674                     97.888259   \n",
       "17       637.461538           0.953300                     98.841559   \n",
       "14       637.461538           0.470617                     99.312176   \n",
       "13       637.461538           0.374080                     99.686256   \n",
       "8        637.461538           0.253409                     99.939665   \n",
       "9        637.461538           0.036201                     99.975866   \n",
       "18       637.461538           0.024134                    100.000000   \n",
       "21       234.666667          43.494318                     43.494318   \n",
       "27       234.666667          17.215909                     60.710227   \n",
       "23       234.666667          13.579545                     74.289773   \n",
       "31       234.666667           9.744318                     84.034091   \n",
       "22       234.666667           4.602273                     88.636364   \n",
       "\n",
       "   Core_Developer  Total_Core_Developers  \n",
       "0             Yes                      1  \n",
       "5             Yes                      1  \n",
       "2              No                      1  \n",
       "4              No                      1  \n",
       "6              No                      1  \n",
       "3              No                      1  \n",
       "1              No                      1  \n",
       "7             Yes                      3  \n",
       "10            Yes                      3  \n",
       "19            Yes                      3  \n",
       "12             No                      3  \n",
       "11             No                      3  \n",
       "15             No                      3  \n",
       "16             No                      3  \n",
       "17             No                      3  \n",
       "14             No                      3  \n",
       "13             No                      3  \n",
       "8              No                      3  \n",
       "9              No                      3  \n",
       "18             No                      3  \n",
       "21            Yes                      4  \n",
       "27            Yes                      4  \n",
       "23            Yes                      4  \n",
       "31            Yes                      4  \n",
       "22             No                      4  "
      ]
     },
     "execution_count": 75,
     "metadata": {},
     "output_type": "execute_result"
    }
   ],
   "source": [
    "result_df.head(25)"
   ]
  },
  {
   "cell_type": "markdown",
   "metadata": {},
   "source": [
    "**Saving the core developers per project**"
   ]
  },
  {
   "cell_type": "code",
   "execution_count": 76,
   "metadata": {},
   "outputs": [],
   "source": [
    "result_df.to_csv(\"project_core_dev.csv\",index=False)"
   ]
  },
  {
   "cell_type": "markdown",
   "metadata": {},
   "source": [
    "**Connecting Core Developer with Pull Request**"
   ]
  },
  {
   "cell_type": "code",
   "execution_count": 77,
   "metadata": {},
   "outputs": [
    {
     "name": "stdout",
     "output_type": "stream",
     "text": [
      "       repo  number                  user user_type   state  \\\n",
      "0    abdera       4               dargooo      User  closed   \n",
      "1    abdera       3              YYTVicky      User    open   \n",
      "2    abdera       2  nicolasyanncouturier      User    open   \n",
      "3    abdera       1  nicolasyanncouturier      User    open   \n",
      "4  accumulo    4027              dlmarion      User  closed   \n",
      "5  accumulo    4026              dlmarion      User  closed   \n",
      "6  accumulo    4025              dlmarion      User  closed   \n",
      "7  accumulo    4024              ctubbsii      User  closed   \n",
      "8  accumulo    4023              dlmarion      User  closed   \n",
      "9  accumulo    4022              dlmarion      User  closed   \n",
      "\n",
      "             created_at            updated_at             closed_at  \\\n",
      "0  2020-11-26T21:21:33Z  2023-05-21T04:37:38Z  2023-05-21T04:37:38Z   \n",
      "1  2020-03-01T00:37:56Z  2020-04-30T02:01:45Z                   NaN   \n",
      "2  2013-10-18T13:32:37Z  2014-07-16T01:44:57Z                   NaN   \n",
      "3  2013-10-14T12:23:03Z  2014-07-13T19:17:32Z                   NaN   \n",
      "4  2023-12-06T14:20:37Z  2024-07-12T00:15:54Z  2023-12-06T14:34:06Z   \n",
      "5  2023-12-06T14:02:03Z  2024-07-12T00:15:53Z  2023-12-06T14:17:41Z   \n",
      "6  2023-12-06T13:02:38Z  2024-07-12T00:15:53Z  2023-12-06T14:18:21Z   \n",
      "7  2023-12-05T23:12:06Z  2024-07-12T01:30:39Z  2023-12-06T19:46:39Z   \n",
      "8  2023-12-05T21:54:27Z  2024-07-12T00:15:52Z  2023-12-06T12:27:43Z   \n",
      "9  2023-12-05T20:03:13Z  2024-07-12T00:15:52Z  2023-12-08T14:04:26Z   \n",
      "\n",
      "              merged_at                          merge_commit_sha  \\\n",
      "0                   NaN  85551716e4900cb514c5913086cedb869edb5ecf   \n",
      "1                   NaN  10b439abf352089d813cf882e9d6291fb58bd363   \n",
      "2                   NaN  e973e7069a3e4be285b2b934d57adf32caa0a9ef   \n",
      "3                   NaN  975791491d738b7d0467bd1975e799857a1c43ed   \n",
      "4  2023-12-06T14:34:06Z  29c307fca48117de1433754ead350e031c4f4153   \n",
      "5  2023-12-06T14:17:41Z  7ee79949b88a01dfd2fd133d267197ad7138d807   \n",
      "6  2023-12-06T14:18:21Z  c340c7aaec4f202a76a51f28633ebc931426a56e   \n",
      "7  2023-12-06T19:46:38Z  a3444f7fda056bed6e36f8b3bc6252abbe1807cb   \n",
      "8  2023-12-06T12:27:43Z  8f88fbe17cf86d6500ffe4d5c1477d0ecc2008cd   \n",
      "9  2023-12-08T14:04:26Z  ce7c8c8f2731e0f7aae679b735050ca63a7be8d1   \n",
      "\n",
      "                                           issue_url  \\\n",
      "0  https://api.github.com/repos/apache/abdera/iss...   \n",
      "1  https://api.github.com/repos/apache/abdera/iss...   \n",
      "2  https://api.github.com/repos/apache/abdera/iss...   \n",
      "3  https://api.github.com/repos/apache/abdera/iss...   \n",
      "4  https://api.github.com/repos/apache/accumulo/i...   \n",
      "5  https://api.github.com/repos/apache/accumulo/i...   \n",
      "6  https://api.github.com/repos/apache/accumulo/i...   \n",
      "7  https://api.github.com/repos/apache/accumulo/i...   \n",
      "8  https://api.github.com/repos/apache/accumulo/i...   \n",
      "9  https://api.github.com/repos/apache/accumulo/i...   \n",
      "\n",
      "                                                body  project_id  \n",
      "0                                                NaN        49.0  \n",
      "1                                                NaN        49.0  \n",
      "2  Used the same system in BaseSerializer.writeEx...        49.0  \n",
      "3  The test would most likely need to be split in...        49.0  \n",
      "4                                                NaN        50.0  \n",
      "5                                                NaN        50.0  \n",
      "6  The exception handling for the BadLocationStat...        50.0  \n",
      "7  Rewrite MemoryConsumingIterator's method to co...        50.0  \n",
      "8  Calling getServerContext() ends up down a path...        50.0  \n",
      "9                                        Fixes #4021        50.0  \n"
     ]
    }
   ],
   "source": [
    "print(pr.head(10))"
   ]
  },
  {
   "cell_type": "code",
   "execution_count": 27,
   "metadata": {},
   "outputs": [
    {
     "data": {
      "text/html": [
       "<div>\n",
       "<style scoped>\n",
       "    .dataframe tbody tr th:only-of-type {\n",
       "        vertical-align: middle;\n",
       "    }\n",
       "\n",
       "    .dataframe tbody tr th {\n",
       "        vertical-align: top;\n",
       "    }\n",
       "\n",
       "    .dataframe thead th {\n",
       "        text-align: right;\n",
       "    }\n",
       "</style>\n",
       "<table border=\"1\" class=\"dataframe\">\n",
       "  <thead>\n",
       "    <tr style=\"text-align: right;\">\n",
       "      <th></th>\n",
       "      <th>repo</th>\n",
       "      <th>number</th>\n",
       "      <th>user</th>\n",
       "      <th>user_type</th>\n",
       "      <th>state</th>\n",
       "      <th>created_at</th>\n",
       "      <th>updated_at</th>\n",
       "      <th>closed_at</th>\n",
       "      <th>merged_at</th>\n",
       "      <th>merge_commit_sha</th>\n",
       "      <th>issue_url</th>\n",
       "      <th>body</th>\n",
       "      <th>project_id</th>\n",
       "    </tr>\n",
       "  </thead>\n",
       "  <tbody>\n",
       "    <tr>\n",
       "      <th>0</th>\n",
       "      <td>abdera</td>\n",
       "      <td>4</td>\n",
       "      <td>dargooo</td>\n",
       "      <td>User</td>\n",
       "      <td>closed</td>\n",
       "      <td>2020-11-26T21:21:33Z</td>\n",
       "      <td>2023-05-21T04:37:38Z</td>\n",
       "      <td>2023-05-21T04:37:38Z</td>\n",
       "      <td>NaN</td>\n",
       "      <td>85551716e4900cb514c5913086cedb869edb5ecf</td>\n",
       "      <td>https://api.github.com/repos/apache/abdera/iss...</td>\n",
       "      <td>NaN</td>\n",
       "      <td>49.0</td>\n",
       "    </tr>\n",
       "    <tr>\n",
       "      <th>1</th>\n",
       "      <td>abdera</td>\n",
       "      <td>3</td>\n",
       "      <td>YYTVicky</td>\n",
       "      <td>User</td>\n",
       "      <td>open</td>\n",
       "      <td>2020-03-01T00:37:56Z</td>\n",
       "      <td>2020-04-30T02:01:45Z</td>\n",
       "      <td>NaN</td>\n",
       "      <td>NaN</td>\n",
       "      <td>10b439abf352089d813cf882e9d6291fb58bd363</td>\n",
       "      <td>https://api.github.com/repos/apache/abdera/iss...</td>\n",
       "      <td>NaN</td>\n",
       "      <td>49.0</td>\n",
       "    </tr>\n",
       "    <tr>\n",
       "      <th>2</th>\n",
       "      <td>abdera</td>\n",
       "      <td>2</td>\n",
       "      <td>nicolasyanncouturier</td>\n",
       "      <td>User</td>\n",
       "      <td>open</td>\n",
       "      <td>2013-10-18T13:32:37Z</td>\n",
       "      <td>2014-07-16T01:44:57Z</td>\n",
       "      <td>NaN</td>\n",
       "      <td>NaN</td>\n",
       "      <td>e973e7069a3e4be285b2b934d57adf32caa0a9ef</td>\n",
       "      <td>https://api.github.com/repos/apache/abdera/iss...</td>\n",
       "      <td>Used the same system in BaseSerializer.writeEx...</td>\n",
       "      <td>49.0</td>\n",
       "    </tr>\n",
       "    <tr>\n",
       "      <th>3</th>\n",
       "      <td>abdera</td>\n",
       "      <td>1</td>\n",
       "      <td>nicolasyanncouturier</td>\n",
       "      <td>User</td>\n",
       "      <td>open</td>\n",
       "      <td>2013-10-14T12:23:03Z</td>\n",
       "      <td>2014-07-13T19:17:32Z</td>\n",
       "      <td>NaN</td>\n",
       "      <td>NaN</td>\n",
       "      <td>975791491d738b7d0467bd1975e799857a1c43ed</td>\n",
       "      <td>https://api.github.com/repos/apache/abdera/iss...</td>\n",
       "      <td>The test would most likely need to be split in...</td>\n",
       "      <td>49.0</td>\n",
       "    </tr>\n",
       "    <tr>\n",
       "      <th>4</th>\n",
       "      <td>accumulo</td>\n",
       "      <td>4027</td>\n",
       "      <td>dlmarion</td>\n",
       "      <td>User</td>\n",
       "      <td>closed</td>\n",
       "      <td>2023-12-06T14:20:37Z</td>\n",
       "      <td>2024-07-12T00:15:54Z</td>\n",
       "      <td>2023-12-06T14:34:06Z</td>\n",
       "      <td>2023-12-06T14:34:06Z</td>\n",
       "      <td>29c307fca48117de1433754ead350e031c4f4153</td>\n",
       "      <td>https://api.github.com/repos/apache/accumulo/i...</td>\n",
       "      <td>NaN</td>\n",
       "      <td>50.0</td>\n",
       "    </tr>\n",
       "    <tr>\n",
       "      <th>5</th>\n",
       "      <td>accumulo</td>\n",
       "      <td>4026</td>\n",
       "      <td>dlmarion</td>\n",
       "      <td>User</td>\n",
       "      <td>closed</td>\n",
       "      <td>2023-12-06T14:02:03Z</td>\n",
       "      <td>2024-07-12T00:15:53Z</td>\n",
       "      <td>2023-12-06T14:17:41Z</td>\n",
       "      <td>2023-12-06T14:17:41Z</td>\n",
       "      <td>7ee79949b88a01dfd2fd133d267197ad7138d807</td>\n",
       "      <td>https://api.github.com/repos/apache/accumulo/i...</td>\n",
       "      <td>NaN</td>\n",
       "      <td>50.0</td>\n",
       "    </tr>\n",
       "    <tr>\n",
       "      <th>6</th>\n",
       "      <td>accumulo</td>\n",
       "      <td>4025</td>\n",
       "      <td>dlmarion</td>\n",
       "      <td>User</td>\n",
       "      <td>closed</td>\n",
       "      <td>2023-12-06T13:02:38Z</td>\n",
       "      <td>2024-07-12T00:15:53Z</td>\n",
       "      <td>2023-12-06T14:18:21Z</td>\n",
       "      <td>2023-12-06T14:18:21Z</td>\n",
       "      <td>c340c7aaec4f202a76a51f28633ebc931426a56e</td>\n",
       "      <td>https://api.github.com/repos/apache/accumulo/i...</td>\n",
       "      <td>The exception handling for the BadLocationStat...</td>\n",
       "      <td>50.0</td>\n",
       "    </tr>\n",
       "    <tr>\n",
       "      <th>7</th>\n",
       "      <td>accumulo</td>\n",
       "      <td>4024</td>\n",
       "      <td>ctubbsii</td>\n",
       "      <td>User</td>\n",
       "      <td>closed</td>\n",
       "      <td>2023-12-05T23:12:06Z</td>\n",
       "      <td>2024-07-12T01:30:39Z</td>\n",
       "      <td>2023-12-06T19:46:39Z</td>\n",
       "      <td>2023-12-06T19:46:38Z</td>\n",
       "      <td>a3444f7fda056bed6e36f8b3bc6252abbe1807cb</td>\n",
       "      <td>https://api.github.com/repos/apache/accumulo/i...</td>\n",
       "      <td>Rewrite MemoryConsumingIterator's method to co...</td>\n",
       "      <td>50.0</td>\n",
       "    </tr>\n",
       "    <tr>\n",
       "      <th>8</th>\n",
       "      <td>accumulo</td>\n",
       "      <td>4023</td>\n",
       "      <td>dlmarion</td>\n",
       "      <td>User</td>\n",
       "      <td>closed</td>\n",
       "      <td>2023-12-05T21:54:27Z</td>\n",
       "      <td>2024-07-12T00:15:52Z</td>\n",
       "      <td>2023-12-06T12:27:43Z</td>\n",
       "      <td>2023-12-06T12:27:43Z</td>\n",
       "      <td>8f88fbe17cf86d6500ffe4d5c1477d0ecc2008cd</td>\n",
       "      <td>https://api.github.com/repos/apache/accumulo/i...</td>\n",
       "      <td>Calling getServerContext() ends up down a path...</td>\n",
       "      <td>50.0</td>\n",
       "    </tr>\n",
       "    <tr>\n",
       "      <th>9</th>\n",
       "      <td>accumulo</td>\n",
       "      <td>4022</td>\n",
       "      <td>dlmarion</td>\n",
       "      <td>User</td>\n",
       "      <td>closed</td>\n",
       "      <td>2023-12-05T20:03:13Z</td>\n",
       "      <td>2024-07-12T00:15:52Z</td>\n",
       "      <td>2023-12-08T14:04:26Z</td>\n",
       "      <td>2023-12-08T14:04:26Z</td>\n",
       "      <td>ce7c8c8f2731e0f7aae679b735050ca63a7be8d1</td>\n",
       "      <td>https://api.github.com/repos/apache/accumulo/i...</td>\n",
       "      <td>Fixes #4021</td>\n",
       "      <td>50.0</td>\n",
       "    </tr>\n",
       "  </tbody>\n",
       "</table>\n",
       "</div>"
      ],
      "text/plain": [
       "       repo  number                  user user_type   state  \\\n",
       "0    abdera       4               dargooo      User  closed   \n",
       "1    abdera       3              YYTVicky      User    open   \n",
       "2    abdera       2  nicolasyanncouturier      User    open   \n",
       "3    abdera       1  nicolasyanncouturier      User    open   \n",
       "4  accumulo    4027              dlmarion      User  closed   \n",
       "5  accumulo    4026              dlmarion      User  closed   \n",
       "6  accumulo    4025              dlmarion      User  closed   \n",
       "7  accumulo    4024              ctubbsii      User  closed   \n",
       "8  accumulo    4023              dlmarion      User  closed   \n",
       "9  accumulo    4022              dlmarion      User  closed   \n",
       "\n",
       "             created_at            updated_at             closed_at  \\\n",
       "0  2020-11-26T21:21:33Z  2023-05-21T04:37:38Z  2023-05-21T04:37:38Z   \n",
       "1  2020-03-01T00:37:56Z  2020-04-30T02:01:45Z                   NaN   \n",
       "2  2013-10-18T13:32:37Z  2014-07-16T01:44:57Z                   NaN   \n",
       "3  2013-10-14T12:23:03Z  2014-07-13T19:17:32Z                   NaN   \n",
       "4  2023-12-06T14:20:37Z  2024-07-12T00:15:54Z  2023-12-06T14:34:06Z   \n",
       "5  2023-12-06T14:02:03Z  2024-07-12T00:15:53Z  2023-12-06T14:17:41Z   \n",
       "6  2023-12-06T13:02:38Z  2024-07-12T00:15:53Z  2023-12-06T14:18:21Z   \n",
       "7  2023-12-05T23:12:06Z  2024-07-12T01:30:39Z  2023-12-06T19:46:39Z   \n",
       "8  2023-12-05T21:54:27Z  2024-07-12T00:15:52Z  2023-12-06T12:27:43Z   \n",
       "9  2023-12-05T20:03:13Z  2024-07-12T00:15:52Z  2023-12-08T14:04:26Z   \n",
       "\n",
       "              merged_at                          merge_commit_sha  \\\n",
       "0                   NaN  85551716e4900cb514c5913086cedb869edb5ecf   \n",
       "1                   NaN  10b439abf352089d813cf882e9d6291fb58bd363   \n",
       "2                   NaN  e973e7069a3e4be285b2b934d57adf32caa0a9ef   \n",
       "3                   NaN  975791491d738b7d0467bd1975e799857a1c43ed   \n",
       "4  2023-12-06T14:34:06Z  29c307fca48117de1433754ead350e031c4f4153   \n",
       "5  2023-12-06T14:17:41Z  7ee79949b88a01dfd2fd133d267197ad7138d807   \n",
       "6  2023-12-06T14:18:21Z  c340c7aaec4f202a76a51f28633ebc931426a56e   \n",
       "7  2023-12-06T19:46:38Z  a3444f7fda056bed6e36f8b3bc6252abbe1807cb   \n",
       "8  2023-12-06T12:27:43Z  8f88fbe17cf86d6500ffe4d5c1477d0ecc2008cd   \n",
       "9  2023-12-08T14:04:26Z  ce7c8c8f2731e0f7aae679b735050ca63a7be8d1   \n",
       "\n",
       "                                           issue_url  \\\n",
       "0  https://api.github.com/repos/apache/abdera/iss...   \n",
       "1  https://api.github.com/repos/apache/abdera/iss...   \n",
       "2  https://api.github.com/repos/apache/abdera/iss...   \n",
       "3  https://api.github.com/repos/apache/abdera/iss...   \n",
       "4  https://api.github.com/repos/apache/accumulo/i...   \n",
       "5  https://api.github.com/repos/apache/accumulo/i...   \n",
       "6  https://api.github.com/repos/apache/accumulo/i...   \n",
       "7  https://api.github.com/repos/apache/accumulo/i...   \n",
       "8  https://api.github.com/repos/apache/accumulo/i...   \n",
       "9  https://api.github.com/repos/apache/accumulo/i...   \n",
       "\n",
       "                                                body  project_id  \n",
       "0                                                NaN        49.0  \n",
       "1                                                NaN        49.0  \n",
       "2  Used the same system in BaseSerializer.writeEx...        49.0  \n",
       "3  The test would most likely need to be split in...        49.0  \n",
       "4                                                NaN        50.0  \n",
       "5                                                NaN        50.0  \n",
       "6  The exception handling for the BadLocationStat...        50.0  \n",
       "7  Rewrite MemoryConsumingIterator's method to co...        50.0  \n",
       "8  Calling getServerContext() ends up down a path...        50.0  \n",
       "9                                        Fixes #4021        50.0  "
      ]
     },
     "execution_count": 27,
     "metadata": {},
     "output_type": "execute_result"
    }
   ],
   "source": [
    "pr.head(10)"
   ]
  },
  {
   "cell_type": "code",
   "execution_count": 78,
   "metadata": {},
   "outputs": [],
   "source": [
    "# Convert all values in the 'listname' column to lowercase\n",
    "pr['repo'] = pr['repo'].str.lower()"
   ]
  },
  {
   "cell_type": "markdown",
   "metadata": {},
   "source": [
    "**Among 252 projects in PR Lists, 62 have \"incubator-\" written in front of them which is causing string mismatch with project names in Lists\n",
    "Again, 15 among the 62 have \"retired-\" written after \"incubator-\". We need to remove them both.**"
   ]
  },
  {
   "cell_type": "code",
   "execution_count": 127,
   "metadata": {},
   "outputs": [],
   "source": [
    "# Remove \"incubator-\" from the start of strings\n",
    "pr[\"repo\"] = pr[\"repo\"].str.replace(r\"^incubator-\", \"\", regex=True)\n",
    "pr[\"repo\"] = pr[\"repo\"].str.replace(r\"^retired-\", \"\", regex=True)"
   ]
  },
  {
   "cell_type": "code",
   "execution_count": null,
   "metadata": {},
   "outputs": [],
   "source": [
    "# Convert all values in the 'listname' column to lowercase\n",
    "pr['repo'] = pr['repo'].str.lower()\n",
    "\n",
    "# We search every repo names in pr to repo_name and trace out the project_id and then add it to pr\n",
    "pr['project_id'] = pr['repo'].apply(\n",
    "    lambda repo: repo_name.loc[repo_name['matched_repo'] == repo, 'listid'].values[0] if not repo_name.loc[repo_name['matched_repo'] == repo, 'listid'].empty else np.nan\n",
    ")"
   ]
  },
  {
   "cell_type": "code",
   "execution_count": null,
   "metadata": {},
   "outputs": [],
   "source": [
    "pr.head(10)"
   ]
  },
  {
   "cell_type": "code",
   "execution_count": null,
   "metadata": {},
   "outputs": [],
   "source": [
    "# Save the file if necessary for further processing\n",
    "# pr.to_csv(\"csvs/modified_pull-requests.csv\",index=False)"
   ]
  },
  {
   "cell_type": "code",
   "execution_count": 66,
   "metadata": {},
   "outputs": [
    {
     "name": "stdout",
     "output_type": "stream",
     "text": [
      "['closed' 'open']\n",
      "2\n"
     ]
    }
   ],
   "source": [
    "unique_values = pr['state'].unique()\n",
    "print(unique_values)\n",
    "print(unique_values.size)"
   ]
  },
  {
   "cell_type": "code",
   "execution_count": 36,
   "metadata": {},
   "outputs": [
    {
     "name": "stdout",
     "output_type": "stream",
     "text": [
      "[    4     3     2 ... 48961 48960 48959]\n",
      "49853\n"
     ]
    }
   ],
   "source": [
    "unique_values = pr['number'].unique()\n",
    "print(unique_values)\n",
    "print(unique_values.size)"
   ]
  },
  {
   "cell_type": "code",
   "execution_count": 37,
   "metadata": {},
   "outputs": [
    {
     "name": "stdout",
     "output_type": "stream",
     "text": [
      "['dargooo' 'YYTVicky' 'nicolasyanncouturier' ... 'bulicekj' 'zpf-github'\n",
      " 'hyangtack']\n",
      "39241\n"
     ]
    }
   ],
   "source": [
    "unique_values = pr['user'].unique()\n",
    "print(unique_values)\n",
    "print(unique_values.size)"
   ]
  },
  {
   "cell_type": "code",
   "execution_count": 28,
   "metadata": {},
   "outputs": [
    {
     "name": "stdout",
     "output_type": "stream",
     "text": [
      "['abdera' 'accumulo' 'ace' 'activemq' 'activemq-apollo' 'airavata'\n",
      " 'airflow' 'allura' 'ambari' 'ant-easyant-core' 'ant-ivy' 'any23'\n",
      " 'apex-core' 'aries' 'asterixdb' 'atlas' 'aurora' 'beam' nan 'bigtop'\n",
      " 'bloodhound' 'brooklyn' 'buildr' 'bval' 'calcite' 'carbondata'\n",
      " 'cassandra' 'cayenne' 'celix' 'chukwa' 'clerezza' 'climate' 'cloudstack'\n",
      " 'commons-ognl' 'cordova' 'couchdb' 'creadur-rat' 'crunch' 'ctakes'\n",
      " 'curator' 'cxf' 'datafu' 'db-jdo' 'deltacloud' 'deltaspike' 'derby'\n",
      " 'directmemory' 'directory-server' 'distributedlog' 'drill' 'dubbo'\n",
      " 'eagle' 'empire-db' 'esme' 'falcon' 'felix' 'fineract' 'flex-sdk' 'flink'\n",
      " 'flume' 'fluo' 'freemarker' 'ftpserver' 'geode' 'geronimo'\n",
      " 'geronimo-yoko' 'giraph' 'gora' 'griffin' 'groovy' 'guacamole-client'\n",
      " 'hama' 'hawq' 'hcatalog' 'helix' 'ignite' 'impala' 'amaterasu'\n",
      " 'annotator' 'ariatosca' 'batchee' 'brpc' 'crail' 'daffodil'\n",
      " 'datasketches' 'dlab' 'dolphinscheduler' 'doris' 'druid' 'echarts'\n",
      " 'edgent' 'flagon' 'gobblin' 'heron' 'hivemall' 'hudi' 'iceberg' 'iotdb'\n",
      " 'livy' 'marvin' 'milagro' 'mxnet' 'myriad' 'nemo' 'omid' 'pagespeed-ngx'\n",
      " 'pinot' 'ponymail' 'ratis' 'blur' 'concerted' 'gearpump' 'hdt' 'horn'\n",
      " 'htrace' 'iota' 'mrql' 'openaz' 'pirk' 'quickstep' 'ripple' 's4' 'slider'\n",
      " 'wave' 'rya' 's2graph' 'samoa' 'shardingsphere' 'singa' 'spot' 'superset'\n",
      " 'tamaya' 'taverna-engine' 'tephra' 'toree' 'training' 'tuweni' 'tvm'\n",
      " 'weex' 'isis' 'jackrabbit' 'jclouds' 'jena' 'johnzon' 'joshua' 'jspwiki'\n",
      " 'juddi' 'juneau' 'kafka' 'kalumet' 'knox' 'kudu' 'kylin' 'lens' 'lenya'\n",
      " 'libcloud' 'logging-log4cxx' 'logging-log4php' 'lucene.net' 'lucy'\n",
      " 'madlib' 'manifoldcf' 'marmotta' 'mesos' 'metamodel' 'metron' 'mnemonic'\n",
      " 'mrunit' 'myfaces' 'myfaces-tobago' 'mynewt-core' 'netbeans' 'nifi'\n",
      " 'npanday' 'nutch' 'nuvem' 'ode' 'odftoolkit' 'ofbiz' 'olingo-odata4'\n",
      " 'oodt' 'oozie' 'openejb' 'openjpa' 'openmeetings' 'opennlp' 'openoffice'\n",
      " 'openwebbeans' 'openwhisk' 'openwhisk-composer' 'parquet-java' 'pdfbox'\n",
      " 'phoenix' 'photark' 'pig' 'plc4x' 'pluto' 'predictionio' 'pulsar' 'qpid'\n",
      " 'ranger' 'rave' 'reef' 'rocketmq' 'roller' 'samza' 'sanselan' 'sentry'\n",
      " 'servicecomb-java-chassis' 'servicemix' 'shindig' 'shiro' 'sirona' 'sis'\n",
      " 'skywalking' 'sling' 'solr' 'spamassassin' 'spark' 'sqoop' 'stanbol'\n",
      " 'storm' 'stratos' 'streams' 'subversion' 'synapse' 'syncope' 'systemml'\n",
      " 'tajo' 'tapestry-5' 'tashi' 'tez' 'thrift' 'tika' 'tinkerpop'\n",
      " 'trafficcontrol' 'trafficserver' 'trafodion' 'tuscany-sca-2.x' 'twill'\n",
      " 'uima-uimaj' 'unomi' 'usergrid' 'vcl' 'vxquery' 'whirr' 'wicket' 'wink'\n",
      " 'wookie' 'xmlbeans' 'zeppelin' 'zetacomponents' 'zipkin']\n",
      "253\n"
     ]
    }
   ],
   "source": [
    "unique_values = pr['repo'].unique()\n",
    "print(unique_values)\n",
    "print(unique_values.size)"
   ]
  },
  {
   "cell_type": "code",
   "execution_count": 107,
   "metadata": {},
   "outputs": [],
   "source": [
    "a=projects[['project_id','project_status']]\n",
    "b=result_df[['project_id','alias_id','Core_Developer']]\n",
    "c=pr[['repo','user','created_at','updated_at','closed_at','merged_at','state','project_id']]\n",
    "d=devs"
   ]
  },
  {
   "cell_type": "code",
   "execution_count": 108,
   "metadata": {},
   "outputs": [
    {
     "name": "stdout",
     "output_type": "stream",
     "text": [
      "(312, 2)\n",
      "(7821, 3)\n",
      "(569448, 8)\n",
      "(47078, 3)\n"
     ]
    }
   ],
   "source": [
    "print(a.shape)\n",
    "print(b.shape)\n",
    "print(c.shape)\n",
    "print(d.shape)"
   ]
  },
  {
   "cell_type": "code",
   "execution_count": 70,
   "metadata": {},
   "outputs": [
    {
     "data": {
      "text/plain": [
       "Index(['alias_id', 'dev_name', 'email'], dtype='object')"
      ]
     },
     "execution_count": 70,
     "metadata": {},
     "output_type": "execute_result"
    }
   ],
   "source": [
    "d.columns"
   ]
  },
  {
   "cell_type": "code",
   "execution_count": 56,
   "metadata": {},
   "outputs": [
    {
     "data": {
      "text/plain": [
       "Index(['project_id', 'project_name', 'project_status'], dtype='object')"
      ]
     },
     "execution_count": 56,
     "metadata": {},
     "output_type": "execute_result"
    }
   ],
   "source": [
    "a.columns"
   ]
  },
  {
   "cell_type": "code",
   "execution_count": 50,
   "metadata": {},
   "outputs": [
    {
     "data": {
      "text/plain": [
       "(7821, 3)"
      ]
     },
     "execution_count": 50,
     "metadata": {},
     "output_type": "execute_result"
    }
   ],
   "source": [
    "b.shape"
   ]
  },
  {
   "cell_type": "code",
   "execution_count": 51,
   "metadata": {},
   "outputs": [
    {
     "name": "stdout",
     "output_type": "stream",
     "text": [
      "['Yes' 'No']\n",
      "2\n"
     ]
    }
   ],
   "source": [
    "unique_values = b['Core_Developer'].unique()\n",
    "print(unique_values)\n",
    "print(unique_values.size)"
   ]
  },
  {
   "cell_type": "code",
   "execution_count": 83,
   "metadata": {},
   "outputs": [],
   "source": [
    "b = b.drop_duplicates(keep='first')"
   ]
  },
  {
   "cell_type": "code",
   "execution_count": 84,
   "metadata": {},
   "outputs": [
    {
     "data": {
      "text/plain": [
       "(7821, 3)"
      ]
     },
     "execution_count": 84,
     "metadata": {},
     "output_type": "execute_result"
    }
   ],
   "source": [
    "b.shape"
   ]
  },
  {
   "cell_type": "code",
   "execution_count": 85,
   "metadata": {},
   "outputs": [
    {
     "name": "stdout",
     "output_type": "stream",
     "text": [
      "False\n"
     ]
    }
   ],
   "source": [
    "# Check if there are any duplicate rows\n",
    "duplicates_exist = b.duplicated().any()\n",
    "\n",
    "print(duplicates_exist)"
   ]
  },
  {
   "cell_type": "code",
   "execution_count": 86,
   "metadata": {},
   "outputs": [
    {
     "name": "stdout",
     "output_type": "stream",
     "text": [
      "Core_developer values for project_id:\n",
      "['Yes', 'Yes', 'Yes', 'Yes', 'Yes', 'Yes', 'Yes', 'Yes', 'Yes', 'Yes', 'Yes', 'Yes', 'Yes', 'Yes', 'Yes', 'Yes', 'Yes', 'Yes', 'Yes', 'Yes', 'Yes', 'Yes', 'Yes', 'Yes', 'Yes', 'Yes', 'Yes', 'Yes', 'Yes', 'Yes', 'Yes', 'Yes', 'Yes', 'Yes', 'Yes', 'Yes', 'Yes', 'Yes', 'Yes', 'Yes', 'Yes', 'Yes', 'Yes', 'Yes', 'Yes', 'Yes', 'Yes', 'Yes', 'Yes', 'Yes', 'Yes', 'Yes', 'Yes', 'Yes', 'Yes', 'Yes', 'Yes', 'Yes', 'Yes', 'Yes', 'Yes', 'Yes', 'Yes', 'Yes', 'Yes', 'Yes', 'Yes', 'Yes', 'Yes', 'Yes', 'Yes', 'Yes', 'Yes', 'Yes', 'Yes', 'Yes', 'No', 'No', 'No', 'No', 'No', 'No', 'No', 'No', 'No', 'No', 'No', 'No', 'No', 'No', 'No', 'No', 'No', 'No', 'No', 'No', 'No', 'No', 'No', 'No', 'No', 'No', 'No', 'No', 'No', 'No', 'No', 'No', 'No', 'No', 'No', 'No', 'No', 'No', 'No', 'No', 'No', 'No', 'No', 'No', 'No', 'No', 'No', 'No', 'No', 'No', 'No', 'No', 'No', 'No', 'No', 'No', 'No', 'No', 'No', 'No', 'No', 'No', 'No', 'No', 'No', 'No', 'No', 'No', 'No', 'No', 'No', 'No', 'No', 'No', 'No', 'No', 'No', 'No', 'No', 'No', 'No', 'No', 'No', 'No', 'No', 'No', 'No', 'No', 'No', 'No', 'No', 'No', 'No', 'No', 'No', 'No', 'No', 'No', 'No', 'No', 'No', 'No', 'No', 'No', 'No', 'No', 'No', 'No', 'No', 'No', 'No', 'No', 'No', 'No', 'No', 'No', 'No', 'No', 'No', 'No', 'No', 'No', 'No', 'No', 'No', 'No', 'No', 'No', 'No', 'No', 'No', 'No', 'No', 'No', 'No', 'No', 'No', 'No', 'No', 'No', 'No', 'No', 'No', 'No', 'No', 'No', 'No', 'No', 'No', 'No', 'No', 'No', 'No', 'No', 'No', 'No', 'No', 'No', 'No', 'No', 'No', 'No', 'No', 'No', 'No', 'No', 'No', 'No', 'No', 'No', 'No', 'No', 'No', 'No', 'No', 'No', 'No', 'No', 'No', 'No', 'No', 'No', 'No', 'No', 'No', 'No', 'No', 'No', 'No', 'No', 'No', 'No', 'No', 'No', 'No', 'No', 'No', 'No', 'No', 'No', 'No', 'No', 'No', 'No', 'No', 'No', 'No', 'No', 'No', 'No', 'No', 'No', 'No', 'No', 'No', 'No', 'No', 'No', 'No', 'No', 'No', 'No', 'No', 'No', 'No', 'No', 'No', 'No', 'No', 'No', 'No', 'No', 'No', 'No', 'No', 'No', 'No', 'No', 'No', 'No', 'No', 'No', 'No', 'No', 'No', 'No', 'No', 'No', 'No', 'No', 'No', 'No', 'No', 'No', 'No', 'No', 'No', 'No', 'No', 'No', 'No', 'No', 'No', 'No', 'No', 'No', 'No', 'No', 'No', 'No', 'No', 'No', 'No', 'No', 'No', 'No', 'No', 'No', 'No', 'No', 'No', 'No', 'No', 'No', 'No', 'No', 'No', 'No', 'No', 'No', 'No', 'No', 'No', 'No', 'No', 'No', 'No', 'No', 'No', 'No', 'No', 'No', 'No', 'No', 'No', 'No', 'No', 'No', 'No', 'No', 'No', 'No', 'No', 'No', 'No', 'No', 'No', 'No', 'No', 'No', 'No', 'No', 'No', 'No', 'No', 'No', 'No', 'No', 'No', 'No', 'No', 'No', 'No', 'No', 'No', 'No', 'No', 'No', 'No', 'No', 'No', 'No', 'No', 'No', 'No', 'No', 'No', 'No', 'No', 'No', 'No', 'No', 'No', 'No', 'No', 'No', 'No', 'No', 'No', 'No', 'No', 'No', 'No', 'No', 'No', 'No', 'No', 'No', 'No', 'No', 'No', 'No', 'No', 'No', 'No', 'No', 'No', 'No', 'No', 'No', 'No', 'No', 'No', 'No', 'No', 'No', 'No', 'No', 'No', 'No', 'No', 'No', 'No', 'No', 'No', 'No', 'No', 'No', 'No', 'No', 'No', 'No', 'No', 'No', 'No', 'No', 'No', 'No', 'No', 'No', 'No', 'No', 'No', 'No', 'No', 'No', 'No', 'No', 'No', 'No', 'No', 'No', 'No', 'No', 'No', 'No', 'No', 'No', 'No', 'No', 'No', 'No', 'No', 'No', 'No', 'No', 'No', 'No', 'No', 'No', 'No', 'No', 'No', 'No', 'No', 'No', 'No', 'No', 'No', 'No', 'No', 'No', 'No', 'No', 'No', 'No', 'No', 'No', 'No', 'No', 'No', 'No', 'No', 'No', 'No', 'No', 'No', 'No', 'No', 'No', 'No', 'No', 'No', 'No', 'No', 'No', 'No', 'No', 'No', 'No', 'No', 'No', 'No', 'No', 'No', 'No', 'No', 'No', 'No']\n"
     ]
    }
   ],
   "source": [
    "# Filter rows where project_id is '54' and select Core_developer column\n",
    "core_dev_values = b.loc[b['project_id'] == 54, 'Core_Developer']\n",
    "\n",
    "# Print the results\n",
    "print(\"Core_developer values for project_id:\")\n",
    "print(core_dev_values.to_list())  # Converts to a list for better readability"
   ]
  },
  {
   "cell_type": "code",
   "execution_count": 87,
   "metadata": {},
   "outputs": [
    {
     "data": {
      "text/html": [
       "<div>\n",
       "<style scoped>\n",
       "    .dataframe tbody tr th:only-of-type {\n",
       "        vertical-align: middle;\n",
       "    }\n",
       "\n",
       "    .dataframe tbody tr th {\n",
       "        vertical-align: top;\n",
       "    }\n",
       "\n",
       "    .dataframe thead th {\n",
       "        text-align: right;\n",
       "    }\n",
       "</style>\n",
       "<table border=\"1\" class=\"dataframe\">\n",
       "  <thead>\n",
       "    <tr style=\"text-align: right;\">\n",
       "      <th></th>\n",
       "      <th>project_id</th>\n",
       "      <th>alias_id</th>\n",
       "      <th>Core_Developer</th>\n",
       "    </tr>\n",
       "  </thead>\n",
       "  <tbody>\n",
       "    <tr>\n",
       "      <th>0</th>\n",
       "      <td>1</td>\n",
       "      <td>4097</td>\n",
       "      <td>Yes</td>\n",
       "    </tr>\n",
       "    <tr>\n",
       "      <th>5</th>\n",
       "      <td>2</td>\n",
       "      <td>4427</td>\n",
       "      <td>Yes</td>\n",
       "    </tr>\n",
       "    <tr>\n",
       "      <th>2</th>\n",
       "      <td>2</td>\n",
       "      <td>4423</td>\n",
       "      <td>No</td>\n",
       "    </tr>\n",
       "    <tr>\n",
       "      <th>4</th>\n",
       "      <td>2</td>\n",
       "      <td>4425</td>\n",
       "      <td>No</td>\n",
       "    </tr>\n",
       "    <tr>\n",
       "      <th>6</th>\n",
       "      <td>2</td>\n",
       "      <td>4428</td>\n",
       "      <td>No</td>\n",
       "    </tr>\n",
       "    <tr>\n",
       "      <th>3</th>\n",
       "      <td>2</td>\n",
       "      <td>4424</td>\n",
       "      <td>No</td>\n",
       "    </tr>\n",
       "    <tr>\n",
       "      <th>1</th>\n",
       "      <td>2</td>\n",
       "      <td>4422</td>\n",
       "      <td>No</td>\n",
       "    </tr>\n",
       "    <tr>\n",
       "      <th>7</th>\n",
       "      <td>3</td>\n",
       "      <td>4099</td>\n",
       "      <td>Yes</td>\n",
       "    </tr>\n",
       "    <tr>\n",
       "      <th>10</th>\n",
       "      <td>3</td>\n",
       "      <td>5924</td>\n",
       "      <td>Yes</td>\n",
       "    </tr>\n",
       "    <tr>\n",
       "      <th>19</th>\n",
       "      <td>3</td>\n",
       "      <td>5933</td>\n",
       "      <td>Yes</td>\n",
       "    </tr>\n",
       "  </tbody>\n",
       "</table>\n",
       "</div>"
      ],
      "text/plain": [
       "    project_id  alias_id Core_Developer\n",
       "0            1      4097            Yes\n",
       "5            2      4427            Yes\n",
       "2            2      4423             No\n",
       "4            2      4425             No\n",
       "6            2      4428             No\n",
       "3            2      4424             No\n",
       "1            2      4422             No\n",
       "7            3      4099            Yes\n",
       "10           3      5924            Yes\n",
       "19           3      5933            Yes"
      ]
     },
     "execution_count": 87,
     "metadata": {},
     "output_type": "execute_result"
    }
   ],
   "source": [
    "b.head(10)"
   ]
  },
  {
   "cell_type": "code",
   "execution_count": 109,
   "metadata": {},
   "outputs": [
    {
     "name": "stderr",
     "output_type": "stream",
     "text": [
      "/tmp/ipykernel_261583/2494848850.py:1: SettingWithCopyWarning: \n",
      "A value is trying to be set on a copy of a slice from a DataFrame\n",
      "\n",
      "See the caveats in the documentation: https://pandas.pydata.org/pandas-docs/stable/user_guide/indexing.html#returning-a-view-versus-a-copy\n",
      "  c.rename(columns={'user': 'dev_name'}, inplace=True)\n",
      "/tmp/ipykernel_261583/2494848850.py:2: SettingWithCopyWarning: \n",
      "A value is trying to be set on a copy of a slice from a DataFrame\n",
      "\n",
      "See the caveats in the documentation: https://pandas.pydata.org/pandas-docs/stable/user_guide/indexing.html#returning-a-view-versus-a-copy\n",
      "  c.rename(columns={'state': 'pr_status'}, inplace=True)\n",
      "/tmp/ipykernel_261583/2494848850.py:3: SettingWithCopyWarning: \n",
      "A value is trying to be set on a copy of a slice from a DataFrame\n",
      "\n",
      "See the caveats in the documentation: https://pandas.pydata.org/pandas-docs/stable/user_guide/indexing.html#returning-a-view-versus-a-copy\n",
      "  c.rename(columns={'repo': 'project_name'}, inplace=True)\n",
      "/tmp/ipykernel_261583/2494848850.py:4: SettingWithCopyWarning: \n",
      "A value is trying to be set on a copy of a slice from a DataFrame\n",
      "\n",
      "See the caveats in the documentation: https://pandas.pydata.org/pandas-docs/stable/user_guide/indexing.html#returning-a-view-versus-a-copy\n",
      "  d.rename(columns={'personid': 'alias_id'}, inplace=True)\n"
     ]
    }
   ],
   "source": [
    "c.rename(columns={'user': 'dev_name'}, inplace=True)\n",
    "c.rename(columns={'state': 'pr_status'}, inplace=True)\n",
    "c.rename(columns={'repo': 'project_name'}, inplace=True)\n",
    "d.rename(columns={'personid': 'alias_id'}, inplace=True)"
   ]
  },
  {
   "cell_type": "code",
   "execution_count": 110,
   "metadata": {},
   "outputs": [
    {
     "data": {
      "text/html": [
       "<div>\n",
       "<style scoped>\n",
       "    .dataframe tbody tr th:only-of-type {\n",
       "        vertical-align: middle;\n",
       "    }\n",
       "\n",
       "    .dataframe tbody tr th {\n",
       "        vertical-align: top;\n",
       "    }\n",
       "\n",
       "    .dataframe thead th {\n",
       "        text-align: right;\n",
       "    }\n",
       "</style>\n",
       "<table border=\"1\" class=\"dataframe\">\n",
       "  <thead>\n",
       "    <tr style=\"text-align: right;\">\n",
       "      <th></th>\n",
       "      <th>project_name</th>\n",
       "      <th>dev_name</th>\n",
       "      <th>created_at</th>\n",
       "      <th>updated_at</th>\n",
       "      <th>closed_at</th>\n",
       "      <th>merged_at</th>\n",
       "      <th>pr_status</th>\n",
       "      <th>project_id</th>\n",
       "    </tr>\n",
       "  </thead>\n",
       "  <tbody>\n",
       "    <tr>\n",
       "      <th>0</th>\n",
       "      <td>abdera</td>\n",
       "      <td>dargooo</td>\n",
       "      <td>2020-11-26T21:21:33Z</td>\n",
       "      <td>2023-05-21T04:37:38Z</td>\n",
       "      <td>2023-05-21T04:37:38Z</td>\n",
       "      <td>NaN</td>\n",
       "      <td>closed</td>\n",
       "      <td>49.0</td>\n",
       "    </tr>\n",
       "    <tr>\n",
       "      <th>1</th>\n",
       "      <td>abdera</td>\n",
       "      <td>YYTVicky</td>\n",
       "      <td>2020-03-01T00:37:56Z</td>\n",
       "      <td>2020-04-30T02:01:45Z</td>\n",
       "      <td>NaN</td>\n",
       "      <td>NaN</td>\n",
       "      <td>open</td>\n",
       "      <td>49.0</td>\n",
       "    </tr>\n",
       "    <tr>\n",
       "      <th>2</th>\n",
       "      <td>abdera</td>\n",
       "      <td>nicolasyanncouturier</td>\n",
       "      <td>2013-10-18T13:32:37Z</td>\n",
       "      <td>2014-07-16T01:44:57Z</td>\n",
       "      <td>NaN</td>\n",
       "      <td>NaN</td>\n",
       "      <td>open</td>\n",
       "      <td>49.0</td>\n",
       "    </tr>\n",
       "    <tr>\n",
       "      <th>3</th>\n",
       "      <td>abdera</td>\n",
       "      <td>nicolasyanncouturier</td>\n",
       "      <td>2013-10-14T12:23:03Z</td>\n",
       "      <td>2014-07-13T19:17:32Z</td>\n",
       "      <td>NaN</td>\n",
       "      <td>NaN</td>\n",
       "      <td>open</td>\n",
       "      <td>49.0</td>\n",
       "    </tr>\n",
       "    <tr>\n",
       "      <th>4</th>\n",
       "      <td>accumulo</td>\n",
       "      <td>dlmarion</td>\n",
       "      <td>2023-12-06T14:20:37Z</td>\n",
       "      <td>2024-07-12T00:15:54Z</td>\n",
       "      <td>2023-12-06T14:34:06Z</td>\n",
       "      <td>2023-12-06T14:34:06Z</td>\n",
       "      <td>closed</td>\n",
       "      <td>50.0</td>\n",
       "    </tr>\n",
       "    <tr>\n",
       "      <th>5</th>\n",
       "      <td>accumulo</td>\n",
       "      <td>dlmarion</td>\n",
       "      <td>2023-12-06T14:02:03Z</td>\n",
       "      <td>2024-07-12T00:15:53Z</td>\n",
       "      <td>2023-12-06T14:17:41Z</td>\n",
       "      <td>2023-12-06T14:17:41Z</td>\n",
       "      <td>closed</td>\n",
       "      <td>50.0</td>\n",
       "    </tr>\n",
       "    <tr>\n",
       "      <th>6</th>\n",
       "      <td>accumulo</td>\n",
       "      <td>dlmarion</td>\n",
       "      <td>2023-12-06T13:02:38Z</td>\n",
       "      <td>2024-07-12T00:15:53Z</td>\n",
       "      <td>2023-12-06T14:18:21Z</td>\n",
       "      <td>2023-12-06T14:18:21Z</td>\n",
       "      <td>closed</td>\n",
       "      <td>50.0</td>\n",
       "    </tr>\n",
       "    <tr>\n",
       "      <th>7</th>\n",
       "      <td>accumulo</td>\n",
       "      <td>ctubbsii</td>\n",
       "      <td>2023-12-05T23:12:06Z</td>\n",
       "      <td>2024-07-12T01:30:39Z</td>\n",
       "      <td>2023-12-06T19:46:39Z</td>\n",
       "      <td>2023-12-06T19:46:38Z</td>\n",
       "      <td>closed</td>\n",
       "      <td>50.0</td>\n",
       "    </tr>\n",
       "    <tr>\n",
       "      <th>8</th>\n",
       "      <td>accumulo</td>\n",
       "      <td>dlmarion</td>\n",
       "      <td>2023-12-05T21:54:27Z</td>\n",
       "      <td>2024-07-12T00:15:52Z</td>\n",
       "      <td>2023-12-06T12:27:43Z</td>\n",
       "      <td>2023-12-06T12:27:43Z</td>\n",
       "      <td>closed</td>\n",
       "      <td>50.0</td>\n",
       "    </tr>\n",
       "    <tr>\n",
       "      <th>9</th>\n",
       "      <td>accumulo</td>\n",
       "      <td>dlmarion</td>\n",
       "      <td>2023-12-05T20:03:13Z</td>\n",
       "      <td>2024-07-12T00:15:52Z</td>\n",
       "      <td>2023-12-08T14:04:26Z</td>\n",
       "      <td>2023-12-08T14:04:26Z</td>\n",
       "      <td>closed</td>\n",
       "      <td>50.0</td>\n",
       "    </tr>\n",
       "  </tbody>\n",
       "</table>\n",
       "</div>"
      ],
      "text/plain": [
       "  project_name              dev_name            created_at  \\\n",
       "0       abdera               dargooo  2020-11-26T21:21:33Z   \n",
       "1       abdera              YYTVicky  2020-03-01T00:37:56Z   \n",
       "2       abdera  nicolasyanncouturier  2013-10-18T13:32:37Z   \n",
       "3       abdera  nicolasyanncouturier  2013-10-14T12:23:03Z   \n",
       "4     accumulo              dlmarion  2023-12-06T14:20:37Z   \n",
       "5     accumulo              dlmarion  2023-12-06T14:02:03Z   \n",
       "6     accumulo              dlmarion  2023-12-06T13:02:38Z   \n",
       "7     accumulo              ctubbsii  2023-12-05T23:12:06Z   \n",
       "8     accumulo              dlmarion  2023-12-05T21:54:27Z   \n",
       "9     accumulo              dlmarion  2023-12-05T20:03:13Z   \n",
       "\n",
       "             updated_at             closed_at             merged_at pr_status  \\\n",
       "0  2023-05-21T04:37:38Z  2023-05-21T04:37:38Z                   NaN    closed   \n",
       "1  2020-04-30T02:01:45Z                   NaN                   NaN      open   \n",
       "2  2014-07-16T01:44:57Z                   NaN                   NaN      open   \n",
       "3  2014-07-13T19:17:32Z                   NaN                   NaN      open   \n",
       "4  2024-07-12T00:15:54Z  2023-12-06T14:34:06Z  2023-12-06T14:34:06Z    closed   \n",
       "5  2024-07-12T00:15:53Z  2023-12-06T14:17:41Z  2023-12-06T14:17:41Z    closed   \n",
       "6  2024-07-12T00:15:53Z  2023-12-06T14:18:21Z  2023-12-06T14:18:21Z    closed   \n",
       "7  2024-07-12T01:30:39Z  2023-12-06T19:46:39Z  2023-12-06T19:46:38Z    closed   \n",
       "8  2024-07-12T00:15:52Z  2023-12-06T12:27:43Z  2023-12-06T12:27:43Z    closed   \n",
       "9  2024-07-12T00:15:52Z  2023-12-08T14:04:26Z  2023-12-08T14:04:26Z    closed   \n",
       "\n",
       "   project_id  \n",
       "0        49.0  \n",
       "1        49.0  \n",
       "2        49.0  \n",
       "3        49.0  \n",
       "4        50.0  \n",
       "5        50.0  \n",
       "6        50.0  \n",
       "7        50.0  \n",
       "8        50.0  \n",
       "9        50.0  "
      ]
     },
     "execution_count": 110,
     "metadata": {},
     "output_type": "execute_result"
    }
   ],
   "source": [
    "c.head(10)"
   ]
  },
  {
   "cell_type": "code",
   "execution_count": 90,
   "metadata": {},
   "outputs": [
    {
     "data": {
      "text/plain": [
       "(569448, 8)"
      ]
     },
     "execution_count": 90,
     "metadata": {},
     "output_type": "execute_result"
    }
   ],
   "source": [
    "c.shape"
   ]
  },
  {
   "cell_type": "code",
   "execution_count": null,
   "metadata": {},
   "outputs": [
    {
     "name": "stdout",
     "output_type": "stream",
     "text": [
      "False\n"
     ]
    }
   ],
   "source": [
    "# Check if a column contains NaN\n",
    "has_nan = c['created_at'].isna().any()\n",
    "\n",
    "print(has_nan)  # Output: True"
   ]
  },
  {
   "cell_type": "code",
   "execution_count": 111,
   "metadata": {},
   "outputs": [
    {
     "name": "stderr",
     "output_type": "stream",
     "text": [
      "/tmp/ipykernel_261583/2938148627.py:4: SettingWithCopyWarning: \n",
      "A value is trying to be set on a copy of a slice from a DataFrame.\n",
      "Try using .loc[row_indexer,col_indexer] = value instead\n",
      "\n",
      "See the caveats in the documentation: https://pandas.pydata.org/pandas-docs/stable/user_guide/indexing.html#returning-a-view-versus-a-copy\n",
      "  df[['created_at', 'updated_at', 'closed_at', 'merged_at']] = df[['created_at', 'updated_at', 'closed_at', 'merged_at']].apply(pd.to_datetime)\n",
      "/tmp/ipykernel_261583/2938148627.py:7: SettingWithCopyWarning: \n",
      "A value is trying to be set on a copy of a slice from a DataFrame.\n",
      "Try using .loc[row_indexer,col_indexer] = value instead\n",
      "\n",
      "See the caveats in the documentation: https://pandas.pydata.org/pandas-docs/stable/user_guide/indexing.html#returning-a-view-versus-a-copy\n",
      "  df['pr_status'] = df['merged_at'].notna().map({True: 'Merged', False: 'Closed'})\n"
     ]
    }
   ],
   "source": [
    "df=c\n",
    "\n",
    "# Convert date columns to datetime format\n",
    "df[['created_at', 'updated_at', 'closed_at', 'merged_at']] = df[['created_at', 'updated_at', 'closed_at', 'merged_at']].apply(pd.to_datetime)\n",
    "\n",
    "# Assign 'Merged' if 'merged_at' is not NaN, otherwise 'Closed'\n",
    "df['pr_status'] = df['merged_at'].notna().map({True: 'Merged', False: 'Closed'})\n",
    "\n",
    "# Make pr_status where both 'closed_at' and 'merged_at' are NaN as 'Open'\n",
    "df.loc[df[['closed_at', 'merged_at']].isna().all(axis=1), 'pr_status'] = 'Open'\n",
    "\n",
    "c=df"
   ]
  },
  {
   "cell_type": "code",
   "execution_count": 99,
   "metadata": {},
   "outputs": [
    {
     "data": {
      "text/html": [
       "<div>\n",
       "<style scoped>\n",
       "    .dataframe tbody tr th:only-of-type {\n",
       "        vertical-align: middle;\n",
       "    }\n",
       "\n",
       "    .dataframe tbody tr th {\n",
       "        vertical-align: top;\n",
       "    }\n",
       "\n",
       "    .dataframe thead th {\n",
       "        text-align: right;\n",
       "    }\n",
       "</style>\n",
       "<table border=\"1\" class=\"dataframe\">\n",
       "  <thead>\n",
       "    <tr style=\"text-align: right;\">\n",
       "      <th></th>\n",
       "      <th>project_name</th>\n",
       "      <th>dev_name</th>\n",
       "      <th>created_at</th>\n",
       "      <th>updated_at</th>\n",
       "      <th>closed_at</th>\n",
       "      <th>merged_at</th>\n",
       "      <th>pr_status</th>\n",
       "      <th>project_id</th>\n",
       "    </tr>\n",
       "  </thead>\n",
       "  <tbody>\n",
       "    <tr>\n",
       "      <th>0</th>\n",
       "      <td>abdera</td>\n",
       "      <td>dargooo</td>\n",
       "      <td>2020-11-26 21:21:33+00:00</td>\n",
       "      <td>2023-05-21 04:37:38+00:00</td>\n",
       "      <td>2023-05-21 04:37:38+00:00</td>\n",
       "      <td>NaT</td>\n",
       "      <td>Closed</td>\n",
       "      <td>49.0</td>\n",
       "    </tr>\n",
       "    <tr>\n",
       "      <th>1</th>\n",
       "      <td>abdera</td>\n",
       "      <td>YYTVicky</td>\n",
       "      <td>2020-03-01 00:37:56+00:00</td>\n",
       "      <td>2020-04-30 02:01:45+00:00</td>\n",
       "      <td>NaT</td>\n",
       "      <td>NaT</td>\n",
       "      <td>Open</td>\n",
       "      <td>49.0</td>\n",
       "    </tr>\n",
       "    <tr>\n",
       "      <th>2</th>\n",
       "      <td>abdera</td>\n",
       "      <td>nicolasyanncouturier</td>\n",
       "      <td>2013-10-18 13:32:37+00:00</td>\n",
       "      <td>2014-07-16 01:44:57+00:00</td>\n",
       "      <td>NaT</td>\n",
       "      <td>NaT</td>\n",
       "      <td>Open</td>\n",
       "      <td>49.0</td>\n",
       "    </tr>\n",
       "    <tr>\n",
       "      <th>3</th>\n",
       "      <td>abdera</td>\n",
       "      <td>nicolasyanncouturier</td>\n",
       "      <td>2013-10-14 12:23:03+00:00</td>\n",
       "      <td>2014-07-13 19:17:32+00:00</td>\n",
       "      <td>NaT</td>\n",
       "      <td>NaT</td>\n",
       "      <td>Open</td>\n",
       "      <td>49.0</td>\n",
       "    </tr>\n",
       "    <tr>\n",
       "      <th>4</th>\n",
       "      <td>accumulo</td>\n",
       "      <td>dlmarion</td>\n",
       "      <td>2023-12-06 14:20:37+00:00</td>\n",
       "      <td>2024-07-12 00:15:54+00:00</td>\n",
       "      <td>2023-12-06 14:34:06+00:00</td>\n",
       "      <td>2023-12-06 14:34:06+00:00</td>\n",
       "      <td>Merged</td>\n",
       "      <td>50.0</td>\n",
       "    </tr>\n",
       "    <tr>\n",
       "      <th>5</th>\n",
       "      <td>accumulo</td>\n",
       "      <td>dlmarion</td>\n",
       "      <td>2023-12-06 14:02:03+00:00</td>\n",
       "      <td>2024-07-12 00:15:53+00:00</td>\n",
       "      <td>2023-12-06 14:17:41+00:00</td>\n",
       "      <td>2023-12-06 14:17:41+00:00</td>\n",
       "      <td>Merged</td>\n",
       "      <td>50.0</td>\n",
       "    </tr>\n",
       "    <tr>\n",
       "      <th>6</th>\n",
       "      <td>accumulo</td>\n",
       "      <td>dlmarion</td>\n",
       "      <td>2023-12-06 13:02:38+00:00</td>\n",
       "      <td>2024-07-12 00:15:53+00:00</td>\n",
       "      <td>2023-12-06 14:18:21+00:00</td>\n",
       "      <td>2023-12-06 14:18:21+00:00</td>\n",
       "      <td>Merged</td>\n",
       "      <td>50.0</td>\n",
       "    </tr>\n",
       "    <tr>\n",
       "      <th>7</th>\n",
       "      <td>accumulo</td>\n",
       "      <td>ctubbsii</td>\n",
       "      <td>2023-12-05 23:12:06+00:00</td>\n",
       "      <td>2024-07-12 01:30:39+00:00</td>\n",
       "      <td>2023-12-06 19:46:39+00:00</td>\n",
       "      <td>2023-12-06 19:46:38+00:00</td>\n",
       "      <td>Merged</td>\n",
       "      <td>50.0</td>\n",
       "    </tr>\n",
       "    <tr>\n",
       "      <th>8</th>\n",
       "      <td>accumulo</td>\n",
       "      <td>dlmarion</td>\n",
       "      <td>2023-12-05 21:54:27+00:00</td>\n",
       "      <td>2024-07-12 00:15:52+00:00</td>\n",
       "      <td>2023-12-06 12:27:43+00:00</td>\n",
       "      <td>2023-12-06 12:27:43+00:00</td>\n",
       "      <td>Merged</td>\n",
       "      <td>50.0</td>\n",
       "    </tr>\n",
       "    <tr>\n",
       "      <th>9</th>\n",
       "      <td>accumulo</td>\n",
       "      <td>dlmarion</td>\n",
       "      <td>2023-12-05 20:03:13+00:00</td>\n",
       "      <td>2024-07-12 00:15:52+00:00</td>\n",
       "      <td>2023-12-08 14:04:26+00:00</td>\n",
       "      <td>2023-12-08 14:04:26+00:00</td>\n",
       "      <td>Merged</td>\n",
       "      <td>50.0</td>\n",
       "    </tr>\n",
       "  </tbody>\n",
       "</table>\n",
       "</div>"
      ],
      "text/plain": [
       "  project_name              dev_name                created_at  \\\n",
       "0       abdera               dargooo 2020-11-26 21:21:33+00:00   \n",
       "1       abdera              YYTVicky 2020-03-01 00:37:56+00:00   \n",
       "2       abdera  nicolasyanncouturier 2013-10-18 13:32:37+00:00   \n",
       "3       abdera  nicolasyanncouturier 2013-10-14 12:23:03+00:00   \n",
       "4     accumulo              dlmarion 2023-12-06 14:20:37+00:00   \n",
       "5     accumulo              dlmarion 2023-12-06 14:02:03+00:00   \n",
       "6     accumulo              dlmarion 2023-12-06 13:02:38+00:00   \n",
       "7     accumulo              ctubbsii 2023-12-05 23:12:06+00:00   \n",
       "8     accumulo              dlmarion 2023-12-05 21:54:27+00:00   \n",
       "9     accumulo              dlmarion 2023-12-05 20:03:13+00:00   \n",
       "\n",
       "                 updated_at                 closed_at  \\\n",
       "0 2023-05-21 04:37:38+00:00 2023-05-21 04:37:38+00:00   \n",
       "1 2020-04-30 02:01:45+00:00                       NaT   \n",
       "2 2014-07-16 01:44:57+00:00                       NaT   \n",
       "3 2014-07-13 19:17:32+00:00                       NaT   \n",
       "4 2024-07-12 00:15:54+00:00 2023-12-06 14:34:06+00:00   \n",
       "5 2024-07-12 00:15:53+00:00 2023-12-06 14:17:41+00:00   \n",
       "6 2024-07-12 00:15:53+00:00 2023-12-06 14:18:21+00:00   \n",
       "7 2024-07-12 01:30:39+00:00 2023-12-06 19:46:39+00:00   \n",
       "8 2024-07-12 00:15:52+00:00 2023-12-06 12:27:43+00:00   \n",
       "9 2024-07-12 00:15:52+00:00 2023-12-08 14:04:26+00:00   \n",
       "\n",
       "                  merged_at pr_status  project_id  \n",
       "0                       NaT    Closed        49.0  \n",
       "1                       NaT      Open        49.0  \n",
       "2                       NaT      Open        49.0  \n",
       "3                       NaT      Open        49.0  \n",
       "4 2023-12-06 14:34:06+00:00    Merged        50.0  \n",
       "5 2023-12-06 14:17:41+00:00    Merged        50.0  \n",
       "6 2023-12-06 14:18:21+00:00    Merged        50.0  \n",
       "7 2023-12-06 19:46:38+00:00    Merged        50.0  \n",
       "8 2023-12-06 12:27:43+00:00    Merged        50.0  \n",
       "9 2023-12-08 14:04:26+00:00    Merged        50.0  "
      ]
     },
     "execution_count": 99,
     "metadata": {},
     "output_type": "execute_result"
    }
   ],
   "source": [
    "c.head(10)"
   ]
  },
  {
   "cell_type": "code",
   "execution_count": null,
   "metadata": {},
   "outputs": [
    {
     "data": {
      "text/plain": [
       "(569448, 8)"
      ]
     },
     "execution_count": 100,
     "metadata": {},
     "output_type": "execute_result"
    }
   ],
   "source": [
    "c.shape"
   ]
  },
  {
   "cell_type": "markdown",
   "metadata": {},
   "source": [
    "**Merging the tables**"
   ]
  },
  {
   "cell_type": "code",
   "execution_count": 121,
   "metadata": {},
   "outputs": [],
   "source": [
    "e = c.merge(a, on='project_id', how='left')\n",
    "# Convert 'd' into a dictionary for faster lookup\n",
    "dev_alias_mapping = dict(zip(d['dev_name'], d['alias_id']))\n",
    "\n",
    "# Manually search for each dev_name in 'e' within the 'd' dictionary\n",
    "e['alias_id'] = e['dev_name'].apply(lambda x: dev_alias_mapping.get(x, np.nan))"
   ]
  },
  {
   "cell_type": "code",
   "execution_count": 122,
   "metadata": {},
   "outputs": [
    {
     "data": {
      "text/plain": [
       "Index(['project_name', 'dev_name', 'created_at', 'updated_at', 'closed_at',\n",
       "       'merged_at', 'pr_status', 'project_id', 'project_status', 'alias_id'],\n",
       "      dtype='object')"
      ]
     },
     "execution_count": 122,
     "metadata": {},
     "output_type": "execute_result"
    }
   ],
   "source": [
    "e.columns"
   ]
  },
  {
   "cell_type": "code",
   "execution_count": 123,
   "metadata": {},
   "outputs": [
    {
     "data": {
      "text/plain": [
       "(569448, 10)"
      ]
     },
     "execution_count": 123,
     "metadata": {},
     "output_type": "execute_result"
    }
   ],
   "source": [
    "e.shape"
   ]
  },
  {
   "cell_type": "code",
   "execution_count": 124,
   "metadata": {},
   "outputs": [
    {
     "name": "stdout",
     "output_type": "stream",
     "text": [
      "True\n"
     ]
    }
   ],
   "source": [
    "# Check if a column contains NaN\n",
    "has_nan = e['alias_id'].isna().any()\n",
    "\n",
    "print(has_nan)  # Output: True"
   ]
  },
  {
   "cell_type": "code",
   "execution_count": 125,
   "metadata": {},
   "outputs": [],
   "source": [
    "# Convert b into a lookup dictionary\n",
    "b_lookup = {(row.project_id, row.alias_id): row.Core_Developer for row in b.itertuples(index=False)}\n",
    "\n",
    "# Function to determine Core_Developer status\n",
    "def determine_core_dev(row):\n",
    "    if pd.isna(row.alias_id):\n",
    "        return 'No'\n",
    "    return b_lookup.get((row.project_id, row.alias_id), 'No')\n",
    "\n",
    "# Apply the function to assign Core_Developer column in e\n",
    "e['Core_Developer'] = e.apply(determine_core_dev, axis=1)"
   ]
  },
  {
   "cell_type": "code",
   "execution_count": 126,
   "metadata": {},
   "outputs": [
    {
     "data": {
      "text/plain": [
       "(569448, 11)"
      ]
     },
     "execution_count": 126,
     "metadata": {},
     "output_type": "execute_result"
    }
   ],
   "source": [
    "e.shape"
   ]
  },
  {
   "cell_type": "code",
   "execution_count": 127,
   "metadata": {},
   "outputs": [
    {
     "data": {
      "text/html": [
       "<div>\n",
       "<style scoped>\n",
       "    .dataframe tbody tr th:only-of-type {\n",
       "        vertical-align: middle;\n",
       "    }\n",
       "\n",
       "    .dataframe tbody tr th {\n",
       "        vertical-align: top;\n",
       "    }\n",
       "\n",
       "    .dataframe thead th {\n",
       "        text-align: right;\n",
       "    }\n",
       "</style>\n",
       "<table border=\"1\" class=\"dataframe\">\n",
       "  <thead>\n",
       "    <tr style=\"text-align: right;\">\n",
       "      <th></th>\n",
       "      <th>project_name</th>\n",
       "      <th>dev_name</th>\n",
       "      <th>created_at</th>\n",
       "      <th>updated_at</th>\n",
       "      <th>closed_at</th>\n",
       "      <th>merged_at</th>\n",
       "      <th>pr_status</th>\n",
       "      <th>project_id</th>\n",
       "      <th>project_status</th>\n",
       "      <th>alias_id</th>\n",
       "      <th>Core_Developer</th>\n",
       "    </tr>\n",
       "  </thead>\n",
       "  <tbody>\n",
       "    <tr>\n",
       "      <th>0</th>\n",
       "      <td>abdera</td>\n",
       "      <td>dargooo</td>\n",
       "      <td>2020-11-26 21:21:33+00:00</td>\n",
       "      <td>2023-05-21 04:37:38+00:00</td>\n",
       "      <td>2023-05-21 04:37:38+00:00</td>\n",
       "      <td>NaT</td>\n",
       "      <td>Closed</td>\n",
       "      <td>49.0</td>\n",
       "      <td>1</td>\n",
       "      <td>NaN</td>\n",
       "      <td>No</td>\n",
       "    </tr>\n",
       "    <tr>\n",
       "      <th>1</th>\n",
       "      <td>abdera</td>\n",
       "      <td>YYTVicky</td>\n",
       "      <td>2020-03-01 00:37:56+00:00</td>\n",
       "      <td>2020-04-30 02:01:45+00:00</td>\n",
       "      <td>NaT</td>\n",
       "      <td>NaT</td>\n",
       "      <td>Open</td>\n",
       "      <td>49.0</td>\n",
       "      <td>1</td>\n",
       "      <td>NaN</td>\n",
       "      <td>No</td>\n",
       "    </tr>\n",
       "    <tr>\n",
       "      <th>2</th>\n",
       "      <td>abdera</td>\n",
       "      <td>nicolasyanncouturier</td>\n",
       "      <td>2013-10-18 13:32:37+00:00</td>\n",
       "      <td>2014-07-16 01:44:57+00:00</td>\n",
       "      <td>NaT</td>\n",
       "      <td>NaT</td>\n",
       "      <td>Open</td>\n",
       "      <td>49.0</td>\n",
       "      <td>1</td>\n",
       "      <td>NaN</td>\n",
       "      <td>No</td>\n",
       "    </tr>\n",
       "    <tr>\n",
       "      <th>3</th>\n",
       "      <td>abdera</td>\n",
       "      <td>nicolasyanncouturier</td>\n",
       "      <td>2013-10-14 12:23:03+00:00</td>\n",
       "      <td>2014-07-13 19:17:32+00:00</td>\n",
       "      <td>NaT</td>\n",
       "      <td>NaT</td>\n",
       "      <td>Open</td>\n",
       "      <td>49.0</td>\n",
       "      <td>1</td>\n",
       "      <td>NaN</td>\n",
       "      <td>No</td>\n",
       "    </tr>\n",
       "    <tr>\n",
       "      <th>4</th>\n",
       "      <td>accumulo</td>\n",
       "      <td>dlmarion</td>\n",
       "      <td>2023-12-06 14:20:37+00:00</td>\n",
       "      <td>2024-07-12 00:15:54+00:00</td>\n",
       "      <td>2023-12-06 14:34:06+00:00</td>\n",
       "      <td>2023-12-06 14:34:06+00:00</td>\n",
       "      <td>Merged</td>\n",
       "      <td>50.0</td>\n",
       "      <td>1</td>\n",
       "      <td>340.0</td>\n",
       "      <td>No</td>\n",
       "    </tr>\n",
       "    <tr>\n",
       "      <th>5</th>\n",
       "      <td>accumulo</td>\n",
       "      <td>dlmarion</td>\n",
       "      <td>2023-12-06 14:02:03+00:00</td>\n",
       "      <td>2024-07-12 00:15:53+00:00</td>\n",
       "      <td>2023-12-06 14:17:41+00:00</td>\n",
       "      <td>2023-12-06 14:17:41+00:00</td>\n",
       "      <td>Merged</td>\n",
       "      <td>50.0</td>\n",
       "      <td>1</td>\n",
       "      <td>340.0</td>\n",
       "      <td>No</td>\n",
       "    </tr>\n",
       "    <tr>\n",
       "      <th>6</th>\n",
       "      <td>accumulo</td>\n",
       "      <td>dlmarion</td>\n",
       "      <td>2023-12-06 13:02:38+00:00</td>\n",
       "      <td>2024-07-12 00:15:53+00:00</td>\n",
       "      <td>2023-12-06 14:18:21+00:00</td>\n",
       "      <td>2023-12-06 14:18:21+00:00</td>\n",
       "      <td>Merged</td>\n",
       "      <td>50.0</td>\n",
       "      <td>1</td>\n",
       "      <td>340.0</td>\n",
       "      <td>No</td>\n",
       "    </tr>\n",
       "    <tr>\n",
       "      <th>7</th>\n",
       "      <td>accumulo</td>\n",
       "      <td>ctubbsii</td>\n",
       "      <td>2023-12-05 23:12:06+00:00</td>\n",
       "      <td>2024-07-12 01:30:39+00:00</td>\n",
       "      <td>2023-12-06 19:46:39+00:00</td>\n",
       "      <td>2023-12-06 19:46:38+00:00</td>\n",
       "      <td>Merged</td>\n",
       "      <td>50.0</td>\n",
       "      <td>1</td>\n",
       "      <td>16961.0</td>\n",
       "      <td>No</td>\n",
       "    </tr>\n",
       "    <tr>\n",
       "      <th>8</th>\n",
       "      <td>accumulo</td>\n",
       "      <td>dlmarion</td>\n",
       "      <td>2023-12-05 21:54:27+00:00</td>\n",
       "      <td>2024-07-12 00:15:52+00:00</td>\n",
       "      <td>2023-12-06 12:27:43+00:00</td>\n",
       "      <td>2023-12-06 12:27:43+00:00</td>\n",
       "      <td>Merged</td>\n",
       "      <td>50.0</td>\n",
       "      <td>1</td>\n",
       "      <td>340.0</td>\n",
       "      <td>No</td>\n",
       "    </tr>\n",
       "    <tr>\n",
       "      <th>9</th>\n",
       "      <td>accumulo</td>\n",
       "      <td>dlmarion</td>\n",
       "      <td>2023-12-05 20:03:13+00:00</td>\n",
       "      <td>2024-07-12 00:15:52+00:00</td>\n",
       "      <td>2023-12-08 14:04:26+00:00</td>\n",
       "      <td>2023-12-08 14:04:26+00:00</td>\n",
       "      <td>Merged</td>\n",
       "      <td>50.0</td>\n",
       "      <td>1</td>\n",
       "      <td>340.0</td>\n",
       "      <td>No</td>\n",
       "    </tr>\n",
       "  </tbody>\n",
       "</table>\n",
       "</div>"
      ],
      "text/plain": [
       "  project_name              dev_name                created_at  \\\n",
       "0       abdera               dargooo 2020-11-26 21:21:33+00:00   \n",
       "1       abdera              YYTVicky 2020-03-01 00:37:56+00:00   \n",
       "2       abdera  nicolasyanncouturier 2013-10-18 13:32:37+00:00   \n",
       "3       abdera  nicolasyanncouturier 2013-10-14 12:23:03+00:00   \n",
       "4     accumulo              dlmarion 2023-12-06 14:20:37+00:00   \n",
       "5     accumulo              dlmarion 2023-12-06 14:02:03+00:00   \n",
       "6     accumulo              dlmarion 2023-12-06 13:02:38+00:00   \n",
       "7     accumulo              ctubbsii 2023-12-05 23:12:06+00:00   \n",
       "8     accumulo              dlmarion 2023-12-05 21:54:27+00:00   \n",
       "9     accumulo              dlmarion 2023-12-05 20:03:13+00:00   \n",
       "\n",
       "                 updated_at                 closed_at  \\\n",
       "0 2023-05-21 04:37:38+00:00 2023-05-21 04:37:38+00:00   \n",
       "1 2020-04-30 02:01:45+00:00                       NaT   \n",
       "2 2014-07-16 01:44:57+00:00                       NaT   \n",
       "3 2014-07-13 19:17:32+00:00                       NaT   \n",
       "4 2024-07-12 00:15:54+00:00 2023-12-06 14:34:06+00:00   \n",
       "5 2024-07-12 00:15:53+00:00 2023-12-06 14:17:41+00:00   \n",
       "6 2024-07-12 00:15:53+00:00 2023-12-06 14:18:21+00:00   \n",
       "7 2024-07-12 01:30:39+00:00 2023-12-06 19:46:39+00:00   \n",
       "8 2024-07-12 00:15:52+00:00 2023-12-06 12:27:43+00:00   \n",
       "9 2024-07-12 00:15:52+00:00 2023-12-08 14:04:26+00:00   \n",
       "\n",
       "                  merged_at pr_status  project_id  project_status  alias_id  \\\n",
       "0                       NaT    Closed        49.0               1       NaN   \n",
       "1                       NaT      Open        49.0               1       NaN   \n",
       "2                       NaT      Open        49.0               1       NaN   \n",
       "3                       NaT      Open        49.0               1       NaN   \n",
       "4 2023-12-06 14:34:06+00:00    Merged        50.0               1     340.0   \n",
       "5 2023-12-06 14:17:41+00:00    Merged        50.0               1     340.0   \n",
       "6 2023-12-06 14:18:21+00:00    Merged        50.0               1     340.0   \n",
       "7 2023-12-06 19:46:38+00:00    Merged        50.0               1   16961.0   \n",
       "8 2023-12-06 12:27:43+00:00    Merged        50.0               1     340.0   \n",
       "9 2023-12-08 14:04:26+00:00    Merged        50.0               1     340.0   \n",
       "\n",
       "  Core_Developer  \n",
       "0             No  \n",
       "1             No  \n",
       "2             No  \n",
       "3             No  \n",
       "4             No  \n",
       "5             No  \n",
       "6             No  \n",
       "7             No  \n",
       "8             No  \n",
       "9             No  "
      ]
     },
     "execution_count": 127,
     "metadata": {},
     "output_type": "execute_result"
    }
   ],
   "source": [
    "e.head(10)"
   ]
  },
  {
   "cell_type": "code",
   "execution_count": 128,
   "metadata": {},
   "outputs": [
    {
     "name": "stdout",
     "output_type": "stream",
     "text": [
      "['No' 'Yes']\n",
      "2\n"
     ]
    }
   ],
   "source": [
    "# Determining the total Unique values in a column\n",
    "unique_values = e['Core_Developer'].unique()\n",
    "print(unique_values)\n",
    "print(unique_values.size)"
   ]
  },
  {
   "cell_type": "code",
   "execution_count": 129,
   "metadata": {},
   "outputs": [
    {
     "data": {
      "text/plain": [
       "project_status\n",
       "1    374500\n",
       "0    191219\n",
       "2      3729\n",
       "Name: count, dtype: int64"
      ]
     },
     "execution_count": 129,
     "metadata": {},
     "output_type": "execute_result"
    }
   ],
   "source": [
    "# Counting unique values\n",
    "e['project_status'].value_counts()"
   ]
  },
  {
   "cell_type": "code",
   "execution_count": 130,
   "metadata": {},
   "outputs": [],
   "source": [
    "# Save the DataFrame to a CSV file in the current directory\n",
    "e.to_csv('pr_core_dev.csv', index=False)"
   ]
  }
 ],
 "metadata": {
  "kernelspec": {
   "display_name": "Python 3",
   "language": "python",
   "name": "python3"
  },
  "language_info": {
   "codemirror_mode": {
    "name": "ipython",
    "version": 3
   },
   "file_extension": ".py",
   "mimetype": "text/x-python",
   "name": "python",
   "nbconvert_exporter": "python",
   "pygments_lexer": "ipython3",
   "version": "3.10.12"
  }
 },
 "nbformat": 4,
 "nbformat_minor": 2
}
