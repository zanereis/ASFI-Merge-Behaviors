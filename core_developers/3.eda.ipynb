{
 "cells": [
  {
   "cell_type": "markdown",
   "metadata": {},
   "source": [
    "**Importing Libraries and Files**"
   ]
  },
  {
   "cell_type": "code",
   "execution_count": 30,
   "metadata": {},
   "outputs": [],
   "source": [
    "import pandas as pd\n",
    "import numpy as np"
   ]
  },
  {
   "cell_type": "code",
   "execution_count": 59,
   "metadata": {},
   "outputs": [],
   "source": [
    "df = pd.read_csv(\"pr_core_dev.csv\")"
   ]
  },
  {
   "cell_type": "code",
   "execution_count": 62,
   "metadata": {},
   "outputs": [
    {
     "name": "stdout",
     "output_type": "stream",
     "text": [
      "True\n"
     ]
    }
   ],
   "source": [
    "# Check if a column contains NaN\n",
    "has_nan = df['project_status'].isna().any()\n",
    "\n",
    "print(has_nan) "
   ]
  },
  {
   "cell_type": "code",
   "execution_count": 60,
   "metadata": {},
   "outputs": [],
   "source": [
    "p=df[['project_status','Core_Developer']]\n",
    "p.to_csv(\"check.csv\",index=False)"
   ]
  },
  {
   "cell_type": "code",
   "execution_count": 32,
   "metadata": {},
   "outputs": [
    {
     "data": {
      "text/html": [
       "<div>\n",
       "<style scoped>\n",
       "    .dataframe tbody tr th:only-of-type {\n",
       "        vertical-align: middle;\n",
       "    }\n",
       "\n",
       "    .dataframe tbody tr th {\n",
       "        vertical-align: top;\n",
       "    }\n",
       "\n",
       "    .dataframe thead th {\n",
       "        text-align: right;\n",
       "    }\n",
       "</style>\n",
       "<table border=\"1\" class=\"dataframe\">\n",
       "  <thead>\n",
       "    <tr style=\"text-align: right;\">\n",
       "      <th></th>\n",
       "      <th>project_name</th>\n",
       "      <th>dev_name</th>\n",
       "      <th>created_at</th>\n",
       "      <th>updated_at</th>\n",
       "      <th>closed_at</th>\n",
       "      <th>merged_at</th>\n",
       "      <th>pr_status</th>\n",
       "      <th>project_id</th>\n",
       "      <th>project_status</th>\n",
       "      <th>alias_id</th>\n",
       "      <th>Core_Developer</th>\n",
       "    </tr>\n",
       "  </thead>\n",
       "  <tbody>\n",
       "    <tr>\n",
       "      <th>0</th>\n",
       "      <td>Abdera</td>\n",
       "      <td>dargooo</td>\n",
       "      <td>2020-11-26 21:21:33+00:00</td>\n",
       "      <td>2023-05-21 04:37:38+00:00</td>\n",
       "      <td>2023-05-21 04:37:38+00:00</td>\n",
       "      <td>NaN</td>\n",
       "      <td>Closed</td>\n",
       "      <td>49.0</td>\n",
       "      <td>1.0</td>\n",
       "      <td>NaN</td>\n",
       "      <td>No</td>\n",
       "    </tr>\n",
       "    <tr>\n",
       "      <th>1</th>\n",
       "      <td>Abdera</td>\n",
       "      <td>YYTVicky</td>\n",
       "      <td>2020-03-01 00:37:56+00:00</td>\n",
       "      <td>2020-04-30 02:01:45+00:00</td>\n",
       "      <td>NaN</td>\n",
       "      <td>NaN</td>\n",
       "      <td>Open</td>\n",
       "      <td>49.0</td>\n",
       "      <td>1.0</td>\n",
       "      <td>NaN</td>\n",
       "      <td>No</td>\n",
       "    </tr>\n",
       "    <tr>\n",
       "      <th>2</th>\n",
       "      <td>Abdera</td>\n",
       "      <td>nicolasyanncouturier</td>\n",
       "      <td>2013-10-18 13:32:37+00:00</td>\n",
       "      <td>2014-07-16 01:44:57+00:00</td>\n",
       "      <td>NaN</td>\n",
       "      <td>NaN</td>\n",
       "      <td>Open</td>\n",
       "      <td>49.0</td>\n",
       "      <td>1.0</td>\n",
       "      <td>NaN</td>\n",
       "      <td>No</td>\n",
       "    </tr>\n",
       "    <tr>\n",
       "      <th>3</th>\n",
       "      <td>Abdera</td>\n",
       "      <td>nicolasyanncouturier</td>\n",
       "      <td>2013-10-14 12:23:03+00:00</td>\n",
       "      <td>2014-07-13 19:17:32+00:00</td>\n",
       "      <td>NaN</td>\n",
       "      <td>NaN</td>\n",
       "      <td>Open</td>\n",
       "      <td>49.0</td>\n",
       "      <td>1.0</td>\n",
       "      <td>NaN</td>\n",
       "      <td>No</td>\n",
       "    </tr>\n",
       "    <tr>\n",
       "      <th>4</th>\n",
       "      <td>Accumulo</td>\n",
       "      <td>dlmarion</td>\n",
       "      <td>2023-12-06 14:20:37+00:00</td>\n",
       "      <td>2024-07-12 00:15:54+00:00</td>\n",
       "      <td>2023-12-06 14:34:06+00:00</td>\n",
       "      <td>2023-12-06 14:34:06+00:00</td>\n",
       "      <td>Merged</td>\n",
       "      <td>50.0</td>\n",
       "      <td>1.0</td>\n",
       "      <td>340.0</td>\n",
       "      <td>No</td>\n",
       "    </tr>\n",
       "    <tr>\n",
       "      <th>...</th>\n",
       "      <td>...</td>\n",
       "      <td>...</td>\n",
       "      <td>...</td>\n",
       "      <td>...</td>\n",
       "      <td>...</td>\n",
       "      <td>...</td>\n",
       "      <td>...</td>\n",
       "      <td>...</td>\n",
       "      <td>...</td>\n",
       "      <td>...</td>\n",
       "      <td>...</td>\n",
       "    </tr>\n",
       "    <tr>\n",
       "      <th>569443</th>\n",
       "      <td>Zipkin</td>\n",
       "      <td>shakuzen</td>\n",
       "      <td>2019-02-01 09:58:52+00:00</td>\n",
       "      <td>2019-02-04 03:34:15+00:00</td>\n",
       "      <td>2019-02-02 09:01:02+00:00</td>\n",
       "      <td>2019-02-02 09:01:01+00:00</td>\n",
       "      <td>Merged</td>\n",
       "      <td>312.0</td>\n",
       "      <td>2.0</td>\n",
       "      <td>NaN</td>\n",
       "      <td>No</td>\n",
       "    </tr>\n",
       "    <tr>\n",
       "      <th>569444</th>\n",
       "      <td>Zipkin</td>\n",
       "      <td>codefromthecrypt</td>\n",
       "      <td>2019-02-01 09:12:47+00:00</td>\n",
       "      <td>2019-02-18 06:44:53+00:00</td>\n",
       "      <td>2019-02-18 06:44:51+00:00</td>\n",
       "      <td>NaN</td>\n",
       "      <td>Closed</td>\n",
       "      <td>312.0</td>\n",
       "      <td>2.0</td>\n",
       "      <td>NaN</td>\n",
       "      <td>No</td>\n",
       "    </tr>\n",
       "    <tr>\n",
       "      <th>569445</th>\n",
       "      <td>Zipkin</td>\n",
       "      <td>codefromthecrypt</td>\n",
       "      <td>2019-02-01 08:55:20+00:00</td>\n",
       "      <td>2019-02-01 09:51:36+00:00</td>\n",
       "      <td>2019-02-01 09:51:34+00:00</td>\n",
       "      <td>2019-02-01 09:51:34+00:00</td>\n",
       "      <td>Merged</td>\n",
       "      <td>312.0</td>\n",
       "      <td>2.0</td>\n",
       "      <td>NaN</td>\n",
       "      <td>No</td>\n",
       "    </tr>\n",
       "    <tr>\n",
       "      <th>569446</th>\n",
       "      <td>Zipkin</td>\n",
       "      <td>codefromthecrypt</td>\n",
       "      <td>2019-02-01 08:17:38+00:00</td>\n",
       "      <td>2019-02-01 08:58:12+00:00</td>\n",
       "      <td>2019-02-01 08:58:10+00:00</td>\n",
       "      <td>2019-02-01 08:58:10+00:00</td>\n",
       "      <td>Merged</td>\n",
       "      <td>312.0</td>\n",
       "      <td>2.0</td>\n",
       "      <td>NaN</td>\n",
       "      <td>No</td>\n",
       "    </tr>\n",
       "    <tr>\n",
       "      <th>569447</th>\n",
       "      <td>Zipkin</td>\n",
       "      <td>tacigar</td>\n",
       "      <td>2019-02-01 05:59:45+00:00</td>\n",
       "      <td>2020-03-08 04:08:43+00:00</td>\n",
       "      <td>2019-02-01 08:09:40+00:00</td>\n",
       "      <td>2019-02-01 08:09:40+00:00</td>\n",
       "      <td>Merged</td>\n",
       "      <td>312.0</td>\n",
       "      <td>2.0</td>\n",
       "      <td>NaN</td>\n",
       "      <td>No</td>\n",
       "    </tr>\n",
       "  </tbody>\n",
       "</table>\n",
       "<p>569448 rows × 11 columns</p>\n",
       "</div>"
      ],
      "text/plain": [
       "       project_name              dev_name                 created_at  \\\n",
       "0            Abdera               dargooo  2020-11-26 21:21:33+00:00   \n",
       "1            Abdera              YYTVicky  2020-03-01 00:37:56+00:00   \n",
       "2            Abdera  nicolasyanncouturier  2013-10-18 13:32:37+00:00   \n",
       "3            Abdera  nicolasyanncouturier  2013-10-14 12:23:03+00:00   \n",
       "4          Accumulo              dlmarion  2023-12-06 14:20:37+00:00   \n",
       "...             ...                   ...                        ...   \n",
       "569443       Zipkin              shakuzen  2019-02-01 09:58:52+00:00   \n",
       "569444       Zipkin      codefromthecrypt  2019-02-01 09:12:47+00:00   \n",
       "569445       Zipkin      codefromthecrypt  2019-02-01 08:55:20+00:00   \n",
       "569446       Zipkin      codefromthecrypt  2019-02-01 08:17:38+00:00   \n",
       "569447       Zipkin               tacigar  2019-02-01 05:59:45+00:00   \n",
       "\n",
       "                       updated_at                  closed_at  \\\n",
       "0       2023-05-21 04:37:38+00:00  2023-05-21 04:37:38+00:00   \n",
       "1       2020-04-30 02:01:45+00:00                        NaN   \n",
       "2       2014-07-16 01:44:57+00:00                        NaN   \n",
       "3       2014-07-13 19:17:32+00:00                        NaN   \n",
       "4       2024-07-12 00:15:54+00:00  2023-12-06 14:34:06+00:00   \n",
       "...                           ...                        ...   \n",
       "569443  2019-02-04 03:34:15+00:00  2019-02-02 09:01:02+00:00   \n",
       "569444  2019-02-18 06:44:53+00:00  2019-02-18 06:44:51+00:00   \n",
       "569445  2019-02-01 09:51:36+00:00  2019-02-01 09:51:34+00:00   \n",
       "569446  2019-02-01 08:58:12+00:00  2019-02-01 08:58:10+00:00   \n",
       "569447  2020-03-08 04:08:43+00:00  2019-02-01 08:09:40+00:00   \n",
       "\n",
       "                        merged_at pr_status  project_id  project_status  \\\n",
       "0                             NaN    Closed        49.0             1.0   \n",
       "1                             NaN      Open        49.0             1.0   \n",
       "2                             NaN      Open        49.0             1.0   \n",
       "3                             NaN      Open        49.0             1.0   \n",
       "4       2023-12-06 14:34:06+00:00    Merged        50.0             1.0   \n",
       "...                           ...       ...         ...             ...   \n",
       "569443  2019-02-02 09:01:01+00:00    Merged       312.0             2.0   \n",
       "569444                        NaN    Closed       312.0             2.0   \n",
       "569445  2019-02-01 09:51:34+00:00    Merged       312.0             2.0   \n",
       "569446  2019-02-01 08:58:10+00:00    Merged       312.0             2.0   \n",
       "569447  2019-02-01 08:09:40+00:00    Merged       312.0             2.0   \n",
       "\n",
       "        alias_id Core_Developer  \n",
       "0            NaN             No  \n",
       "1            NaN             No  \n",
       "2            NaN             No  \n",
       "3            NaN             No  \n",
       "4          340.0             No  \n",
       "...          ...            ...  \n",
       "569443       NaN             No  \n",
       "569444       NaN             No  \n",
       "569445       NaN             No  \n",
       "569446       NaN             No  \n",
       "569447       NaN             No  \n",
       "\n",
       "[569448 rows x 11 columns]"
      ]
     },
     "execution_count": 32,
     "metadata": {},
     "output_type": "execute_result"
    }
   ],
   "source": [
    "df"
   ]
  },
  {
   "cell_type": "code",
   "execution_count": 33,
   "metadata": {},
   "outputs": [
    {
     "name": "stdout",
     "output_type": "stream",
     "text": [
      "(569448, 11)\n"
     ]
    }
   ],
   "source": [
    "print(df.shape)"
   ]
  },
  {
   "cell_type": "code",
   "execution_count": 34,
   "metadata": {},
   "outputs": [
    {
     "name": "stdout",
     "output_type": "stream",
     "text": [
      "['Abdera' 'Accumulo' 'ACE' 'ActiveMQ' 'activemq-apollo' 'Airavata'\n",
      " 'Airflow' 'Allura' 'Ambari' 'ant-easyant-core' 'ant-ivy' 'Any23'\n",
      " 'apex-core' 'Aries' 'AsterixDB' 'Atlas' 'Aurora' 'Beam' 'Bigtop'\n",
      " 'Bloodhound' 'Brooklyn' 'Buildr' 'bval' 'Calcite' 'CarbonData'\n",
      " 'Cassandra' 'Cayenne' 'Celix' 'Chukwa' 'Clerezza' 'climate' 'CloudStack'\n",
      " 'commons-ognl' 'Cordova' 'CouchDB' 'creadur-rat' 'Crunch' 'cTAKES'\n",
      " 'Curator' 'CXF' 'DataFu' 'db-jdo' 'Deltacloud' 'DeltaSpike' 'Derby'\n",
      " 'DirectMemory' 'directory-server' 'DistributedLog' 'Drill' 'Dubbo'\n",
      " 'Eagle' 'Empire-db' 'ESME' 'Falcon' 'Felix' 'Fineract' 'flex-sdk' 'Flink'\n",
      " 'Flume' 'Fluo' 'FreeMarker' 'FtpServer' 'Geode' 'Geronimo'\n",
      " 'geronimo-yoko' 'Giraph' 'Gora' 'Griffin' 'Groovy' 'guacamole-client'\n",
      " 'Hama' 'HAWQ' 'HCatalog' 'Helix' 'Ignite' 'Impala' 'Amaterasu'\n",
      " 'Annotator' 'ariatosca' 'BatchEE' 'BRPC' 'Crail' 'Daffodil'\n",
      " 'DataSketches' 'DLab' 'DolphinScheduler' 'Doris' 'Druid' 'ECharts'\n",
      " 'Edgent' 'Flagon' 'Gobblin' 'Heron' 'Hivemall' 'Hudi' 'Iceberg' 'IoTDB'\n",
      " 'Livy' 'marvin' 'Milagro' 'MXNet' 'Myriad' 'Nemo' 'Omid' 'pagespeed-ngx'\n",
      " 'Pinot' 'ponymail' 'Ratis' 'blur' 'concerted' 'gearpump' 'hdt' 'horn'\n",
      " 'htrace' 'iota' 'mrql' 'openaz' 'pirk' 'quickstep' 'ripple' 's4' 'slider'\n",
      " 'wave' 'Rya' 'S2Graph' 'SAMOA' 'ShardingSphere' 'SINGA' 'Spot' 'Superset'\n",
      " 'Tamaya' 'taverna-engine' 'Tephra' 'Toree' 'Training' 'Tuweni' 'TVM'\n",
      " 'Weex' 'Isis' 'Jackrabbit' 'jclouds' 'Jena' 'Johnzon' 'Joshua' 'JSPWiki'\n",
      " 'jUDDI' 'Juneau' 'Kafka' 'Kalumet' 'Knox' 'Kudu' 'Kylin' 'Lens' 'Lenya'\n",
      " 'Libcloud' 'logging-log4cxx' 'logging-log4php' 'Lucene.NET' 'Lucy'\n",
      " 'MADlib' 'ManifoldCF' 'Marmotta' 'Mesos' 'MetaModel' 'Metron' 'Mnemonic'\n",
      " 'MRUnit' 'MyFaces' 'myfaces-tobago' 'mynewt-core' 'NetBeans' 'NiFi'\n",
      " 'NPanday' 'Nutch' 'Nuvem' 'Ode' 'odftoolkit' 'OFBiz' 'olingo-odata4'\n",
      " 'OODT' 'Oozie' 'OpenEJB' 'OpenJPA' 'Openmeetings' 'OpenNLP' 'openoffice'\n",
      " 'OpenWebBeans' 'OpenWhisk' 'openwhisk-composer' 'parquet-java' 'PDFBox'\n",
      " 'Phoenix' 'PhotArk' 'Pig' 'PLC4X' 'Pluto' 'PredictionIO' 'Pulsar' 'Qpid'\n",
      " 'Ranger' 'Rave' 'REEF' 'RocketMQ' 'Roller' 'Samza' 'Sanselan' 'Sentry'\n",
      " 'servicecomb-java-chassis' 'ServiceMix' 'Shindig' 'Shiro' 'Sirona' 'SIS'\n",
      " 'SkyWalking' 'Sling' 'Solr' 'SpamAssassin' 'Spark' 'Sqoop' 'Stanbol'\n",
      " 'Storm' 'Stratos' 'Streams' 'Subversion' 'Synapse' 'Syncope' 'SystemML'\n",
      " 'Tajo' 'tapestry-5' 'Tashi' 'Tez' 'Thrift' 'Tika' 'TinkerPop'\n",
      " 'trafficcontrol' 'trafficserver' 'Trafodion' 'tuscany-sca-2.x' 'Twill'\n",
      " 'uima-uimaj' 'Unomi' 'Usergrid' 'VCL' 'VXQuery' 'Whirr' 'Wicket' 'Wink'\n",
      " 'Wookie' 'XMLBeans' 'Zeppelin' 'zetacomponents' 'Zipkin']\n",
      "252\n"
     ]
    }
   ],
   "source": [
    "# Determining Unique values and counts in a column\n",
    "unique_values = df['project_name'].unique()\n",
    "print(unique_values)\n",
    "print(unique_values.size)"
   ]
  },
  {
   "cell_type": "code",
   "execution_count": 7,
   "metadata": {},
   "outputs": [
    {
     "name": "stdout",
     "output_type": "stream",
     "text": [
      "True\n"
     ]
    }
   ],
   "source": [
    "# Check if a column contains NaN\n",
    "has_nan = df['alias_id'].isna().any()\n",
    "\n",
    "print(has_nan)  # Output: True"
   ]
  },
  {
   "cell_type": "markdown",
   "metadata": {},
   "source": [
    "**Total number of Pull Requests by Core and Non-Core Developers**"
   ]
  },
  {
   "cell_type": "code",
   "execution_count": 35,
   "metadata": {},
   "outputs": [
    {
     "name": "stdout",
     "output_type": "stream",
     "text": [
      "Total PRs: 569448\n",
      "PRs by Core Developers: 8646\n",
      "PRs by Non-Core Developers: 560802\n"
     ]
    }
   ],
   "source": [
    "# Total number of pull requests\n",
    "total_prs = len(df)\n",
    "\n",
    "# Number of PRs by core developers\n",
    "core_prs = df[df['Core_Developer'] == 'Yes'].shape[0]\n",
    "\n",
    "# Number of PRs by non-core developers\n",
    "non_core_prs = df[df['Core_Developer'] == 'No'].shape[0]\n",
    "\n",
    "# Display results\n",
    "print(f\"Total PRs: {total_prs}\")\n",
    "print(f\"PRs by Core Developers: {core_prs}\")\n",
    "print(f\"PRs by Non-Core Developers: {non_core_prs}\")"
   ]
  },
  {
   "cell_type": "markdown",
   "metadata": {},
   "source": [
    "**No. of Core and Non-core developer PRs per project**"
   ]
  },
  {
   "cell_type": "code",
   "execution_count": 36,
   "metadata": {},
   "outputs": [
    {
     "name": "stdout",
     "output_type": "stream",
     "text": [
      "     project_id  Non-Core PRs  Core PRs\n",
      "0           1.0            62         0\n",
      "1           2.0            87         0\n",
      "2           3.0            20         0\n",
      "3           4.0          1092         0\n",
      "4           5.0            88         0\n",
      "..          ...           ...       ...\n",
      "199       287.0            16         0\n",
      "200       291.0             6         0\n",
      "201       298.0            17         0\n",
      "202       302.0             2         0\n",
      "203       312.0          2397         0\n",
      "\n",
      "[204 rows x 3 columns]\n"
     ]
    }
   ],
   "source": [
    "# Group by project_id and Core_Developer status, then count PRs\n",
    "pr_counts_per_project = df.groupby(['project_id', 'Core_Developer']).size().unstack(fill_value=0)\n",
    "\n",
    "# Rename columns for clarity\n",
    "pr_counts_per_project.columns = ['Non-Core PRs', 'Core PRs']\n",
    "\n",
    "# Reset index to make it more readable\n",
    "pr_counts_per_project = pr_counts_per_project.reset_index()\n",
    "\n",
    "# Display result\n",
    "print(pr_counts_per_project)"
   ]
  },
  {
   "cell_type": "markdown",
   "metadata": {},
   "source": [
    "**Merged and Closed PRs by Core and Non-core developers**"
   ]
  },
  {
   "cell_type": "code",
   "execution_count": 37,
   "metadata": {},
   "outputs": [
    {
     "name": "stdout",
     "output_type": "stream",
     "text": [
      "Core Developer PR Status Counts:\n",
      "pr_status\n",
      "Merged    5545\n",
      "Closed    3059\n",
      "Open        42\n",
      "Name: count, dtype: int64\n",
      "\n",
      "Non-Core Developer PR Status Counts:\n",
      "pr_status\n",
      "Merged    350237\n",
      "Closed    199242\n",
      "Open       11323\n",
      "Name: count, dtype: int64\n"
     ]
    }
   ],
   "source": [
    "# Count merged and closed PRs for core developers\n",
    "core_pr_status_counts = df[df['Core_Developer'] == 'Yes']['pr_status'].value_counts()\n",
    "\n",
    "# Count merged and closed PRs for non-core developers\n",
    "non_core_pr_status_counts = df[df['Core_Developer'] == 'No']['pr_status'].value_counts()\n",
    "\n",
    "# Display results\n",
    "print(\"Core Developer PR Status Counts:\")\n",
    "print(core_pr_status_counts)\n",
    "\n",
    "print(\"\\nNon-Core Developer PR Status Counts:\")\n",
    "print(non_core_pr_status_counts)"
   ]
  },
  {
   "cell_type": "markdown",
   "metadata": {},
   "source": [
    "**Check if PRs by core developers have a higher merge rate:**"
   ]
  },
  {
   "cell_type": "code",
   "execution_count": 38,
   "metadata": {},
   "outputs": [
    {
     "name": "stdout",
     "output_type": "stream",
     "text": [
      "Core Developer Merge Rate: 64.13%\n",
      "Non-Core Developer Merge Rate: 62.45%\n"
     ]
    }
   ],
   "source": [
    "# Total PRs by core and non-core developers\n",
    "core_total_prs = df[df['Core_Developer'] == 'Yes'].shape[0]\n",
    "non_core_total_prs = df[df['Core_Developer'] == 'No'].shape[0]\n",
    "\n",
    "# Merged PRs by core and non-core developers\n",
    "core_merged_prs = df[(df['Core_Developer'] == 'Yes') & (df['pr_status'] == 'Merged')].shape[0]\n",
    "non_core_merged_prs = df[(df['Core_Developer'] == 'No') & (df['pr_status'] == 'Merged')].shape[0]\n",
    "\n",
    "# Merge rates in percentage\n",
    "core_merge_rate = (core_merged_prs / core_total_prs) * 100 if core_total_prs > 0 else 0\n",
    "non_core_merge_rate = (non_core_merged_prs / non_core_total_prs) * 100 if non_core_total_prs > 0 else 0\n",
    "\n",
    "# Display results\n",
    "print(f\"Core Developer Merge Rate: {core_merge_rate:.2f}%\")\n",
    "print(f\"Non-Core Developer Merge Rate: {non_core_merge_rate:.2f}%\")"
   ]
  },
  {
   "cell_type": "code",
   "execution_count": 39,
   "metadata": {},
   "outputs": [
    {
     "name": "stdout",
     "output_type": "stream",
     "text": [
      "Core Developer Closed Rate: 35.38%\n",
      "Non-Core Developer Closed Rate: 35.53%\n"
     ]
    }
   ],
   "source": [
    "# Total PRs by core and non-core developers\n",
    "core_total_prs = df[df['Core_Developer'] == 'Yes'].shape[0]\n",
    "non_core_total_prs = df[df['Core_Developer'] == 'No'].shape[0]\n",
    "\n",
    "# Closed PRs by core and non-core developers\n",
    "core_merged_prs = df[(df['Core_Developer'] == 'Yes') & (df['pr_status'] == 'Closed')].shape[0]\n",
    "non_core_merged_prs = df[(df['Core_Developer'] == 'No') & (df['pr_status'] == 'Closed')].shape[0]\n",
    "\n",
    "# Close rates in percentage\n",
    "core_merge_rate = (core_merged_prs / core_total_prs) * 100 if core_total_prs > 0 else 0\n",
    "non_core_merge_rate = (non_core_merged_prs / non_core_total_prs) * 100 if non_core_total_prs > 0 else 0\n",
    "\n",
    "# Display results\n",
    "print(f\"Core Developer Closed Rate: {core_merge_rate:.2f}%\")\n",
    "print(f\"Non-Core Developer Closed Rate: {non_core_merge_rate:.2f}%\")"
   ]
  },
  {
   "cell_type": "code",
   "execution_count": 40,
   "metadata": {},
   "outputs": [
    {
     "name": "stdout",
     "output_type": "stream",
     "text": [
      "Core Developer PR Pending Rate: 0.49%\n",
      "Non-Core Developer PR Pending Rate: 2.02%\n"
     ]
    }
   ],
   "source": [
    "# Total PRs by core and non-core developers\n",
    "core_total_prs = df[df['Core_Developer'] == 'Yes'].shape[0]\n",
    "non_core_total_prs = df[df['Core_Developer'] == 'No'].shape[0]\n",
    "\n",
    "# Closed PRs by core and non-core developers\n",
    "core_merged_prs = df[(df['Core_Developer'] == 'Yes') & (df['pr_status'] == 'Open')].shape[0]\n",
    "non_core_merged_prs = df[(df['Core_Developer'] == 'No') & (df['pr_status'] == 'Open')].shape[0]\n",
    "\n",
    "# Close rates in percentage\n",
    "core_merge_rate = (core_merged_prs / core_total_prs) * 100 if core_total_prs > 0 else 0\n",
    "non_core_merge_rate = (non_core_merged_prs / non_core_total_prs) * 100 if non_core_total_prs > 0 else 0\n",
    "\n",
    "# Display results\n",
    "print(f\"Core Developer PR Pending Rate: {core_merge_rate:.2f}%\")\n",
    "print(f\"Non-Core Developer PR Pending Rate: {non_core_merge_rate:.2f}%\")"
   ]
  },
  {
   "cell_type": "markdown",
   "metadata": {},
   "source": [
    "**We want to work with Graduated=Sustainable=1 and Retired=Unsustainable=2 projects here. So, we ignore the In-Incubation=0 project_status columns**"
   ]
  },
  {
   "cell_type": "code",
   "execution_count": 47,
   "metadata": {},
   "outputs": [],
   "source": [
    "# Drop rows where project_status is 0\n",
    "df = df[df['project_status'] != 0]"
   ]
  },
  {
   "cell_type": "code",
   "execution_count": 42,
   "metadata": {},
   "outputs": [
    {
     "data": {
      "text/plain": [
       "(378993, 11)"
      ]
     },
     "execution_count": 42,
     "metadata": {},
     "output_type": "execute_result"
    }
   ],
   "source": [
    "df.shape"
   ]
  },
  {
   "cell_type": "code",
   "execution_count": 48,
   "metadata": {},
   "outputs": [
    {
     "name": "stdout",
     "output_type": "stream",
     "text": [
      "Percentage of PRs by Core Developers in Sustainable Projects: 1.51%\n",
      "Percentage of PRs by Core Developers in Unsustainable Projects: 0.00%\n"
     ]
    }
   ],
   "source": [
    "# Total PRs in Sustainable (1) and Unsustainable (2) projects\n",
    "total_prs_sustainable = df[df['project_status'] == 1].shape[0]\n",
    "total_prs_unsustainable = df[df['project_status'] == 2].shape[0]\n",
    "\n",
    "# PRs by core developers in each category\n",
    "core_prs_sustainable = df[(df['Core_Developer'] == 'Yes') & (df['project_status'] == 1)].shape[0]\n",
    "core_prs_unsustainable = df[(df['Core_Developer'] == 'Yes') & (df['project_status'] == 2)].shape[0]\n",
    "\n",
    "# Percentage of PRs by core developers\n",
    "core_pr_percentage_sustainable = (core_prs_sustainable / total_prs_sustainable) * 100 if total_prs_sustainable > 0 else 0\n",
    "core_pr_percentage_unsustainable = (core_prs_unsustainable / total_prs_unsustainable) * 100 if total_prs_unsustainable > 0 else 0\n",
    "\n",
    "# Display results\n",
    "print(f\"Percentage of PRs by Core Developers in Sustainable Projects: {core_pr_percentage_sustainable:.2f}%\")\n",
    "print(f\"Percentage of PRs by Core Developers in Unsustainable Projects: {core_pr_percentage_unsustainable:.2f}%\")"
   ]
  },
  {
   "cell_type": "code",
   "execution_count": 51,
   "metadata": {},
   "outputs": [
    {
     "name": "stdout",
     "output_type": "stream",
     "text": [
      "2481\n",
      "0\n",
      "0.0\n"
     ]
    }
   ],
   "source": [
    "print(total_prs_unsustainable)\n",
    "print(core_prs_unsustainable)\n",
    "print(core_pr_percentage_unsustainable)"
   ]
  },
  {
   "cell_type": "code",
   "execution_count": 52,
   "metadata": {},
   "outputs": [
    {
     "name": "stdout",
     "output_type": "stream",
     "text": [
      "Percentage of PRs by Non-Core Developers in Sustainable Projects: 98.49%\n",
      "Percentage of PRs by Non-Core Developers in Unsustainable Projects: 100.00%\n"
     ]
    }
   ],
   "source": [
    "# Total PRs in Sustainable (1) and Unsustainable (2) projects\n",
    "total_prs_sustainable = df[df['project_status'] == 1].shape[0]\n",
    "total_prs_unsustainable = df[df['project_status'] == 2].shape[0]\n",
    "\n",
    "# PRs by core developers in each category\n",
    "core_prs_sustainable = df[(df['Core_Developer'] == 'No') & (df['project_status'] == 1)].shape[0]\n",
    "core_prs_unsustainable = df[(df['Core_Developer'] == 'No') & (df['project_status'] == 2)].shape[0]\n",
    "\n",
    "# Percentage of PRs by non-core developers\n",
    "core_pr_percentage_sustainable = (core_prs_sustainable / total_prs_sustainable) * 100 if total_prs_sustainable > 0 else 0\n",
    "core_pr_percentage_unsustainable = (core_prs_unsustainable / total_prs_unsustainable) * 100 if total_prs_unsustainable > 0 else 0\n",
    "\n",
    "# Display results\n",
    "print(f\"Percentage of PRs by Non-Core Developers in Sustainable Projects: {core_pr_percentage_sustainable:.2f}%\")\n",
    "print(f\"Percentage of PRs by Non-Core Developers in Unsustainable Projects: {core_pr_percentage_unsustainable:.2f}%\")\n"
   ]
  },
  {
   "cell_type": "code",
   "execution_count": 29,
   "metadata": {},
   "outputs": [
    {
     "name": "stdout",
     "output_type": "stream",
     "text": [
      "340397\n",
      "335248\n",
      "98.48735447139664\n"
     ]
    }
   ],
   "source": [
    "print(total_prs_sustainable)\n",
    "print(core_prs_sustainable)\n",
    "print(core_pr_percentage_sustainable)"
   ]
  },
  {
   "cell_type": "code",
   "execution_count": 53,
   "metadata": {},
   "outputs": [
    {
     "name": "stdout",
     "output_type": "stream",
     "text": [
      "Percentage of Merged PRs by Core Developers in Sustainable Projects: 50.98%\n",
      "Percentage of Merged PRs by Core Developers in Unsustainable Projects: 0.00%\n"
     ]
    }
   ],
   "source": [
    "# Total PRs by core developers in sustainable and unsustainable projects\n",
    "core_total_prs_sustainable = df[(df['Core_Developer'] == 'Yes') & (df['project_status'] == 1)].shape[0]\n",
    "core_total_prs_unsustainable = df[(df['Core_Developer'] == 'Yes') & (df['project_status'] == 2)].shape[0]\n",
    "\n",
    "# Merged PRs by core developers in each category\n",
    "core_merged_prs_sustainable = df[(df['Core_Developer'] == 'Yes') & \n",
    "                                 (df['project_status'] == 1) & \n",
    "                                 (df['pr_status'] == 'Merged')].shape[0]\n",
    "\n",
    "core_merged_prs_unsustainable = df[(df['Core_Developer'] == 'Yes') & \n",
    "                                   (df['project_status'] == 2) & \n",
    "                                   (df['pr_status'] == 'Merged')].shape[0]\n",
    "\n",
    "# Merge rate as percentage\n",
    "core_merge_rate_sustainable = (core_merged_prs_sustainable / core_total_prs_sustainable) * 100 if core_total_prs_sustainable > 0 else 0\n",
    "core_merge_rate_unsustainable = (core_merged_prs_unsustainable / core_total_prs_unsustainable) * 100 if core_total_prs_unsustainable > 0 else 0\n",
    "\n",
    "# Display results\n",
    "print(f\"Percentage of Merged PRs by Core Developers in Sustainable Projects: {core_merge_rate_sustainable:.2f}%\")\n",
    "print(f\"Percentage of Merged PRs by Core Developers in Unsustainable Projects: {core_merge_rate_unsustainable:.2f}%\")\n"
   ]
  },
  {
   "cell_type": "code",
   "execution_count": 54,
   "metadata": {},
   "outputs": [
    {
     "name": "stdout",
     "output_type": "stream",
     "text": [
      "Percentage of Closed PRs by Core Developers in Sustainable Projects: 48.63%\n",
      "Percentage of Closed PRs by Core Developers in Unsustainable Projects: 0.00%\n"
     ]
    }
   ],
   "source": [
    "# Total PRs by core developers in sustainable and unsustainable projects\n",
    "core_total_prs_sustainable = df[(df['Core_Developer'] == 'Yes') & (df['project_status'] == 1)].shape[0]\n",
    "core_total_prs_unsustainable = df[(df['Core_Developer'] == 'Yes') & (df['project_status'] == 2)].shape[0]\n",
    "\n",
    "# Closed PRs by core developers in each category\n",
    "core_merged_prs_sustainable = df[(df['Core_Developer'] == 'Yes') & \n",
    "                                 (df['project_status'] == 1) & \n",
    "                                 (df['pr_status'] == 'Closed')].shape[0]\n",
    "\n",
    "core_merged_prs_unsustainable = df[(df['Core_Developer'] == 'Yes') & \n",
    "                                   (df['project_status'] == 2) & \n",
    "                                   (df['pr_status'] == 'Closed')].shape[0]\n",
    "\n",
    "# Closed rate as percentage\n",
    "core_merge_rate_sustainable = (core_merged_prs_sustainable / core_total_prs_sustainable) * 100 if core_total_prs_sustainable > 0 else 0\n",
    "core_merge_rate_unsustainable = (core_merged_prs_unsustainable / core_total_prs_unsustainable) * 100 if core_total_prs_unsustainable > 0 else 0\n",
    "\n",
    "# Display results\n",
    "print(f\"Percentage of Closed PRs by Core Developers in Sustainable Projects: {core_merge_rate_sustainable:.2f}%\")\n",
    "print(f\"Percentage of Closed PRs by Core Developers in Unsustainable Projects: {core_merge_rate_unsustainable:.2f}%\")"
   ]
  },
  {
   "cell_type": "code",
   "execution_count": 55,
   "metadata": {},
   "outputs": [
    {
     "name": "stdout",
     "output_type": "stream",
     "text": [
      "Percentage of Pending PRs by Core Developers in Sustainable Projects: 0.39%\n",
      "Percentage of Pending PRs by Core Developers in Unsustainable Projects: 0.00%\n"
     ]
    }
   ],
   "source": [
    "# Total PRs by core developers in sustainable and unsustainable projects\n",
    "core_total_prs_sustainable = df[(df['Core_Developer'] == 'Yes') & (df['project_status'] == 1)].shape[0]\n",
    "core_total_prs_unsustainable = df[(df['Core_Developer'] == 'Yes') & (df['project_status'] == 2)].shape[0]\n",
    "\n",
    "# Closed PRs by core developers in each category\n",
    "core_merged_prs_sustainable = df[(df['Core_Developer'] == 'Yes') & \n",
    "                                 (df['project_status'] == 1) & \n",
    "                                 (df['pr_status'] == 'Open')].shape[0]\n",
    "\n",
    "core_merged_prs_unsustainable = df[(df['Core_Developer'] == 'Yes') & \n",
    "                                   (df['project_status'] == 2) & \n",
    "                                   (df['pr_status'] == 'Open')].shape[0]\n",
    "\n",
    "# Closed rate as percentage\n",
    "core_merge_rate_sustainable = (core_merged_prs_sustainable / core_total_prs_sustainable) * 100 if core_total_prs_sustainable > 0 else 0\n",
    "core_merge_rate_unsustainable = (core_merged_prs_unsustainable / core_total_prs_unsustainable) * 100 if core_total_prs_unsustainable > 0 else 0\n",
    "\n",
    "# Display results\n",
    "print(f\"Percentage of Pending PRs by Core Developers in Sustainable Projects: {core_merge_rate_sustainable:.2f}%\")\n",
    "print(f\"Percentage of Pending PRs by Core Developers in Unsustainable Projects: {core_merge_rate_unsustainable:.2f}%\")"
   ]
  },
  {
   "cell_type": "markdown",
   "metadata": {},
   "source": [
    "**No. of PRs per project**"
   ]
  },
  {
   "cell_type": "code",
   "execution_count": 56,
   "metadata": {},
   "outputs": [
    {
     "data": {
      "text/plain": [
       "project_name\n",
       "Spark            49822\n",
       "Airflow          31065\n",
       "Beam             26496\n",
       "Flink            26113\n",
       "Kafka            18840\n",
       "                 ...  \n",
       "geronimo-yoko        2\n",
       "Nuvem                2\n",
       "HCatalog             2\n",
       "MRUnit               1\n",
       "hdt                  1\n",
       "Length: 210, dtype: int64"
      ]
     },
     "execution_count": 56,
     "metadata": {},
     "output_type": "execute_result"
    }
   ],
   "source": [
    "project_activity = df.groupby('project_name').size().sort_values(ascending=False)\n",
    "project_activity"
   ]
  },
  {
   "cell_type": "markdown",
   "metadata": {},
   "source": [
    "**Find projects with the most core developers:**"
   ]
  },
  {
   "cell_type": "code",
   "execution_count": 57,
   "metadata": {},
   "outputs": [
    {
     "data": {
      "text/plain": [
       "project_name\n",
       "Beam        632\n",
       "Flink       594\n",
       "Pulsar      470\n",
       "Metron      461\n",
       "NetBeans    370\n",
       "           ... \n",
       "MyFaces       0\n",
       "NPanday       0\n",
       "Nutch         0\n",
       "Nuvem         0\n",
       "Lucy          0\n",
       "Name: Core_Developer, Length: 210, dtype: int64"
      ]
     },
     "execution_count": 57,
     "metadata": {},
     "output_type": "execute_result"
    }
   ],
   "source": [
    "df.groupby('project_name')['Core_Developer'].apply(lambda x: (x == 'Yes').sum()).sort_values(ascending=False)"
   ]
  }
 ],
 "metadata": {
  "kernelspec": {
   "display_name": "Python 3",
   "language": "python",
   "name": "python3"
  },
  "language_info": {
   "codemirror_mode": {
    "name": "ipython",
    "version": 3
   },
   "file_extension": ".py",
   "mimetype": "text/x-python",
   "name": "python",
   "nbconvert_exporter": "python",
   "pygments_lexer": "ipython3",
   "version": "3.10.12"
  }
 },
 "nbformat": 4,
 "nbformat_minor": 2
}
