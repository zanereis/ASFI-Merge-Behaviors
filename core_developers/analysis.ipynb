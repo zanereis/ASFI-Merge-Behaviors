{
 "cells": [
  {
   "cell_type": "markdown",
   "metadata": {},
   "source": [
    "**Importing Libraries and Files**"
   ]
  },
  {
   "cell_type": "code",
   "execution_count": 2,
   "metadata": {},
   "outputs": [],
   "source": [
    "import pandas as pd"
   ]
  },
  {
   "cell_type": "code",
   "execution_count": 3,
   "metadata": {},
   "outputs": [],
   "source": [
    "df = pd.read_csv(\"pr_core_dev.csv\")"
   ]
  },
  {
   "cell_type": "code",
   "execution_count": null,
   "metadata": {},
   "outputs": [
    {
     "data": {
      "text/html": [
       "<div>\n",
       "<style scoped>\n",
       "    .dataframe tbody tr th:only-of-type {\n",
       "        vertical-align: middle;\n",
       "    }\n",
       "\n",
       "    .dataframe tbody tr th {\n",
       "        vertical-align: top;\n",
       "    }\n",
       "\n",
       "    .dataframe thead th {\n",
       "        text-align: right;\n",
       "    }\n",
       "</style>\n",
       "<table border=\"1\" class=\"dataframe\">\n",
       "  <thead>\n",
       "    <tr style=\"text-align: right;\">\n",
       "      <th></th>\n",
       "      <th>name</th>\n",
       "      <th>created_at</th>\n",
       "      <th>updated_at</th>\n",
       "      <th>closed_at</th>\n",
       "      <th>merged_at</th>\n",
       "      <th>pr_status</th>\n",
       "      <th>people_id</th>\n",
       "      <th>project_id</th>\n",
       "      <th>Core_Developer</th>\n",
       "      <th>project_name</th>\n",
       "      <th>project_status</th>\n",
       "    </tr>\n",
       "  </thead>\n",
       "  <tbody>\n",
       "    <tr>\n",
       "      <th>0</th>\n",
       "      <td>shroman</td>\n",
       "      <td>2015-11-11 03:50:40+00:00</td>\n",
       "      <td>2015-11-18 19:20:41+00:00</td>\n",
       "      <td>2015-11-18 19:20:41+00:00</td>\n",
       "      <td>2015-11-18 19:20:41+00:00</td>\n",
       "      <td>Merged</td>\n",
       "      <td>1338.0</td>\n",
       "      <td>54.0</td>\n",
       "      <td>Yes</td>\n",
       "      <td>Airflow</td>\n",
       "      <td>1</td>\n",
       "    </tr>\n",
       "    <tr>\n",
       "      <th>1</th>\n",
       "      <td>shroman</td>\n",
       "      <td>2015-11-06 02:23:11+00:00</td>\n",
       "      <td>2015-11-06 17:26:13+00:00</td>\n",
       "      <td>2015-11-06 17:26:13+00:00</td>\n",
       "      <td>2015-11-06 17:26:13+00:00</td>\n",
       "      <td>Merged</td>\n",
       "      <td>1338.0</td>\n",
       "      <td>54.0</td>\n",
       "      <td>Yes</td>\n",
       "      <td>Airflow</td>\n",
       "      <td>1</td>\n",
       "    </tr>\n",
       "    <tr>\n",
       "      <th>2</th>\n",
       "      <td>shroman</td>\n",
       "      <td>2015-11-05 09:00:47+00:00</td>\n",
       "      <td>2017-07-25 23:10:55+00:00</td>\n",
       "      <td>2017-07-25 23:10:55+00:00</td>\n",
       "      <td>NaN</td>\n",
       "      <td>Closed</td>\n",
       "      <td>1338.0</td>\n",
       "      <td>54.0</td>\n",
       "      <td>Yes</td>\n",
       "      <td>Airflow</td>\n",
       "      <td>1</td>\n",
       "    </tr>\n",
       "    <tr>\n",
       "      <th>3</th>\n",
       "      <td>shroman</td>\n",
       "      <td>2017-02-23 10:01:34+00:00</td>\n",
       "      <td>2019-08-01 21:50:52+00:00</td>\n",
       "      <td>2019-08-01 21:50:51+00:00</td>\n",
       "      <td>NaN</td>\n",
       "      <td>Closed</td>\n",
       "      <td>1338.0</td>\n",
       "      <td>54.0</td>\n",
       "      <td>Yes</td>\n",
       "      <td>Airflow</td>\n",
       "      <td>1</td>\n",
       "    </tr>\n",
       "    <tr>\n",
       "      <th>4</th>\n",
       "      <td>shroman</td>\n",
       "      <td>2017-02-22 02:39:38+00:00</td>\n",
       "      <td>2017-02-22 02:45:29+00:00</td>\n",
       "      <td>2017-02-22 02:45:29+00:00</td>\n",
       "      <td>NaN</td>\n",
       "      <td>Closed</td>\n",
       "      <td>1338.0</td>\n",
       "      <td>54.0</td>\n",
       "      <td>Yes</td>\n",
       "      <td>Airflow</td>\n",
       "      <td>1</td>\n",
       "    </tr>\n",
       "    <tr>\n",
       "      <th>...</th>\n",
       "      <td>...</td>\n",
       "      <td>...</td>\n",
       "      <td>...</td>\n",
       "      <td>...</td>\n",
       "      <td>...</td>\n",
       "      <td>...</td>\n",
       "      <td>...</td>\n",
       "      <td>...</td>\n",
       "      <td>...</td>\n",
       "      <td>...</td>\n",
       "      <td>...</td>\n",
       "    </tr>\n",
       "    <tr>\n",
       "      <th>20900</th>\n",
       "      <td>niallkp</td>\n",
       "      <td>2025-01-13 23:36:07+00:00</td>\n",
       "      <td>2025-01-24 20:33:52+00:00</td>\n",
       "      <td>2025-01-24 20:33:52+00:00</td>\n",
       "      <td>2025-01-24 20:33:52+00:00</td>\n",
       "      <td>Merged</td>\n",
       "      <td>33261.0</td>\n",
       "      <td>296.0</td>\n",
       "      <td>No</td>\n",
       "      <td>Ripple</td>\n",
       "      <td>2</td>\n",
       "    </tr>\n",
       "    <tr>\n",
       "      <th>20901</th>\n",
       "      <td>niallkp</td>\n",
       "      <td>2025-01-14 00:54:33+00:00</td>\n",
       "      <td>2025-01-29 12:43:31+00:00</td>\n",
       "      <td>2025-01-25 07:03:22+00:00</td>\n",
       "      <td>2025-01-25 07:03:22+00:00</td>\n",
       "      <td>Merged</td>\n",
       "      <td>33261.0</td>\n",
       "      <td>296.0</td>\n",
       "      <td>No</td>\n",
       "      <td>Ripple</td>\n",
       "      <td>2</td>\n",
       "    </tr>\n",
       "    <tr>\n",
       "      <th>20902</th>\n",
       "      <td>niallkp</td>\n",
       "      <td>2015-11-23 02:05:55+00:00</td>\n",
       "      <td>2015-11-24 21:00:42+00:00</td>\n",
       "      <td>2015-11-24 21:00:42+00:00</td>\n",
       "      <td>2015-11-24 21:00:42+00:00</td>\n",
       "      <td>Merged</td>\n",
       "      <td>33261.0</td>\n",
       "      <td>296.0</td>\n",
       "      <td>No</td>\n",
       "      <td>Ripple</td>\n",
       "      <td>2</td>\n",
       "    </tr>\n",
       "    <tr>\n",
       "      <th>20903</th>\n",
       "      <td>niallkp</td>\n",
       "      <td>2025-01-20 23:43:05+00:00</td>\n",
       "      <td>2025-01-21 10:56:48+00:00</td>\n",
       "      <td>2025-01-21 10:56:41+00:00</td>\n",
       "      <td>2025-01-21 10:56:41+00:00</td>\n",
       "      <td>Merged</td>\n",
       "      <td>33261.0</td>\n",
       "      <td>296.0</td>\n",
       "      <td>No</td>\n",
       "      <td>Ripple</td>\n",
       "      <td>2</td>\n",
       "    </tr>\n",
       "    <tr>\n",
       "      <th>20904</th>\n",
       "      <td>niallkp</td>\n",
       "      <td>2025-01-14 22:08:59+00:00</td>\n",
       "      <td>2025-01-15 11:47:09+00:00</td>\n",
       "      <td>2025-01-15 11:47:09+00:00</td>\n",
       "      <td>2025-01-15 11:47:09+00:00</td>\n",
       "      <td>Merged</td>\n",
       "      <td>33261.0</td>\n",
       "      <td>296.0</td>\n",
       "      <td>No</td>\n",
       "      <td>Ripple</td>\n",
       "      <td>2</td>\n",
       "    </tr>\n",
       "  </tbody>\n",
       "</table>\n",
       "<p>20905 rows × 11 columns</p>\n",
       "</div>"
      ],
      "text/plain": [
       "          name                 created_at                 updated_at  \\\n",
       "0      shroman  2015-11-11 03:50:40+00:00  2015-11-18 19:20:41+00:00   \n",
       "1      shroman  2015-11-06 02:23:11+00:00  2015-11-06 17:26:13+00:00   \n",
       "2      shroman  2015-11-05 09:00:47+00:00  2017-07-25 23:10:55+00:00   \n",
       "3      shroman  2017-02-23 10:01:34+00:00  2019-08-01 21:50:52+00:00   \n",
       "4      shroman  2017-02-22 02:39:38+00:00  2017-02-22 02:45:29+00:00   \n",
       "...        ...                        ...                        ...   \n",
       "20900  niallkp  2025-01-13 23:36:07+00:00  2025-01-24 20:33:52+00:00   \n",
       "20901  niallkp  2025-01-14 00:54:33+00:00  2025-01-29 12:43:31+00:00   \n",
       "20902  niallkp  2015-11-23 02:05:55+00:00  2015-11-24 21:00:42+00:00   \n",
       "20903  niallkp  2025-01-20 23:43:05+00:00  2025-01-21 10:56:48+00:00   \n",
       "20904  niallkp  2025-01-14 22:08:59+00:00  2025-01-15 11:47:09+00:00   \n",
       "\n",
       "                       closed_at                  merged_at pr_status  \\\n",
       "0      2015-11-18 19:20:41+00:00  2015-11-18 19:20:41+00:00    Merged   \n",
       "1      2015-11-06 17:26:13+00:00  2015-11-06 17:26:13+00:00    Merged   \n",
       "2      2017-07-25 23:10:55+00:00                        NaN    Closed   \n",
       "3      2019-08-01 21:50:51+00:00                        NaN    Closed   \n",
       "4      2017-02-22 02:45:29+00:00                        NaN    Closed   \n",
       "...                          ...                        ...       ...   \n",
       "20900  2025-01-24 20:33:52+00:00  2025-01-24 20:33:52+00:00    Merged   \n",
       "20901  2025-01-25 07:03:22+00:00  2025-01-25 07:03:22+00:00    Merged   \n",
       "20902  2015-11-24 21:00:42+00:00  2015-11-24 21:00:42+00:00    Merged   \n",
       "20903  2025-01-21 10:56:41+00:00  2025-01-21 10:56:41+00:00    Merged   \n",
       "20904  2025-01-15 11:47:09+00:00  2025-01-15 11:47:09+00:00    Merged   \n",
       "\n",
       "       people_id  project_id Core_Developer project_name  project_status  \n",
       "0         1338.0        54.0            Yes      Airflow               1  \n",
       "1         1338.0        54.0            Yes      Airflow               1  \n",
       "2         1338.0        54.0            Yes      Airflow               1  \n",
       "3         1338.0        54.0            Yes      Airflow               1  \n",
       "4         1338.0        54.0            Yes      Airflow               1  \n",
       "...          ...         ...            ...          ...             ...  \n",
       "20900    33261.0       296.0             No       Ripple               2  \n",
       "20901    33261.0       296.0             No       Ripple               2  \n",
       "20902    33261.0       296.0             No       Ripple               2  \n",
       "20903    33261.0       296.0             No       Ripple               2  \n",
       "20904    33261.0       296.0             No       Ripple               2  \n",
       "\n",
       "[20905 rows x 11 columns]"
      ]
     },
     "execution_count": 4,
     "metadata": {},
     "output_type": "execute_result"
    }
   ],
   "source": [
    "df"
   ]
  },
  {
   "cell_type": "code",
   "execution_count": 5,
   "metadata": {},
   "outputs": [
    {
     "name": "stdout",
     "output_type": "stream",
     "text": [
      "(20905, 11)\n"
     ]
    }
   ],
   "source": [
    "print(df.shape)"
   ]
  },
  {
   "cell_type": "code",
   "execution_count": 13,
   "metadata": {},
   "outputs": [
    {
     "name": "stdout",
     "output_type": "stream",
     "text": [
      "['Airflow' 'Samza' 'Allura' 'Any23' 'CloudStack' 'DirectMemory' 'Helix'\n",
      " 'jclouds' 'Onami' 'Sentry' 'Sqoop' 'Kalumet' 'Sirona' 'Ambari'\n",
      " 'Hadoop Development Tools (HDT)' 'Apex' 'AriaTosca' 'Aries' 'Beehive'\n",
      " 'Wink' 'AsterixDB' 'Atlas' 'Falcon' 'Ranger' 'Aurora' 'Impala' 'Beam'\n",
      " 'Gearpump' 'Geode' 'Storm' 'Zeppelin' 'Eagle' 'Bigtop' 'Bloodhound'\n",
      " 'Bluesky' 'Blur' 'Brooklyn' 'Bean Validation' 'DeltaSpike' 'Calcite'\n",
      " 'Drill' 'CarbonData' 'Chemistry' 'Jackrabbit' 'Olingo'\n",
      " 'Open Climate Workbench' 'Cordova' 'Ripple' 'Corinthia' 'OpenOffice.org'\n",
      " 'ODF Toolkit' 'Crunch' 'DataFu' 'Deltacloud' 'Stonehenge' 'Directory'\n",
      " 'JDO' 'Ode' 'Roller' 'DistributedLog' 'Parquet' 'Tajo' 'Dubbo' 'PLC4X'\n",
      " 'Felix' 'Fineract' 'Flex' 'Flink' 'Flume' 'Fluo' 'Gossip' 'Griffin'\n",
      " 'Groovy' 'Guacamole' 'Harmony' 'HAWQ' 'Quickstep' 'HCatalog' 'Pig' 'S4'\n",
      " 'ACE' 'Ignite' 'Jena' 'Juneau' 'Knox' 'Kudu' 'Kylin' 'Lens' 'mod_ftp'\n",
      " 'MADlib' 'Marmotta' 'Mesos' 'MetaModel' 'Metron' 'MRQL' 'Mynewt' 'REEF'\n",
      " 'NetBeans' 'NiFi' 'OFBiz' 'OpenAz' 'OpenJPA' 'Openmeetings' 'OpenNLP'\n",
      " 'Trafodion' 'Phoenix' 'PredictionIO' 'Rave' 'Streams']\n",
      "109\n"
     ]
    }
   ],
   "source": [
    "# Determining Unique values and counts in a column\n",
    "unique_values = df['project_name'].unique()\n",
    "print(unique_values)\n",
    "print(unique_values.size)"
   ]
  },
  {
   "cell_type": "code",
   "execution_count": 21,
   "metadata": {},
   "outputs": [
    {
     "name": "stdout",
     "output_type": "stream",
     "text": [
      "False\n"
     ]
    }
   ],
   "source": [
    "# Check if a column contains NaN\n",
    "has_nan = df['people_id'].isna().any()\n",
    "\n",
    "print(has_nan)  # Output: True"
   ]
  },
  {
   "cell_type": "markdown",
   "metadata": {},
   "source": [
    "**Total number of Pull Requests by Core and Non-Core Developers**"
   ]
  },
  {
   "cell_type": "code",
   "execution_count": 33,
   "metadata": {},
   "outputs": [
    {
     "name": "stdout",
     "output_type": "stream",
     "text": [
      "Total PRs: 20905\n",
      "PRs by Core Developers: 3351\n",
      "PRs by Non-Core Developers: 17554\n"
     ]
    }
   ],
   "source": [
    "# Total number of pull requests\n",
    "total_prs = len(df)\n",
    "\n",
    "# Number of PRs by core developers\n",
    "core_prs = df[df['Core_Developer'] == 'Yes'].shape[0]\n",
    "\n",
    "# Number of PRs by non-core developers\n",
    "non_core_prs = df[df['Core_Developer'] == 'No'].shape[0]\n",
    "\n",
    "# Display results\n",
    "print(f\"Total PRs: {total_prs}\")\n",
    "print(f\"PRs by Core Developers: {core_prs}\")\n",
    "print(f\"PRs by Non-Core Developers: {non_core_prs}\")"
   ]
  },
  {
   "cell_type": "markdown",
   "metadata": {},
   "source": [
    "**No. of Core and Non-core developer PRs per project**"
   ]
  },
  {
   "cell_type": "code",
   "execution_count": 34,
   "metadata": {},
   "outputs": [
    {
     "name": "stdout",
     "output_type": "stream",
     "text": [
      "     project_id  Non-Core PRs  Core PRs\n",
      "0          51.0            11         0\n",
      "1          54.0          5327       289\n",
      "2          55.0            34        53\n",
      "3          56.0            41         2\n",
      "4          58.0             1         0\n",
      "..          ...           ...       ...\n",
      "104       294.0          1000         3\n",
      "105       296.0             6         1\n",
      "106       297.0             2         0\n",
      "107       298.0             0         1\n",
      "108       301.0             0         5\n",
      "\n",
      "[109 rows x 3 columns]\n"
     ]
    }
   ],
   "source": [
    "# Group by project_id and Core_Developer status, then count PRs\n",
    "pr_counts_per_project = df.groupby(['project_id', 'Core_Developer']).size().unstack(fill_value=0)\n",
    "\n",
    "# Rename columns for clarity\n",
    "pr_counts_per_project.columns = ['Non-Core PRs', 'Core PRs']\n",
    "\n",
    "# Reset index to make it more readable\n",
    "pr_counts_per_project = pr_counts_per_project.reset_index()\n",
    "\n",
    "# Display result\n",
    "print(pr_counts_per_project)"
   ]
  },
  {
   "cell_type": "markdown",
   "metadata": {},
   "source": [
    "**Merged and Closed PRs by Core and Non-core developers**"
   ]
  },
  {
   "cell_type": "code",
   "execution_count": 36,
   "metadata": {},
   "outputs": [
    {
     "name": "stdout",
     "output_type": "stream",
     "text": [
      "Core Developer PR Status Counts:\n",
      "pr_status\n",
      "Closed    1787\n",
      "Merged    1564\n",
      "Name: count, dtype: int64\n",
      "\n",
      "Non-Core Developer PR Status Counts:\n",
      "pr_status\n",
      "Closed    9088\n",
      "Merged    8466\n",
      "Name: count, dtype: int64\n"
     ]
    }
   ],
   "source": [
    "# Count merged and closed PRs for core developers\n",
    "core_pr_status_counts = df[df['Core_Developer'] == 'Yes']['pr_status'].value_counts()\n",
    "\n",
    "# Count merged and closed PRs for non-core developers\n",
    "non_core_pr_status_counts = df[df['Core_Developer'] == 'No']['pr_status'].value_counts()\n",
    "\n",
    "# Display results\n",
    "print(\"Core Developer PR Status Counts:\")\n",
    "print(core_pr_status_counts)\n",
    "\n",
    "print(\"\\nNon-Core Developer PR Status Counts:\")\n",
    "print(non_core_pr_status_counts)"
   ]
  },
  {
   "cell_type": "markdown",
   "metadata": {},
   "source": [
    "**Check if PRs by core developers have a higher merge rate:**"
   ]
  },
  {
   "cell_type": "code",
   "execution_count": 38,
   "metadata": {},
   "outputs": [
    {
     "name": "stdout",
     "output_type": "stream",
     "text": [
      "Core Developer Merge Rate: 46.67%\n",
      "Non-Core Developer Merge Rate: 48.23%\n"
     ]
    }
   ],
   "source": [
    "# Total PRs by core and non-core developers\n",
    "core_total_prs = df[df['Core_Developer'] == 'Yes'].shape[0]\n",
    "non_core_total_prs = df[df['Core_Developer'] == 'No'].shape[0]\n",
    "\n",
    "# Merged PRs by core and non-core developers\n",
    "core_merged_prs = df[(df['Core_Developer'] == 'Yes') & (df['pr_status'] == 'Merged')].shape[0]\n",
    "non_core_merged_prs = df[(df['Core_Developer'] == 'No') & (df['pr_status'] == 'Merged')].shape[0]\n",
    "\n",
    "# Merge rates in percentage\n",
    "core_merge_rate = (core_merged_prs / core_total_prs) * 100 if core_total_prs > 0 else 0\n",
    "non_core_merge_rate = (non_core_merged_prs / non_core_total_prs) * 100 if non_core_total_prs > 0 else 0\n",
    "\n",
    "# Display results\n",
    "print(f\"Core Developer Merge Rate: {core_merge_rate:.2f}%\")\n",
    "print(f\"Non-Core Developer Merge Rate: {non_core_merge_rate:.2f}%\")"
   ]
  },
  {
   "cell_type": "code",
   "execution_count": 41,
   "metadata": {},
   "outputs": [
    {
     "name": "stdout",
     "output_type": "stream",
     "text": [
      "Core Developer Closed Rate: 53.33%\n",
      "Non-Core Developer Closed Rate: 51.77%\n"
     ]
    }
   ],
   "source": [
    "# Total PRs by core and non-core developers\n",
    "core_total_prs = df[df['Core_Developer'] == 'Yes'].shape[0]\n",
    "non_core_total_prs = df[df['Core_Developer'] == 'No'].shape[0]\n",
    "\n",
    "# Closed PRs by core and non-core developers\n",
    "core_merged_prs = df[(df['Core_Developer'] == 'Yes') & (df['pr_status'] == 'Closed')].shape[0]\n",
    "non_core_merged_prs = df[(df['Core_Developer'] == 'No') & (df['pr_status'] == 'Closed')].shape[0]\n",
    "\n",
    "# Close rates in percentage\n",
    "core_merge_rate = (core_merged_prs / core_total_prs) * 100 if core_total_prs > 0 else 0\n",
    "non_core_merge_rate = (non_core_merged_prs / non_core_total_prs) * 100 if non_core_total_prs > 0 else 0\n",
    "\n",
    "# Display results\n",
    "print(f\"Core Developer Closed Rate: {core_merge_rate:.2f}%\")\n",
    "print(f\"Non-Core Developer Closed Rate: {non_core_merge_rate:.2f}%\")"
   ]
  },
  {
   "cell_type": "code",
   "execution_count": 42,
   "metadata": {},
   "outputs": [
    {
     "name": "stdout",
     "output_type": "stream",
     "text": [
      "Percentage of PRs by Core Developers in Sustainable Projects: 17.12%\n",
      "Percentage of PRs by Core Developers in Unsustainable Projects: 1.05%\n"
     ]
    }
   ],
   "source": [
    "# Total PRs in Sustainable (1) and Unsustainable (2) projects\n",
    "total_prs_sustainable = df[df['project_status'] == 1].shape[0]\n",
    "total_prs_unsustainable = df[df['project_status'] == 2].shape[0]\n",
    "\n",
    "# PRs by core developers in each category\n",
    "core_prs_sustainable = df[(df['Core_Developer'] == 'Yes') & (df['project_status'] == 1)].shape[0]\n",
    "core_prs_unsustainable = df[(df['Core_Developer'] == 'Yes') & (df['project_status'] == 2)].shape[0]\n",
    "\n",
    "# Percentage of PRs by core developers\n",
    "core_pr_percentage_sustainable = (core_prs_sustainable / total_prs_sustainable) * 100 if total_prs_sustainable > 0 else 0\n",
    "core_pr_percentage_unsustainable = (core_prs_unsustainable / total_prs_unsustainable) * 100 if total_prs_unsustainable > 0 else 0\n",
    "\n",
    "# Display results\n",
    "print(f\"Percentage of PRs by Core Developers in Sustainable Projects: {core_pr_percentage_sustainable:.2f}%\")\n",
    "print(f\"Percentage of PRs by Core Developers in Unsustainable Projects: {core_pr_percentage_unsustainable:.2f}%\")"
   ]
  },
  {
   "cell_type": "code",
   "execution_count": 43,
   "metadata": {},
   "outputs": [
    {
     "name": "stdout",
     "output_type": "stream",
     "text": [
      "Percentage of PRs by Non-Core Developers in Sustainable Projects: 82.88%\n",
      "Percentage of PRs by Non-Core Developers in Unsustainable Projects: 98.95%\n"
     ]
    }
   ],
   "source": [
    "# Total PRs in Sustainable (1) and Unsustainable (2) projects\n",
    "total_prs_sustainable = df[df['project_status'] == 1].shape[0]\n",
    "total_prs_unsustainable = df[df['project_status'] == 2].shape[0]\n",
    "\n",
    "# PRs by core developers in each category\n",
    "core_prs_sustainable = df[(df['Core_Developer'] == 'No') & (df['project_status'] == 1)].shape[0]\n",
    "core_prs_unsustainable = df[(df['Core_Developer'] == 'No') & (df['project_status'] == 2)].shape[0]\n",
    "\n",
    "# Percentage of PRs by non-core developers\n",
    "core_pr_percentage_sustainable = (core_prs_sustainable / total_prs_sustainable) * 100 if total_prs_sustainable > 0 else 0\n",
    "core_pr_percentage_unsustainable = (core_prs_unsustainable / total_prs_unsustainable) * 100 if total_prs_unsustainable > 0 else 0\n",
    "\n",
    "# Display results\n",
    "print(f\"Percentage of PRs by Non-Core Developers in Sustainable Projects: {core_pr_percentage_sustainable:.2f}%\")\n",
    "print(f\"Percentage of PRs by Non-Core Developers in Unsustainable Projects: {core_pr_percentage_unsustainable:.2f}%\")\n"
   ]
  },
  {
   "cell_type": "code",
   "execution_count": 45,
   "metadata": {},
   "outputs": [
    {
     "name": "stdout",
     "output_type": "stream",
     "text": [
      "Percentage of Merged PRs by Core Developers in Sustainable Projects: 46.64%\n",
      "Percentage of Merged PRs by Core Developers in Unsustainable Projects: 53.33%\n"
     ]
    }
   ],
   "source": [
    "# Total PRs by core developers in sustainable and unsustainable projects\n",
    "core_total_prs_sustainable = df[(df['Core_Developer'] == 'Yes') & (df['project_status'] == 1)].shape[0]\n",
    "core_total_prs_unsustainable = df[(df['Core_Developer'] == 'Yes') & (df['project_status'] == 2)].shape[0]\n",
    "\n",
    "# Merged PRs by core developers in each category\n",
    "core_merged_prs_sustainable = df[(df['Core_Developer'] == 'Yes') & \n",
    "                                 (df['project_status'] == 1) & \n",
    "                                 (df['pr_status'] == 'Merged')].shape[0]\n",
    "\n",
    "core_merged_prs_unsustainable = df[(df['Core_Developer'] == 'Yes') & \n",
    "                                   (df['project_status'] == 2) & \n",
    "                                   (df['pr_status'] == 'Merged')].shape[0]\n",
    "\n",
    "# Merge rate as percentage\n",
    "core_merge_rate_sustainable = (core_merged_prs_sustainable / core_total_prs_sustainable) * 100 if core_total_prs_sustainable > 0 else 0\n",
    "core_merge_rate_unsustainable = (core_merged_prs_unsustainable / core_total_prs_unsustainable) * 100 if core_total_prs_unsustainable > 0 else 0\n",
    "\n",
    "# Display results\n",
    "print(f\"Percentage of Merged PRs by Core Developers in Sustainable Projects: {core_merge_rate_sustainable:.2f}%\")\n",
    "print(f\"Percentage of Merged PRs by Core Developers in Unsustainable Projects: {core_merge_rate_unsustainable:.2f}%\")\n"
   ]
  },
  {
   "cell_type": "code",
   "execution_count": 46,
   "metadata": {},
   "outputs": [
    {
     "name": "stdout",
     "output_type": "stream",
     "text": [
      "Percentage of Closed PRs by Core Developers in Sustainable Projects: 53.36%\n",
      "Percentage of Closed PRs by Core Developers in Unsustainable Projects: 46.67%\n"
     ]
    }
   ],
   "source": [
    "# Total PRs by core developers in sustainable and unsustainable projects\n",
    "core_total_prs_sustainable = df[(df['Core_Developer'] == 'Yes') & (df['project_status'] == 1)].shape[0]\n",
    "core_total_prs_unsustainable = df[(df['Core_Developer'] == 'Yes') & (df['project_status'] == 2)].shape[0]\n",
    "\n",
    "# Closed PRs by core developers in each category\n",
    "core_merged_prs_sustainable = df[(df['Core_Developer'] == 'Yes') & \n",
    "                                 (df['project_status'] == 1) & \n",
    "                                 (df['pr_status'] == 'Closed')].shape[0]\n",
    "\n",
    "core_merged_prs_unsustainable = df[(df['Core_Developer'] == 'Yes') & \n",
    "                                   (df['project_status'] == 2) & \n",
    "                                   (df['pr_status'] == 'Closed')].shape[0]\n",
    "\n",
    "# Closed rate as percentage\n",
    "core_merge_rate_sustainable = (core_merged_prs_sustainable / core_total_prs_sustainable) * 100 if core_total_prs_sustainable > 0 else 0\n",
    "core_merge_rate_unsustainable = (core_merged_prs_unsustainable / core_total_prs_unsustainable) * 100 if core_total_prs_unsustainable > 0 else 0\n",
    "\n",
    "# Display results\n",
    "print(f\"Percentage of Closed PRs by Core Developers in Sustainable Projects: {core_merge_rate_sustainable:.2f}%\")\n",
    "print(f\"Percentage of Closed PRs by Core Developers in Unsustainable Projects: {core_merge_rate_unsustainable:.2f}%\")"
   ]
  },
  {
   "cell_type": "markdown",
   "metadata": {},
   "source": [
    "**No. of PRs per project**"
   ]
  },
  {
   "cell_type": "code",
   "execution_count": 31,
   "metadata": {},
   "outputs": [
    {
     "data": {
      "text/plain": [
       "project_name\n",
       "Airflow           5616\n",
       "CloudStack        1484\n",
       "HAWQ              1034\n",
       "Calcite           1031\n",
       "Quickstep         1003\n",
       "                  ... \n",
       "Mesos                1\n",
       "DistributedLog       1\n",
       "DirectMemory         1\n",
       "Sirona               1\n",
       "Sentry               1\n",
       "Length: 109, dtype: int64"
      ]
     },
     "execution_count": 31,
     "metadata": {},
     "output_type": "execute_result"
    }
   ],
   "source": [
    "project_activity = df.groupby('project_name').size().sort_values(ascending=False)\n",
    "project_activity"
   ]
  },
  {
   "cell_type": "markdown",
   "metadata": {},
   "source": [
    "**Find projects with the most core developers:**"
   ]
  },
  {
   "cell_type": "code",
   "execution_count": 32,
   "metadata": {},
   "outputs": [
    {
     "data": {
      "text/plain": [
       "project_name\n",
       "CloudStack         864\n",
       "Beam               571\n",
       "Deltacloud         501\n",
       "Airflow            289\n",
       "Bean Validation    244\n",
       "                  ... \n",
       "Guacamole            0\n",
       "Griffin              0\n",
       "Gossip               0\n",
       "Gearpump             0\n",
       "Jena                 0\n",
       "Name: Core_Developer, Length: 109, dtype: int64"
      ]
     },
     "execution_count": 32,
     "metadata": {},
     "output_type": "execute_result"
    }
   ],
   "source": [
    "df.groupby('project_name')['Core_Developer'].apply(lambda x: (x == 'Yes').sum()).sort_values(ascending=False)"
   ]
  }
 ],
 "metadata": {
  "kernelspec": {
   "display_name": "Python 3",
   "language": "python",
   "name": "python3"
  },
  "language_info": {
   "codemirror_mode": {
    "name": "ipython",
    "version": 3
   },
   "file_extension": ".py",
   "mimetype": "text/x-python",
   "name": "python",
   "nbconvert_exporter": "python",
   "pygments_lexer": "ipython3",
   "version": "3.10.12"
  }
 },
 "nbformat": 4,
 "nbformat_minor": 2
}
