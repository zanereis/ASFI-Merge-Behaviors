{
 "cells": [
  {
   "cell_type": "code",
   "execution_count": 1,
   "metadata": {},
   "outputs": [],
   "source": [
    "import pandas as pd\n",
    "import numpy as np"
   ]
  },
  {
   "cell_type": "code",
   "execution_count": 2,
   "metadata": {},
   "outputs": [
    {
     "name": "stderr",
     "output_type": "stream",
     "text": [
      "/tmp/ipykernel_261844/1690718824.py:3: DtypeWarning: Columns (14) have mixed types. Specify dtype option on import or set low_memory=False.\n",
      "  commits = pd.read_csv(\"csvs/modified_commits_2019_8.csv\",encoding=\"ISO-8859-1\")\n"
     ]
    }
   ],
   "source": [
    "# Load the CSV file\n",
    "lists = pd.read_csv(\"csvs/lists_2019_8.csv\",encoding=\"ISO-8859-1\")\n",
    "commits = pd.read_csv(\"csvs/modified_commits_2019_8.csv\",encoding=\"ISO-8859-1\")\n",
    "people = pd.read_csv(\"csvs/people_2019_8.csv\",encoding=\"ISO-8859-1\")\n",
    "pr = pd.read_csv(\"csvs/pull-requests.csv\",encoding=\"ISO-8859-1\")\n",
    "alias=pd.read_csv(\"csvs/modified_aliases_2019_8.csv\",encoding=\"ISO-8859-1\")"
   ]
  },
  {
   "cell_type": "code",
   "execution_count": 3,
   "metadata": {},
   "outputs": [
    {
     "data": {
      "text/plain": [
       "Index(['listid', 'listname', 'pj_alias', 'status', 'start_date', 'end_date',\n",
       "       'dev_is_available', 'commit_is_available', 'is_in_attic', 'sponsor',\n",
       "       'intro', 'istoplv', 'start_from_scratch', 'pj_url', 'pj_github_url'],\n",
       "      dtype='object')"
      ]
     },
     "execution_count": 3,
     "metadata": {},
     "output_type": "execute_result"
    }
   ],
   "source": [
    "lists.columns"
   ]
  },
  {
   "cell_type": "code",
   "execution_count": null,
   "metadata": {},
   "outputs": [],
   "source": []
  },
  {
   "cell_type": "code",
   "execution_count": 25,
   "metadata": {},
   "outputs": [
    {
     "name": "stderr",
     "output_type": "stream",
     "text": [
      "/tmp/ipykernel_261844/3454612999.py:2: SettingWithCopyWarning: \n",
      "A value is trying to be set on a copy of a slice from a DataFrame.\n",
      "Try using .loc[row_indexer,col_indexer] = value instead\n",
      "\n",
      "See the caveats in the documentation: https://pandas.pydata.org/pandas-docs/stable/user_guide/indexing.html#returning-a-view-versus-a-copy\n",
      "  a['listname'] = a['listname'].str.lower()  # Convert to lowercase\n"
     ]
    }
   ],
   "source": [
    "a=lists[['listid','listname']]\n",
    "a['listname'] = a['listname'].str.lower()  # Convert to lowercase\n",
    "a = a.sort_values(by='listname', ascending=True)  # Sort in ascending order\n",
    "a.to_csv(\"project_name.csv\",index=False)"
   ]
  },
  {
   "cell_type": "code",
   "execution_count": 23,
   "metadata": {},
   "outputs": [],
   "source": [
    "# Remove \"incubator-\" from the start of strings\n",
    "pr[\"repo\"] = pr[\"repo\"].str.replace(r\"^incubator-\", \"\", regex=True)\n",
    "pr[\"repo\"] = pr[\"repo\"].str.replace(r\"^retired-\", \"\", regex=True)"
   ]
  },
  {
   "cell_type": "code",
   "execution_count": 24,
   "metadata": {},
   "outputs": [],
   "source": [
    "b = pr['repo'].unique()  # Get unique values from the 'repo' column (returns a NumPy array)\n",
    "b = pd.DataFrame(b, columns=['repo'])  # Convert to DataFrame\n",
    "b['repo'] = b['repo'].str.lower()  # Convert to lowercase\n",
    "b = b.sort_values(by='repo', ascending=True)  # Sort in ascending order\n",
    "b.to_csv(\"pr.csv\",index=False)"
   ]
  },
  {
   "cell_type": "code",
   "execution_count": 20,
   "metadata": {},
   "outputs": [],
   "source": [
    "df_combined = pd.concat([a, b], axis=1)\n",
    "df_combined.to_csv(\"combined.csv\",index=False)"
   ]
  },
  {
   "cell_type": "code",
   "execution_count": 26,
   "metadata": {},
   "outputs": [],
   "source": [
    "# Function to find matches\n",
    "def find_matching_repo(listname, repo_list):\n",
    "    for repo in repo_list:\n",
    "        if pd.notna(listname) and pd.notna(repo):\n",
    "            if pd.Series([listname]).str.contains(repo, regex=True, case=False).any():\n",
    "                return repo  # Return first matching repo\n",
    "    return np.nan  # If no match found\n",
    "\n",
    "# Apply the function to each row in 'a'\n",
    "a['matched_repo'] = a['listname'].apply(lambda x: find_matching_repo(x, b['repo'].tolist()))\n",
    "\n",
    "a.to_csv(\"combined.csv\",index=False)"
   ]
  },
  {
   "cell_type": "code",
   "execution_count": 27,
   "metadata": {},
   "outputs": [
    {
     "name": "stdout",
     "output_type": "stream",
     "text": [
      "Number of unique values: 220\n"
     ]
    }
   ],
   "source": [
    "unique_count = a['matched_repo'].nunique()\n",
    "print(f\"Number of unique values: {unique_count}\")\n"
   ]
  },
  {
   "cell_type": "code",
   "execution_count": 73,
   "metadata": {},
   "outputs": [
    {
     "name": "stdout",
     "output_type": "stream",
     "text": [
      "Number of NaNs in column : 60\n"
     ]
    }
   ],
   "source": [
    "c=pd.read_csv(\"combined.csv\",encoding=\"ISO-8859-1\")\n",
    "nan_count = c['matched_repo'].isna().sum()\n",
    "print(f\"Number of NaNs in column : {nan_count}\")\n"
   ]
  },
  {
   "cell_type": "code",
   "execution_count": 37,
   "metadata": {},
   "outputs": [],
   "source": [
    "d=pd.read_csv(\"pr.csv\",encoding=\"ISO-8859-1\")"
   ]
  },
  {
   "cell_type": "code",
   "execution_count": 39,
   "metadata": {},
   "outputs": [
    {
     "name": "stdout",
     "output_type": "stream",
     "text": [
      "These repos were not found in listname column of c:\n",
      "['bval', 'creadur-rat', 'directory-server', 'geronimo-yoko', 'ponymail']\n"
     ]
    }
   ],
   "source": [
    "# Find missing values\n",
    "missing_repos = d[~d['repo'].isin(c['matched_repo'])]  # Select rows where repo is not in listname\n",
    "\n",
    "# Print missing repos\n",
    "if not missing_repos.empty:\n",
    "    print(\"These repos were not found in listname column of c:\")\n",
    "    print(missing_repos['repo'].tolist())\n",
    "else:\n",
    "    print(\"All repos in d['repo'] are found in c['listname'].\")"
   ]
  },
  {
   "cell_type": "code",
   "execution_count": 71,
   "metadata": {},
   "outputs": [],
   "source": [
    "row_261 = lists.loc[lists['pj_alias'] == \"woden\"]\n",
    "row_179 = lists.loc[a['listid'] == 179]"
   ]
  },
  {
   "cell_type": "code",
   "execution_count": 72,
   "metadata": {},
   "outputs": [
    {
     "data": {
      "text/html": [
       "<div>\n",
       "<style scoped>\n",
       "    .dataframe tbody tr th:only-of-type {\n",
       "        vertical-align: middle;\n",
       "    }\n",
       "\n",
       "    .dataframe tbody tr th {\n",
       "        vertical-align: top;\n",
       "    }\n",
       "\n",
       "    .dataframe thead th {\n",
       "        text-align: right;\n",
       "    }\n",
       "</style>\n",
       "<table border=\"1\" class=\"dataframe\">\n",
       "  <thead>\n",
       "    <tr style=\"text-align: right;\">\n",
       "      <th></th>\n",
       "      <th>listid</th>\n",
       "      <th>listname</th>\n",
       "      <th>pj_alias</th>\n",
       "      <th>status</th>\n",
       "      <th>start_date</th>\n",
       "      <th>end_date</th>\n",
       "      <th>dev_is_available</th>\n",
       "      <th>commit_is_available</th>\n",
       "      <th>is_in_attic</th>\n",
       "      <th>sponsor</th>\n",
       "      <th>intro</th>\n",
       "      <th>istoplv</th>\n",
       "      <th>start_from_scratch</th>\n",
       "      <th>pj_url</th>\n",
       "      <th>pj_github_url</th>\n",
       "    </tr>\n",
       "  </thead>\n",
       "  <tbody>\n",
       "    <tr>\n",
       "      <th>249</th>\n",
       "      <td>249</td>\n",
       "      <td>Woden</td>\n",
       "      <td>woden</td>\n",
       "      <td>1</td>\n",
       "      <td>3/24/2005</td>\n",
       "      <td>12/8/2007</td>\n",
       "      <td>t</td>\n",
       "      <td>f</td>\n",
       "      <td>f</td>\n",
       "      <td>Web Services\\n\\t\\t \\n\\t</td>\n",
       "      <td>Implementation of WSDL 2.0\\n\\t\\t \\n\\t</td>\n",
       "      <td>NaN</td>\n",
       "      <td>NaN</td>\n",
       "      <td>http://incubator.apache.org/projects/woden.html</td>\n",
       "      <td>https://github.com/apache/Woden</td>\n",
       "    </tr>\n",
       "  </tbody>\n",
       "</table>\n",
       "</div>"
      ],
      "text/plain": [
       "     listid listname pj_alias  status start_date   end_date dev_is_available  \\\n",
       "249     249    Woden    woden       1  3/24/2005  12/8/2007                t   \n",
       "\n",
       "    commit_is_available is_in_attic                     sponsor  \\\n",
       "249                   f           f  Web Services\\n\\t\\t \\n\\t      \n",
       "\n",
       "                                        intro  istoplv  start_from_scratch  \\\n",
       "249  Implementation of WSDL 2.0\\n\\t\\t \\n\\t         NaN                 NaN   \n",
       "\n",
       "                                              pj_url  \\\n",
       "249  http://incubator.apache.org/projects/woden.html   \n",
       "\n",
       "                       pj_github_url  \n",
       "249  https://github.com/apache/Woden  "
      ]
     },
     "execution_count": 72,
     "metadata": {},
     "output_type": "execute_result"
    }
   ],
   "source": [
    "# Print the result\n",
    "row_261"
   ]
  },
  {
   "cell_type": "code",
   "execution_count": 46,
   "metadata": {},
   "outputs": [
    {
     "data": {
      "text/html": [
       "<div>\n",
       "<style scoped>\n",
       "    .dataframe tbody tr th:only-of-type {\n",
       "        vertical-align: middle;\n",
       "    }\n",
       "\n",
       "    .dataframe tbody tr th {\n",
       "        vertical-align: top;\n",
       "    }\n",
       "\n",
       "    .dataframe thead th {\n",
       "        text-align: right;\n",
       "    }\n",
       "</style>\n",
       "<table border=\"1\" class=\"dataframe\">\n",
       "  <thead>\n",
       "    <tr style=\"text-align: right;\">\n",
       "      <th></th>\n",
       "      <th>listid</th>\n",
       "      <th>listname</th>\n",
       "      <th>pj_alias</th>\n",
       "      <th>status</th>\n",
       "      <th>start_date</th>\n",
       "      <th>end_date</th>\n",
       "      <th>dev_is_available</th>\n",
       "      <th>commit_is_available</th>\n",
       "      <th>is_in_attic</th>\n",
       "      <th>sponsor</th>\n",
       "      <th>intro</th>\n",
       "      <th>istoplv</th>\n",
       "      <th>start_from_scratch</th>\n",
       "      <th>pj_url</th>\n",
       "      <th>pj_github_url</th>\n",
       "    </tr>\n",
       "  </thead>\n",
       "  <tbody>\n",
       "    <tr>\n",
       "      <th>179</th>\n",
       "      <td>179</td>\n",
       "      <td>Open Climate Workbench</td>\n",
       "      <td>climate</td>\n",
       "      <td>1</td>\n",
       "      <td>2/15/2013</td>\n",
       "      <td>2/19/2014</td>\n",
       "      <td>t</td>\n",
       "      <td>t</td>\n",
       "      <td>f</td>\n",
       "      <td>Incubator\\n\\t\\t\\n\\t\\t(Chris A. Mattmann)\\n\\t\\t...</td>\n",
       "      <td>A tool for scalable comparison of remote sensi...</td>\n",
       "      <td>NaN</td>\n",
       "      <td>NaN</td>\n",
       "      <td>http://incubator.apache.org/projects/climate.html</td>\n",
       "      <td>https://github.com/apache/Open Climate Workbench</td>\n",
       "    </tr>\n",
       "  </tbody>\n",
       "</table>\n",
       "</div>"
      ],
      "text/plain": [
       "     listid                listname pj_alias  status start_date   end_date  \\\n",
       "179     179  Open Climate Workbench  climate       1  2/15/2013  2/19/2014   \n",
       "\n",
       "    dev_is_available commit_is_available is_in_attic  \\\n",
       "179                t                   t           f   \n",
       "\n",
       "                                               sponsor  \\\n",
       "179  Incubator\\n\\t\\t\\n\\t\\t(Chris A. Mattmann)\\n\\t\\t...   \n",
       "\n",
       "                                                 intro  istoplv  \\\n",
       "179  A tool for scalable comparison of remote sensi...      NaN   \n",
       "\n",
       "     start_from_scratch                                             pj_url  \\\n",
       "179                 NaN  http://incubator.apache.org/projects/climate.html   \n",
       "\n",
       "                                        pj_github_url  \n",
       "179  https://github.com/apache/Open Climate Workbench  "
      ]
     },
     "execution_count": 46,
     "metadata": {},
     "output_type": "execute_result"
    }
   ],
   "source": [
    "row_179"
   ]
  },
  {
   "cell_type": "code",
   "execution_count": 70,
   "metadata": {},
   "outputs": [
    {
     "name": "stdout",
     "output_type": "stream",
     "text": [
      "Duplicate rows (without NaN values):\n",
      "     listid listname matched_repo\n",
      "184     172      ode          ode\n",
      "302     249    woden          ode\n"
     ]
    },
    {
     "name": "stderr",
     "output_type": "stream",
     "text": [
      "/tmp/ipykernel_261844/3131390917.py:2: UserWarning: Boolean Series key will be reindexed to match DataFrame index.\n",
      "  duplicates = c.dropna(subset=['matched_repo'])[c['matched_repo'].duplicated(keep=False)]\n"
     ]
    }
   ],
   "source": [
    "# Drop NaN values from the column before checking for duplicates\n",
    "duplicates = c.dropna(subset=['matched_repo'])[c['matched_repo'].duplicated(keep=False)]\n",
    "\n",
    "# Print the duplicates\n",
    "if not duplicates.empty:\n",
    "    print(\"Duplicate rows (without NaN values):\")\n",
    "    print(duplicates)\n",
    "else:\n",
    "    print(\"No duplicates found in column (after dropping NaN).\")\n",
    "\n"
   ]
  },
  {
   "cell_type": "code",
   "execution_count": 76,
   "metadata": {},
   "outputs": [],
   "source": [
    "# Convert 'repo' column in pr to lowercase before matching\n",
    "pr['repo'] = pr['repo'].str.lower()\n",
    "\n",
    "# Assuming 'pr' and 'c' are your dataframes\n",
    "pr['project_id'] = pr['repo'].apply(\n",
    "    lambda repo: c.loc[c['matched_repo'] == repo, 'listid'].values[0] if not c.loc[c['matched_repo'] == repo, 'listid'].empty else np.nan\n",
    ")"
   ]
  },
  {
   "cell_type": "code",
   "execution_count": 77,
   "metadata": {},
   "outputs": [
    {
     "data": {
      "text/html": [
       "<div>\n",
       "<style scoped>\n",
       "    .dataframe tbody tr th:only-of-type {\n",
       "        vertical-align: middle;\n",
       "    }\n",
       "\n",
       "    .dataframe tbody tr th {\n",
       "        vertical-align: top;\n",
       "    }\n",
       "\n",
       "    .dataframe thead th {\n",
       "        text-align: right;\n",
       "    }\n",
       "</style>\n",
       "<table border=\"1\" class=\"dataframe\">\n",
       "  <thead>\n",
       "    <tr style=\"text-align: right;\">\n",
       "      <th></th>\n",
       "      <th>repo</th>\n",
       "      <th>number</th>\n",
       "      <th>user</th>\n",
       "      <th>user_type</th>\n",
       "      <th>state</th>\n",
       "      <th>created_at</th>\n",
       "      <th>updated_at</th>\n",
       "      <th>closed_at</th>\n",
       "      <th>merged_at</th>\n",
       "      <th>merge_commit_sha</th>\n",
       "      <th>issue_url</th>\n",
       "      <th>body</th>\n",
       "      <th>project_id</th>\n",
       "    </tr>\n",
       "  </thead>\n",
       "  <tbody>\n",
       "    <tr>\n",
       "      <th>0</th>\n",
       "      <td>abdera</td>\n",
       "      <td>4</td>\n",
       "      <td>dargooo</td>\n",
       "      <td>User</td>\n",
       "      <td>closed</td>\n",
       "      <td>2020-11-26T21:21:33Z</td>\n",
       "      <td>2023-05-21T04:37:38Z</td>\n",
       "      <td>2023-05-21T04:37:38Z</td>\n",
       "      <td>NaN</td>\n",
       "      <td>85551716e4900cb514c5913086cedb869edb5ecf</td>\n",
       "      <td>https://api.github.com/repos/apache/abdera/iss...</td>\n",
       "      <td>NaN</td>\n",
       "      <td>49</td>\n",
       "    </tr>\n",
       "    <tr>\n",
       "      <th>1</th>\n",
       "      <td>abdera</td>\n",
       "      <td>3</td>\n",
       "      <td>YYTVicky</td>\n",
       "      <td>User</td>\n",
       "      <td>open</td>\n",
       "      <td>2020-03-01T00:37:56Z</td>\n",
       "      <td>2020-04-30T02:01:45Z</td>\n",
       "      <td>NaN</td>\n",
       "      <td>NaN</td>\n",
       "      <td>10b439abf352089d813cf882e9d6291fb58bd363</td>\n",
       "      <td>https://api.github.com/repos/apache/abdera/iss...</td>\n",
       "      <td>NaN</td>\n",
       "      <td>49</td>\n",
       "    </tr>\n",
       "    <tr>\n",
       "      <th>2</th>\n",
       "      <td>abdera</td>\n",
       "      <td>2</td>\n",
       "      <td>nicolasyanncouturier</td>\n",
       "      <td>User</td>\n",
       "      <td>open</td>\n",
       "      <td>2013-10-18T13:32:37Z</td>\n",
       "      <td>2014-07-16T01:44:57Z</td>\n",
       "      <td>NaN</td>\n",
       "      <td>NaN</td>\n",
       "      <td>e973e7069a3e4be285b2b934d57adf32caa0a9ef</td>\n",
       "      <td>https://api.github.com/repos/apache/abdera/iss...</td>\n",
       "      <td>Used the same system in BaseSerializer.writeEx...</td>\n",
       "      <td>49</td>\n",
       "    </tr>\n",
       "    <tr>\n",
       "      <th>3</th>\n",
       "      <td>abdera</td>\n",
       "      <td>1</td>\n",
       "      <td>nicolasyanncouturier</td>\n",
       "      <td>User</td>\n",
       "      <td>open</td>\n",
       "      <td>2013-10-14T12:23:03Z</td>\n",
       "      <td>2014-07-13T19:17:32Z</td>\n",
       "      <td>NaN</td>\n",
       "      <td>NaN</td>\n",
       "      <td>975791491d738b7d0467bd1975e799857a1c43ed</td>\n",
       "      <td>https://api.github.com/repos/apache/abdera/iss...</td>\n",
       "      <td>The test would most likely need to be split in...</td>\n",
       "      <td>49</td>\n",
       "    </tr>\n",
       "    <tr>\n",
       "      <th>4</th>\n",
       "      <td>accumulo</td>\n",
       "      <td>4027</td>\n",
       "      <td>dlmarion</td>\n",
       "      <td>User</td>\n",
       "      <td>closed</td>\n",
       "      <td>2023-12-06T14:20:37Z</td>\n",
       "      <td>2024-07-12T00:15:54Z</td>\n",
       "      <td>2023-12-06T14:34:06Z</td>\n",
       "      <td>2023-12-06T14:34:06Z</td>\n",
       "      <td>29c307fca48117de1433754ead350e031c4f4153</td>\n",
       "      <td>https://api.github.com/repos/apache/accumulo/i...</td>\n",
       "      <td>NaN</td>\n",
       "      <td>50</td>\n",
       "    </tr>\n",
       "    <tr>\n",
       "      <th>...</th>\n",
       "      <td>...</td>\n",
       "      <td>...</td>\n",
       "      <td>...</td>\n",
       "      <td>...</td>\n",
       "      <td>...</td>\n",
       "      <td>...</td>\n",
       "      <td>...</td>\n",
       "      <td>...</td>\n",
       "      <td>...</td>\n",
       "      <td>...</td>\n",
       "      <td>...</td>\n",
       "      <td>...</td>\n",
       "      <td>...</td>\n",
       "    </tr>\n",
       "    <tr>\n",
       "      <th>569443</th>\n",
       "      <td>zipkin</td>\n",
       "      <td>2379</td>\n",
       "      <td>shakuzen</td>\n",
       "      <td>User</td>\n",
       "      <td>closed</td>\n",
       "      <td>2019-02-01T09:58:52Z</td>\n",
       "      <td>2019-02-04T03:34:15Z</td>\n",
       "      <td>2019-02-02T09:01:02Z</td>\n",
       "      <td>2019-02-02T09:01:01Z</td>\n",
       "      <td>1b2dbdcc50d35dd6f8a5b740a12983ec12d41606</td>\n",
       "      <td>https://api.github.com/repos/openzipkin/zipkin...</td>\n",
       "      <td>RabbitMQ may be managed by a team that will cr...</td>\n",
       "      <td>312</td>\n",
       "    </tr>\n",
       "    <tr>\n",
       "      <th>569444</th>\n",
       "      <td>zipkin</td>\n",
       "      <td>2378</td>\n",
       "      <td>codefromthecrypt</td>\n",
       "      <td>User</td>\n",
       "      <td>closed</td>\n",
       "      <td>2019-02-01T09:12:47Z</td>\n",
       "      <td>2019-02-18T06:44:53Z</td>\n",
       "      <td>2019-02-18T06:44:51Z</td>\n",
       "      <td>NaN</td>\n",
       "      <td>32156d935f6be5ebf6da92e3fa6497004d679efa</td>\n",
       "      <td>https://api.github.com/repos/openzipkin/zipkin...</td>\n",
       "      <td>Lookback zero is invalid and should return emp...</td>\n",
       "      <td>312</td>\n",
       "    </tr>\n",
       "    <tr>\n",
       "      <th>569445</th>\n",
       "      <td>zipkin</td>\n",
       "      <td>2377</td>\n",
       "      <td>codefromthecrypt</td>\n",
       "      <td>User</td>\n",
       "      <td>closed</td>\n",
       "      <td>2019-02-01T08:55:20Z</td>\n",
       "      <td>2019-02-01T09:51:36Z</td>\n",
       "      <td>2019-02-01T09:51:34Z</td>\n",
       "      <td>2019-02-01T09:51:34Z</td>\n",
       "      <td>39c5444fafca78435ae4defe63230bbe6af76599</td>\n",
       "      <td>https://api.github.com/repos/openzipkin/zipkin...</td>\n",
       "      <td>We didn't defensively check if autocomplete ta...</td>\n",
       "      <td>312</td>\n",
       "    </tr>\n",
       "    <tr>\n",
       "      <th>569446</th>\n",
       "      <td>zipkin</td>\n",
       "      <td>2376</td>\n",
       "      <td>codefromthecrypt</td>\n",
       "      <td>User</td>\n",
       "      <td>closed</td>\n",
       "      <td>2019-02-01T08:17:38Z</td>\n",
       "      <td>2019-02-01T08:58:12Z</td>\n",
       "      <td>2019-02-01T08:58:10Z</td>\n",
       "      <td>2019-02-01T08:58:10Z</td>\n",
       "      <td>d401811bfc3b00d52ba42fa3fa1c54171fd2f4d7</td>\n",
       "      <td>https://api.github.com/repos/openzipkin/zipkin...</td>\n",
       "      <td>NaN</td>\n",
       "      <td>312</td>\n",
       "    </tr>\n",
       "    <tr>\n",
       "      <th>569447</th>\n",
       "      <td>zipkin</td>\n",
       "      <td>2375</td>\n",
       "      <td>tacigar</td>\n",
       "      <td>User</td>\n",
       "      <td>closed</td>\n",
       "      <td>2019-02-01T05:59:45Z</td>\n",
       "      <td>2020-03-08T04:08:43Z</td>\n",
       "      <td>2019-02-01T08:09:40Z</td>\n",
       "      <td>2019-02-01T08:09:40Z</td>\n",
       "      <td>5e27424164a040008aa321997a17f4ee764fe57b</td>\n",
       "      <td>https://api.github.com/repos/openzipkin/zipkin...</td>\n",
       "      <td>This is an experimental PR.\\r\\nIf you don't li...</td>\n",
       "      <td>312</td>\n",
       "    </tr>\n",
       "  </tbody>\n",
       "</table>\n",
       "<p>569448 rows × 13 columns</p>\n",
       "</div>"
      ],
      "text/plain": [
       "            repo  number                  user user_type   state  \\\n",
       "0         abdera       4               dargooo      User  closed   \n",
       "1         abdera       3              YYTVicky      User    open   \n",
       "2         abdera       2  nicolasyanncouturier      User    open   \n",
       "3         abdera       1  nicolasyanncouturier      User    open   \n",
       "4       accumulo    4027              dlmarion      User  closed   \n",
       "...          ...     ...                   ...       ...     ...   \n",
       "569443    zipkin    2379              shakuzen      User  closed   \n",
       "569444    zipkin    2378      codefromthecrypt      User  closed   \n",
       "569445    zipkin    2377      codefromthecrypt      User  closed   \n",
       "569446    zipkin    2376      codefromthecrypt      User  closed   \n",
       "569447    zipkin    2375               tacigar      User  closed   \n",
       "\n",
       "                  created_at            updated_at             closed_at  \\\n",
       "0       2020-11-26T21:21:33Z  2023-05-21T04:37:38Z  2023-05-21T04:37:38Z   \n",
       "1       2020-03-01T00:37:56Z  2020-04-30T02:01:45Z                   NaN   \n",
       "2       2013-10-18T13:32:37Z  2014-07-16T01:44:57Z                   NaN   \n",
       "3       2013-10-14T12:23:03Z  2014-07-13T19:17:32Z                   NaN   \n",
       "4       2023-12-06T14:20:37Z  2024-07-12T00:15:54Z  2023-12-06T14:34:06Z   \n",
       "...                      ...                   ...                   ...   \n",
       "569443  2019-02-01T09:58:52Z  2019-02-04T03:34:15Z  2019-02-02T09:01:02Z   \n",
       "569444  2019-02-01T09:12:47Z  2019-02-18T06:44:53Z  2019-02-18T06:44:51Z   \n",
       "569445  2019-02-01T08:55:20Z  2019-02-01T09:51:36Z  2019-02-01T09:51:34Z   \n",
       "569446  2019-02-01T08:17:38Z  2019-02-01T08:58:12Z  2019-02-01T08:58:10Z   \n",
       "569447  2019-02-01T05:59:45Z  2020-03-08T04:08:43Z  2019-02-01T08:09:40Z   \n",
       "\n",
       "                   merged_at                          merge_commit_sha  \\\n",
       "0                        NaN  85551716e4900cb514c5913086cedb869edb5ecf   \n",
       "1                        NaN  10b439abf352089d813cf882e9d6291fb58bd363   \n",
       "2                        NaN  e973e7069a3e4be285b2b934d57adf32caa0a9ef   \n",
       "3                        NaN  975791491d738b7d0467bd1975e799857a1c43ed   \n",
       "4       2023-12-06T14:34:06Z  29c307fca48117de1433754ead350e031c4f4153   \n",
       "...                      ...                                       ...   \n",
       "569443  2019-02-02T09:01:01Z  1b2dbdcc50d35dd6f8a5b740a12983ec12d41606   \n",
       "569444                   NaN  32156d935f6be5ebf6da92e3fa6497004d679efa   \n",
       "569445  2019-02-01T09:51:34Z  39c5444fafca78435ae4defe63230bbe6af76599   \n",
       "569446  2019-02-01T08:58:10Z  d401811bfc3b00d52ba42fa3fa1c54171fd2f4d7   \n",
       "569447  2019-02-01T08:09:40Z  5e27424164a040008aa321997a17f4ee764fe57b   \n",
       "\n",
       "                                                issue_url  \\\n",
       "0       https://api.github.com/repos/apache/abdera/iss...   \n",
       "1       https://api.github.com/repos/apache/abdera/iss...   \n",
       "2       https://api.github.com/repos/apache/abdera/iss...   \n",
       "3       https://api.github.com/repos/apache/abdera/iss...   \n",
       "4       https://api.github.com/repos/apache/accumulo/i...   \n",
       "...                                                   ...   \n",
       "569443  https://api.github.com/repos/openzipkin/zipkin...   \n",
       "569444  https://api.github.com/repos/openzipkin/zipkin...   \n",
       "569445  https://api.github.com/repos/openzipkin/zipkin...   \n",
       "569446  https://api.github.com/repos/openzipkin/zipkin...   \n",
       "569447  https://api.github.com/repos/openzipkin/zipkin...   \n",
       "\n",
       "                                                     body  project_id  \n",
       "0                                                     NaN          49  \n",
       "1                                                     NaN          49  \n",
       "2       Used the same system in BaseSerializer.writeEx...          49  \n",
       "3       The test would most likely need to be split in...          49  \n",
       "4                                                     NaN          50  \n",
       "...                                                   ...         ...  \n",
       "569443  RabbitMQ may be managed by a team that will cr...         312  \n",
       "569444  Lookback zero is invalid and should return emp...         312  \n",
       "569445  We didn't defensively check if autocomplete ta...         312  \n",
       "569446                                                NaN         312  \n",
       "569447  This is an experimental PR.\\r\\nIf you don't li...         312  \n",
       "\n",
       "[569448 rows x 13 columns]"
      ]
     },
     "execution_count": 77,
     "metadata": {},
     "output_type": "execute_result"
    }
   ],
   "source": [
    "pr"
   ]
  },
  {
   "cell_type": "code",
   "execution_count": 79,
   "metadata": {},
   "outputs": [
    {
     "name": "stdout",
     "output_type": "stream",
     "text": [
      "0         False\n",
      "1         False\n",
      "2         False\n",
      "3         False\n",
      "4         False\n",
      "          ...  \n",
      "569443    False\n",
      "569444    False\n",
      "569445    False\n",
      "569446    False\n",
      "569447    False\n",
      "Name: project_id, Length: 569448, dtype: bool\n"
     ]
    }
   ],
   "source": [
    "unique_count = pr['project_id'].isna()\n",
    "print(unique_count)"
   ]
  },
  {
   "cell_type": "code",
   "execution_count": 85,
   "metadata": {},
   "outputs": [
    {
     "data": {
      "text/plain": [
       "False"
      ]
     },
     "execution_count": 85,
     "metadata": {},
     "output_type": "execute_result"
    }
   ],
   "source": [
    "has_nan = pr['project_id'].isna().any()\n",
    "has_nan"
   ]
  },
  {
   "cell_type": "code",
   "execution_count": 84,
   "metadata": {},
   "outputs": [],
   "source": [
    "pr.to_csv(\"csvs/modified_pull-requests.csv\",index=False)"
   ]
  }
 ],
 "metadata": {
  "kernelspec": {
   "display_name": "Python 3",
   "language": "python",
   "name": "python3"
  },
  "language_info": {
   "codemirror_mode": {
    "name": "ipython",
    "version": 3
   },
   "file_extension": ".py",
   "mimetype": "text/x-python",
   "name": "python",
   "nbconvert_exporter": "python",
   "pygments_lexer": "ipython3",
   "version": "3.10.12"
  }
 },
 "nbformat": 4,
 "nbformat_minor": 2
}
