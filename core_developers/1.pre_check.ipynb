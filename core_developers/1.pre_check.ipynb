{
 "cells": [
  {
   "cell_type": "markdown",
   "metadata": {},
   "source": [
    "***Here we analyze the pre-existing data***"
   ]
  },
  {
   "cell_type": "markdown",
   "metadata": {},
   "source": [
    "**Import Libraries and files**"
   ]
  },
  {
   "cell_type": "code",
   "execution_count": 1,
   "metadata": {},
   "outputs": [],
   "source": [
    "import pandas as pd\n",
    "import numpy as np"
   ]
  },
  {
   "cell_type": "code",
   "execution_count": 20,
   "metadata": {},
   "outputs": [
    {
     "name": "stderr",
     "output_type": "stream",
     "text": [
      "/tmp/ipykernel_257416/1690718824.py:3: DtypeWarning: Columns (14) have mixed types. Specify dtype option on import or set low_memory=False.\n",
      "  commits = pd.read_csv(\"csvs/modified_commits_2019_8.csv\",encoding=\"ISO-8859-1\")\n"
     ]
    }
   ],
   "source": [
    "# Load the CSV file\n",
    "lists = pd.read_csv(\"csvs/lists_2019_8.csv\",encoding=\"ISO-8859-1\")\n",
    "commits = pd.read_csv(\"csvs/modified_commits_2019_8.csv\",encoding=\"ISO-8859-1\")\n",
    "people = pd.read_csv(\"csvs/people_2019_8.csv\",encoding=\"ISO-8859-1\")\n",
    "pr = pd.read_csv(\"csvs/pull-requests.csv\",encoding=\"ISO-8859-1\")\n",
    "alias=pd.read_csv(\"csvs/modified_aliases_2019_8.csv\",encoding=\"ISO-8859-1\")"
   ]
  },
  {
   "cell_type": "code",
   "execution_count": 4,
   "metadata": {},
   "outputs": [
    {
     "name": "stdout",
     "output_type": "stream",
     "text": [
      "(312, 15)\n",
      "(3655492, 17)\n",
      "(33895, 4)\n",
      "(569448, 12)\n",
      "(47078, 5)\n"
     ]
    }
   ],
   "source": [
    "print(lists.shape)\n",
    "print(commits.shape)\n",
    "print(people.shape)\n",
    "print(pr.shape)\n",
    "print(alias.shape)"
   ]
  },
  {
   "cell_type": "code",
   "execution_count": null,
   "metadata": {},
   "outputs": [],
   "source": [
    "# Search a string in a dataframe column\n",
    "# lists['listname'].str.contains('abdera', case=False, na=False).any()"
   ]
  },
  {
   "cell_type": "code",
   "execution_count": null,
   "metadata": {},
   "outputs": [
    {
     "data": {
      "text/plain": [
       "state\n",
       "closed    558083\n",
       "open       11365\n",
       "Name: count, dtype: int64"
      ]
     },
     "execution_count": 7,
     "metadata": {},
     "output_type": "execute_result"
    }
   ],
   "source": [
    "# Counting unique values\n",
    "# pr['state'].value_counts()"
   ]
  },
  {
   "cell_type": "code",
   "execution_count": null,
   "metadata": {},
   "outputs": [],
   "source": [
    "# Check any duplicate values\n",
    "# pr['number'].duplicated().any()"
   ]
  },
  {
   "cell_type": "code",
   "execution_count": null,
   "metadata": {},
   "outputs": [],
   "source": [
    "# Print the duplicate row values\n",
    "# pr[pr['number'].duplicated()]"
   ]
  },
  {
   "cell_type": "code",
   "execution_count": null,
   "metadata": {},
   "outputs": [],
   "source": [
    "# filtered_df = pr[pr['user'].str.contains('Darinj', case=False, na=False)]\n",
    "# print(filtered_df)"
   ]
  },
  {
   "cell_type": "code",
   "execution_count": null,
   "metadata": {},
   "outputs": [],
   "source": [
    "# # Find rows a certain column has certain values\n",
    "# filtered_df = commits[commits['committerid'].isin([13521,25026,31916])]\n",
    "# print(filtered_df)"
   ]
  },
  {
   "cell_type": "code",
   "execution_count": null,
   "metadata": {},
   "outputs": [],
   "source": [
    "# # Filter rows where the a column has NaN values\n",
    "# rows_with_nan = people[people['name'].isna()]\n",
    "# print(rows_with_nan)"
   ]
  },
  {
   "cell_type": "code",
   "execution_count": 13,
   "metadata": {},
   "outputs": [
    {
     "data": {
      "text/plain": [
       "334"
      ]
     },
     "execution_count": 13,
     "metadata": {},
     "output_type": "execute_result"
    }
   ],
   "source": [
    "# Find rows where a certain column has certain values\n",
    "filtered_df = commits[commits['authorid'].isin([20764])]\n",
    "len(filtered_df)"
   ]
  },
  {
   "cell_type": "code",
   "execution_count": 14,
   "metadata": {},
   "outputs": [
    {
     "data": {
      "text/html": [
       "<div>\n",
       "<style scoped>\n",
       "    .dataframe tbody tr th:only-of-type {\n",
       "        vertical-align: middle;\n",
       "    }\n",
       "\n",
       "    .dataframe tbody tr th {\n",
       "        vertical-align: top;\n",
       "    }\n",
       "\n",
       "    .dataframe thead th {\n",
       "        text-align: right;\n",
       "    }\n",
       "</style>\n",
       "<table border=\"1\" class=\"dataframe\">\n",
       "  <thead>\n",
       "    <tr style=\"text-align: right;\">\n",
       "      <th></th>\n",
       "      <th>list</th>\n",
       "      <th>messageid</th>\n",
       "      <th>committerid</th>\n",
       "      <th>commit_datetime</th>\n",
       "      <th>file_operation</th>\n",
       "      <th>file_name</th>\n",
       "      <th>addlines</th>\n",
       "      <th>dellines</th>\n",
       "      <th>id</th>\n",
       "      <th>file_id</th>\n",
       "      <th>authorid</th>\n",
       "      <th>author_datetime</th>\n",
       "      <th>c_peopleid</th>\n",
       "      <th>a_peopleid</th>\n",
       "      <th>sha_or_rev</th>\n",
       "      <th>format</th>\n",
       "      <th>datetime</th>\n",
       "    </tr>\n",
       "  </thead>\n",
       "  <tbody>\n",
       "    <tr>\n",
       "      <th>1592568</th>\n",
       "      <td>128</td>\n",
       "      <td>1c989a81a0404e8bb14d7499d24115b1@git.apache.org</td>\n",
       "      <td>20764</td>\n",
       "      <td>2015-05-19 03:06:32-07</td>\n",
       "      <td>mod</td>\n",
       "      <td>git-wip-us.apache.org/repos/asf/incubator-igni...</td>\n",
       "      <td>7</td>\n",
       "      <td>3</td>\n",
       "      <td>297629</td>\n",
       "      <td>86210</td>\n",
       "      <td>20764</td>\n",
       "      <td>2015-05-19 03:06:32-07</td>\n",
       "      <td>NaN</td>\n",
       "      <td>NaN</td>\n",
       "      <td>b58c6f9e1be1ad3d1c7e0d7364a1086783eb0fb4</td>\n",
       "      <td>git</td>\n",
       "      <td>2015-05-19 03:05:40-07</td>\n",
       "    </tr>\n",
       "    <tr>\n",
       "      <th>1592621</th>\n",
       "      <td>128</td>\n",
       "      <td>fada720ec9504b2188ed2c0c3482dcec@git.apache.org</td>\n",
       "      <td>20764</td>\n",
       "      <td>2015-05-19 04:02:26-07</td>\n",
       "      <td>mod</td>\n",
       "      <td>git-wip-us.apache.org/repos/asf/incubator-igni...</td>\n",
       "      <td>17</td>\n",
       "      <td>0</td>\n",
       "      <td>297681</td>\n",
       "      <td>86262</td>\n",
       "      <td>20764</td>\n",
       "      <td>2015-05-19 04:02:26-07</td>\n",
       "      <td>NaN</td>\n",
       "      <td>NaN</td>\n",
       "      <td>a916dac74be025de73e6f0c9fe2b429fbef603c5</td>\n",
       "      <td>git</td>\n",
       "      <td>2015-05-19 04:01:45-07</td>\n",
       "    </tr>\n",
       "    <tr>\n",
       "      <th>1592630</th>\n",
       "      <td>128</td>\n",
       "      <td>e4f3ce8cff8f4e2ebbabe2c7c8dc2afa@git.apache.org</td>\n",
       "      <td>20764</td>\n",
       "      <td>2015-05-19 04:28:56-07</td>\n",
       "      <td>mod</td>\n",
       "      <td>git-wip-us.apache.org/repos/asf/incubator-igni...</td>\n",
       "      <td>4</td>\n",
       "      <td>0</td>\n",
       "      <td>297689</td>\n",
       "      <td>86268</td>\n",
       "      <td>20764</td>\n",
       "      <td>2015-05-19 04:28:56-07</td>\n",
       "      <td>NaN</td>\n",
       "      <td>NaN</td>\n",
       "      <td>41915f5465e13511171e34128ee81928ab89de5a</td>\n",
       "      <td>git</td>\n",
       "      <td>2015-05-19 04:28:16-07</td>\n",
       "    </tr>\n",
       "    <tr>\n",
       "      <th>1593110</th>\n",
       "      <td>128</td>\n",
       "      <td>dd6ca2aa0df341ffac9464dab9f89502@git.apache.org</td>\n",
       "      <td>20764</td>\n",
       "      <td>2015-05-19 11:36:40-07</td>\n",
       "      <td>mod</td>\n",
       "      <td>git-wip-us.apache.org/repos/asf/incubator-igni...</td>\n",
       "      <td>50</td>\n",
       "      <td>50</td>\n",
       "      <td>298172</td>\n",
       "      <td>86466</td>\n",
       "      <td>20764</td>\n",
       "      <td>2015-05-19 11:36:40-07</td>\n",
       "      <td>NaN</td>\n",
       "      <td>NaN</td>\n",
       "      <td>0bd55632013b81d1bbf10f8da91d57e634c058f5</td>\n",
       "      <td>git</td>\n",
       "      <td>2015-05-19 11:35:46-07</td>\n",
       "    </tr>\n",
       "    <tr>\n",
       "      <th>1593589</th>\n",
       "      <td>128</td>\n",
       "      <td>76107c99e52a43af939ceb183084d6cb@git.apache.org</td>\n",
       "      <td>20764</td>\n",
       "      <td>2015-05-20 05:45:33-07</td>\n",
       "      <td>add</td>\n",
       "      <td>git-wip-us.apache.org/repos/asf/incubator-igni...</td>\n",
       "      <td>164</td>\n",
       "      <td>0</td>\n",
       "      <td>298745</td>\n",
       "      <td>86781</td>\n",
       "      <td>20764</td>\n",
       "      <td>2015-05-20 05:45:33-07</td>\n",
       "      <td>NaN</td>\n",
       "      <td>NaN</td>\n",
       "      <td>3cc3fbe3168acaf49e691ffe74d780239968b311</td>\n",
       "      <td>git</td>\n",
       "      <td>2015-05-20 05:49:41-07</td>\n",
       "    </tr>\n",
       "    <tr>\n",
       "      <th>...</th>\n",
       "      <td>...</td>\n",
       "      <td>...</td>\n",
       "      <td>...</td>\n",
       "      <td>...</td>\n",
       "      <td>...</td>\n",
       "      <td>...</td>\n",
       "      <td>...</td>\n",
       "      <td>...</td>\n",
       "      <td>...</td>\n",
       "      <td>...</td>\n",
       "      <td>...</td>\n",
       "      <td>...</td>\n",
       "      <td>...</td>\n",
       "      <td>...</td>\n",
       "      <td>...</td>\n",
       "      <td>...</td>\n",
       "      <td>...</td>\n",
       "    </tr>\n",
       "    <tr>\n",
       "      <th>1602433</th>\n",
       "      <td>128</td>\n",
       "      <td>a566f37c3af64f1180ddebf40227848d@git.apache.org</td>\n",
       "      <td>20764</td>\n",
       "      <td>2015-05-27 05:19:41-07</td>\n",
       "      <td>mod</td>\n",
       "      <td>git-wip-us.apache.org/repos/asf/incubator-igni...</td>\n",
       "      <td>28</td>\n",
       "      <td>8</td>\n",
       "      <td>307492</td>\n",
       "      <td>88111</td>\n",
       "      <td>20764</td>\n",
       "      <td>2015-05-27 05:19:41-07</td>\n",
       "      <td>NaN</td>\n",
       "      <td>NaN</td>\n",
       "      <td>4be517c868e6798876a6eb44fcbc307ba4451603</td>\n",
       "      <td>git</td>\n",
       "      <td>2015-06-02 02:11:00-07</td>\n",
       "    </tr>\n",
       "    <tr>\n",
       "      <th>1602487</th>\n",
       "      <td>128</td>\n",
       "      <td>8dbbb64137f7493e917a3a899ecfb805@git.apache.org</td>\n",
       "      <td>20764</td>\n",
       "      <td>2015-05-27 11:18:54-07</td>\n",
       "      <td>mod</td>\n",
       "      <td>git-wip-us.apache.org/repos/asf/incubator-igni...</td>\n",
       "      <td>1</td>\n",
       "      <td>1</td>\n",
       "      <td>307548</td>\n",
       "      <td>88219</td>\n",
       "      <td>20764</td>\n",
       "      <td>2015-05-27 11:18:54-07</td>\n",
       "      <td>NaN</td>\n",
       "      <td>NaN</td>\n",
       "      <td>80f4ac2a3e31c681732cb144e14a614f6b8cb963</td>\n",
       "      <td>git</td>\n",
       "      <td>2015-06-02 02:11:07-07</td>\n",
       "    </tr>\n",
       "    <tr>\n",
       "      <th>1602488</th>\n",
       "      <td>128</td>\n",
       "      <td>8dbbb64137f7493e917a3a899ecfb805@git.apache.org</td>\n",
       "      <td>20764</td>\n",
       "      <td>2015-05-27 11:18:54-07</td>\n",
       "      <td>mod</td>\n",
       "      <td>git-wip-us.apache.org/repos/asf/incubator-igni...</td>\n",
       "      <td>46</td>\n",
       "      <td>27</td>\n",
       "      <td>307549</td>\n",
       "      <td>88220</td>\n",
       "      <td>20764</td>\n",
       "      <td>2015-05-27 11:18:54-07</td>\n",
       "      <td>NaN</td>\n",
       "      <td>NaN</td>\n",
       "      <td>80f4ac2a3e31c681732cb144e14a614f6b8cb963</td>\n",
       "      <td>git</td>\n",
       "      <td>2015-06-02 02:11:07-07</td>\n",
       "    </tr>\n",
       "    <tr>\n",
       "      <th>1602521</th>\n",
       "      <td>128</td>\n",
       "      <td>ea1d2428ad164302a74e560cbbe07c30@git.apache.org</td>\n",
       "      <td>20764</td>\n",
       "      <td>2015-05-27 11:19:42-07</td>\n",
       "      <td>mod</td>\n",
       "      <td>git-wip-us.apache.org/repos/asf/incubator-igni...</td>\n",
       "      <td>16</td>\n",
       "      <td>2</td>\n",
       "      <td>307582</td>\n",
       "      <td>88217</td>\n",
       "      <td>20764</td>\n",
       "      <td>2015-05-27 11:19:42-07</td>\n",
       "      <td>NaN</td>\n",
       "      <td>NaN</td>\n",
       "      <td>e16cb03658bc5ca7c97ac3f45b17bdca3cfae758</td>\n",
       "      <td>git</td>\n",
       "      <td>2015-06-02 02:11:09-07</td>\n",
       "    </tr>\n",
       "    <tr>\n",
       "      <th>1602522</th>\n",
       "      <td>128</td>\n",
       "      <td>ea1d2428ad164302a74e560cbbe07c30@git.apache.org</td>\n",
       "      <td>20764</td>\n",
       "      <td>2015-05-27 11:19:42-07</td>\n",
       "      <td>mod</td>\n",
       "      <td>git-wip-us.apache.org/repos/asf/incubator-igni...</td>\n",
       "      <td>116</td>\n",
       "      <td>47</td>\n",
       "      <td>307583</td>\n",
       "      <td>88218</td>\n",
       "      <td>20764</td>\n",
       "      <td>2015-05-27 11:19:42-07</td>\n",
       "      <td>NaN</td>\n",
       "      <td>NaN</td>\n",
       "      <td>e16cb03658bc5ca7c97ac3f45b17bdca3cfae758</td>\n",
       "      <td>git</td>\n",
       "      <td>2015-06-02 02:11:09-07</td>\n",
       "    </tr>\n",
       "  </tbody>\n",
       "</table>\n",
       "<p>334 rows × 17 columns</p>\n",
       "</div>"
      ],
      "text/plain": [
       "         list                                        messageid  committerid  \\\n",
       "1592568   128  1c989a81a0404e8bb14d7499d24115b1@git.apache.org        20764   \n",
       "1592621   128  fada720ec9504b2188ed2c0c3482dcec@git.apache.org        20764   \n",
       "1592630   128  e4f3ce8cff8f4e2ebbabe2c7c8dc2afa@git.apache.org        20764   \n",
       "1593110   128  dd6ca2aa0df341ffac9464dab9f89502@git.apache.org        20764   \n",
       "1593589   128  76107c99e52a43af939ceb183084d6cb@git.apache.org        20764   \n",
       "...       ...                                              ...          ...   \n",
       "1602433   128  a566f37c3af64f1180ddebf40227848d@git.apache.org        20764   \n",
       "1602487   128  8dbbb64137f7493e917a3a899ecfb805@git.apache.org        20764   \n",
       "1602488   128  8dbbb64137f7493e917a3a899ecfb805@git.apache.org        20764   \n",
       "1602521   128  ea1d2428ad164302a74e560cbbe07c30@git.apache.org        20764   \n",
       "1602522   128  ea1d2428ad164302a74e560cbbe07c30@git.apache.org        20764   \n",
       "\n",
       "                commit_datetime file_operation  \\\n",
       "1592568  2015-05-19 03:06:32-07            mod   \n",
       "1592621  2015-05-19 04:02:26-07            mod   \n",
       "1592630  2015-05-19 04:28:56-07            mod   \n",
       "1593110  2015-05-19 11:36:40-07            mod   \n",
       "1593589  2015-05-20 05:45:33-07            add   \n",
       "...                         ...            ...   \n",
       "1602433  2015-05-27 05:19:41-07            mod   \n",
       "1602487  2015-05-27 11:18:54-07            mod   \n",
       "1602488  2015-05-27 11:18:54-07            mod   \n",
       "1602521  2015-05-27 11:19:42-07            mod   \n",
       "1602522  2015-05-27 11:19:42-07            mod   \n",
       "\n",
       "                                                 file_name  addlines  \\\n",
       "1592568  git-wip-us.apache.org/repos/asf/incubator-igni...         7   \n",
       "1592621  git-wip-us.apache.org/repos/asf/incubator-igni...        17   \n",
       "1592630  git-wip-us.apache.org/repos/asf/incubator-igni...         4   \n",
       "1593110  git-wip-us.apache.org/repos/asf/incubator-igni...        50   \n",
       "1593589  git-wip-us.apache.org/repos/asf/incubator-igni...       164   \n",
       "...                                                    ...       ...   \n",
       "1602433  git-wip-us.apache.org/repos/asf/incubator-igni...        28   \n",
       "1602487  git-wip-us.apache.org/repos/asf/incubator-igni...         1   \n",
       "1602488  git-wip-us.apache.org/repos/asf/incubator-igni...        46   \n",
       "1602521  git-wip-us.apache.org/repos/asf/incubator-igni...        16   \n",
       "1602522  git-wip-us.apache.org/repos/asf/incubator-igni...       116   \n",
       "\n",
       "         dellines      id  file_id  authorid         author_datetime  \\\n",
       "1592568         3  297629    86210     20764  2015-05-19 03:06:32-07   \n",
       "1592621         0  297681    86262     20764  2015-05-19 04:02:26-07   \n",
       "1592630         0  297689    86268     20764  2015-05-19 04:28:56-07   \n",
       "1593110        50  298172    86466     20764  2015-05-19 11:36:40-07   \n",
       "1593589         0  298745    86781     20764  2015-05-20 05:45:33-07   \n",
       "...           ...     ...      ...       ...                     ...   \n",
       "1602433         8  307492    88111     20764  2015-05-27 05:19:41-07   \n",
       "1602487         1  307548    88219     20764  2015-05-27 11:18:54-07   \n",
       "1602488        27  307549    88220     20764  2015-05-27 11:18:54-07   \n",
       "1602521         2  307582    88217     20764  2015-05-27 11:19:42-07   \n",
       "1602522        47  307583    88218     20764  2015-05-27 11:19:42-07   \n",
       "\n",
       "         c_peopleid  a_peopleid                                sha_or_rev  \\\n",
       "1592568         NaN         NaN  b58c6f9e1be1ad3d1c7e0d7364a1086783eb0fb4   \n",
       "1592621         NaN         NaN  a916dac74be025de73e6f0c9fe2b429fbef603c5   \n",
       "1592630         NaN         NaN  41915f5465e13511171e34128ee81928ab89de5a   \n",
       "1593110         NaN         NaN  0bd55632013b81d1bbf10f8da91d57e634c058f5   \n",
       "1593589         NaN         NaN  3cc3fbe3168acaf49e691ffe74d780239968b311   \n",
       "...             ...         ...                                       ...   \n",
       "1602433         NaN         NaN  4be517c868e6798876a6eb44fcbc307ba4451603   \n",
       "1602487         NaN         NaN  80f4ac2a3e31c681732cb144e14a614f6b8cb963   \n",
       "1602488         NaN         NaN  80f4ac2a3e31c681732cb144e14a614f6b8cb963   \n",
       "1602521         NaN         NaN  e16cb03658bc5ca7c97ac3f45b17bdca3cfae758   \n",
       "1602522         NaN         NaN  e16cb03658bc5ca7c97ac3f45b17bdca3cfae758   \n",
       "\n",
       "        format                datetime  \n",
       "1592568    git  2015-05-19 03:05:40-07  \n",
       "1592621    git  2015-05-19 04:01:45-07  \n",
       "1592630    git  2015-05-19 04:28:16-07  \n",
       "1593110    git  2015-05-19 11:35:46-07  \n",
       "1593589    git  2015-05-20 05:49:41-07  \n",
       "...        ...                     ...  \n",
       "1602433    git  2015-06-02 02:11:00-07  \n",
       "1602487    git  2015-06-02 02:11:07-07  \n",
       "1602488    git  2015-06-02 02:11:07-07  \n",
       "1602521    git  2015-06-02 02:11:09-07  \n",
       "1602522    git  2015-06-02 02:11:09-07  \n",
       "\n",
       "[334 rows x 17 columns]"
      ]
     },
     "execution_count": 14,
     "metadata": {},
     "output_type": "execute_result"
    }
   ],
   "source": [
    "filtered_df"
   ]
  },
  {
   "cell_type": "markdown",
   "metadata": {},
   "source": [
    "*Checking projects*"
   ]
  },
  {
   "cell_type": "code",
   "execution_count": 5,
   "metadata": {},
   "outputs": [
    {
     "data": {
      "text/plain": [
       "Index(['listid', 'listname', 'pj_alias', 'status', 'start_date', 'end_date',\n",
       "       'dev_is_available', 'commit_is_available', 'is_in_attic', 'sponsor',\n",
       "       'intro', 'istoplv', 'start_from_scratch', 'pj_url', 'pj_github_url'],\n",
       "      dtype='object')"
      ]
     },
     "execution_count": 5,
     "metadata": {},
     "output_type": "execute_result"
    }
   ],
   "source": [
    "lists.columns"
   ]
  },
  {
   "cell_type": "code",
   "execution_count": 9,
   "metadata": {},
   "outputs": [
    {
     "name": "stdout",
     "output_type": "stream",
     "text": [
      "[0 1 2]\n",
      "3\n"
     ]
    }
   ],
   "source": [
    "# Determining the total Unique values in a column\n",
    "unique_values = lists['status'].unique()\n",
    "print(unique_values)\n",
    "print(unique_values.size)"
   ]
  },
  {
   "cell_type": "code",
   "execution_count": 10,
   "metadata": {},
   "outputs": [
    {
     "name": "stdout",
     "output_type": "stream",
     "text": [
      "status\n",
      "1    204\n",
      "2     60\n",
      "0     48\n",
      "Name: count, dtype: int64\n"
     ]
    }
   ],
   "source": [
    "# Count occurrences of each unique value in a column\n",
    "unique_value_counts = lists['status'].value_counts()\n",
    "\n",
    "print(unique_value_counts)"
   ]
  },
  {
   "cell_type": "code",
   "execution_count": 24,
   "metadata": {},
   "outputs": [
    {
     "name": "stdout",
     "output_type": "stream",
     "text": [
      "commit_is_available\n",
      "t    276\n",
      "f     36\n",
      "Name: count, dtype: int64\n"
     ]
    }
   ],
   "source": [
    "# Count occurrences of each unique value in a column\n",
    "unique_value_counts = lists['commit_is_available'].value_counts()\n",
    "\n",
    "print(unique_value_counts)"
   ]
  },
  {
   "cell_type": "code",
   "execution_count": null,
   "metadata": {},
   "outputs": [
    {
     "name": "stdout",
     "output_type": "stream",
     "text": [
      "False\n"
     ]
    }
   ],
   "source": [
    "# Check if a column contains NaN\n",
    "has_nan = lists['is_in_attic'].isna().any()\n",
    "\n",
    "print(has_nan) "
   ]
  },
  {
   "cell_type": "markdown",
   "metadata": {},
   "source": [
    "*Checking commits*"
   ]
  },
  {
   "cell_type": "code",
   "execution_count": 26,
   "metadata": {},
   "outputs": [
    {
     "data": {
      "text/plain": [
       "Index(['list', 'messageid', 'committerid', 'commit_datetime', 'file_operation',\n",
       "       'file_name', 'addlines', 'dellines', 'id', 'file_id', 'authorid',\n",
       "       'author_datetime', 'c_peopleid', 'a_peopleid', 'sha_or_rev', 'format',\n",
       "       'datetime'],\n",
       "      dtype='object')"
      ]
     },
     "execution_count": 26,
     "metadata": {},
     "output_type": "execute_result"
    }
   ],
   "source": [
    "commits.columns"
   ]
  },
  {
   "cell_type": "markdown",
   "metadata": {},
   "source": [
    "**The following code segment proves that some commit shas are missing**"
   ]
  },
  {
   "cell_type": "code",
   "execution_count": null,
   "metadata": {},
   "outputs": [
    {
     "name": "stdout",
     "output_type": "stream",
     "text": [
      "False\n"
     ]
    }
   ],
   "source": [
    "# Check if a column contains NaN\n",
    "has_nan = commits['commit_datetime'].isna().any()\n",
    "\n",
    "print(has_nan)"
   ]
  },
  {
   "cell_type": "markdown",
   "metadata": {},
   "source": [
    "**The following code segment proves that we have commits for only 263 projects**"
   ]
  },
  {
   "cell_type": "code",
   "execution_count": 28,
   "metadata": {},
   "outputs": [
    {
     "name": "stdout",
     "output_type": "stream",
     "text": [
      "[ 54 256 132  55 129 128 276 254   1  56   2  58  59  49 277  65 130  61\n",
      "  62  63  64 257   3  70  67  68  69 259 260  81  71  66  72  73  74  75\n",
      "  76  77  78  79  80 179  83 261  82 263  92 264  84   5  85  86  87  88\n",
      "   6  89  90  91  13  93  94  95  96   8  10  97 267  11  98  99 100  12\n",
      " 106 113  14 107 108 109 110 112 268 101 102 103 104 105  15 121  57 116\n",
      " 269 270 176 117 177 178 181 118 183 184 185 186 188 291  52 190 119  29\n",
      " 292 191 192 195  50 196 197 135 136 120 137 139  51 279 142 280 143 145\n",
      "  21 283 154 156 157 159 160 161 163 285 164  24  25  26 168 169 286 287\n",
      " 170 171 172 173 289 115 122 131 223 199 295 200 296 201 123 203 271  33\n",
      " 297 124 204 205 207 208 209 210  37 298 211 272  16 273  17 212 213 214\n",
      " 215 216 217 218 127 219 301 253  53  39 225 302  41 229 230 231 232  43\n",
      " 235 303 238 240 241 242 243 244 306 246 248 250 308 310 252 312  18  20\n",
      " 153 288  30  31  45  48 134 138 141 281 144 146 155  23 167 175  27 182\n",
      " 290 189 187  28 194 293 294 206 202  32  34  35 299  38 222 220 221 227\n",
      " 226  40  42 234 236 239 305 247 311   7  44]\n",
      "263\n"
     ]
    }
   ],
   "source": [
    "# Determining the total Unique values in a column\n",
    "unique_values = commits['list'].unique()\n",
    "print(unique_values)\n",
    "print(unique_values.size)"
   ]
  },
  {
   "cell_type": "code",
   "execution_count": 61,
   "metadata": {},
   "outputs": [
    {
     "name": "stdout",
     "output_type": "stream",
     "text": [
      "format\n",
      "git    2221638\n",
      "svn    1433854\n",
      "Name: count, dtype: int64\n"
     ]
    }
   ],
   "source": [
    "# Count occurrences of each unique value in a column\n",
    "unique_value_counts = commits['format'].value_counts()\n",
    "\n",
    "print(unique_value_counts)"
   ]
  },
  {
   "cell_type": "code",
   "execution_count": 31,
   "metadata": {},
   "outputs": [
    {
     "name": "stdout",
     "output_type": "stream",
     "text": [
      "[nan 'aa01cd4e9a60507bafb98707c7793c3a89424db8' '30857' ... 34380.0\n",
      " 34392.0 34393.0]\n",
      "293404\n"
     ]
    }
   ],
   "source": [
    "# Determining the total Unique values in a column\n",
    "unique_values = commits['sha_or_rev'].unique()\n",
    "print(unique_values)\n",
    "print(unique_values.size)"
   ]
  },
  {
   "cell_type": "markdown",
   "metadata": {},
   "source": [
    "*Checking people*"
   ]
  },
  {
   "cell_type": "code",
   "execution_count": 32,
   "metadata": {},
   "outputs": [
    {
     "data": {
      "text/plain": [
       "Index(['personid', 'name', 'isdev', 'hasemail'], dtype='object')"
      ]
     },
     "execution_count": 32,
     "metadata": {},
     "output_type": "execute_result"
    }
   ],
   "source": [
    "people.columns"
   ]
  },
  {
   "cell_type": "code",
   "execution_count": 35,
   "metadata": {},
   "outputs": [
    {
     "data": {
      "text/html": [
       "<div>\n",
       "<style scoped>\n",
       "    .dataframe tbody tr th:only-of-type {\n",
       "        vertical-align: middle;\n",
       "    }\n",
       "\n",
       "    .dataframe tbody tr th {\n",
       "        vertical-align: top;\n",
       "    }\n",
       "\n",
       "    .dataframe thead th {\n",
       "        text-align: right;\n",
       "    }\n",
       "</style>\n",
       "<table border=\"1\" class=\"dataframe\">\n",
       "  <thead>\n",
       "    <tr style=\"text-align: right;\">\n",
       "      <th></th>\n",
       "      <th>personid</th>\n",
       "      <th>name</th>\n",
       "      <th>isdev</th>\n",
       "      <th>hasemail</th>\n",
       "    </tr>\n",
       "  </thead>\n",
       "  <tbody>\n",
       "    <tr>\n",
       "      <th>0</th>\n",
       "      <td>1</td>\n",
       "      <td>Benjamin Hindman</td>\n",
       "      <td>f</td>\n",
       "      <td>f</td>\n",
       "    </tr>\n",
       "    <tr>\n",
       "      <th>1</th>\n",
       "      <td>2</td>\n",
       "      <td>Lewis John McGibbney</td>\n",
       "      <td>f</td>\n",
       "      <td>f</td>\n",
       "    </tr>\n",
       "    <tr>\n",
       "      <th>2</th>\n",
       "      <td>3</td>\n",
       "      <td>Andy Seaborne</td>\n",
       "      <td>f</td>\n",
       "      <td>f</td>\n",
       "    </tr>\n",
       "    <tr>\n",
       "      <th>3</th>\n",
       "      <td>4</td>\n",
       "      <td>Brett Porter</td>\n",
       "      <td>f</td>\n",
       "      <td>f</td>\n",
       "    </tr>\n",
       "    <tr>\n",
       "      <th>4</th>\n",
       "      <td>5</td>\n",
       "      <td>Olivier Lamy</td>\n",
       "      <td>f</td>\n",
       "      <td>f</td>\n",
       "    </tr>\n",
       "    <tr>\n",
       "      <th>5</th>\n",
       "      <td>6</td>\n",
       "      <td>Jarek Jarcec Cecho</td>\n",
       "      <td>f</td>\n",
       "      <td>f</td>\n",
       "    </tr>\n",
       "    <tr>\n",
       "      <th>6</th>\n",
       "      <td>7</td>\n",
       "      <td>Matei Zaharia</td>\n",
       "      <td>f</td>\n",
       "      <td>f</td>\n",
       "    </tr>\n",
       "    <tr>\n",
       "      <th>7</th>\n",
       "      <td>8</td>\n",
       "      <td>Joe Bowser</td>\n",
       "      <td>f</td>\n",
       "      <td>f</td>\n",
       "    </tr>\n",
       "    <tr>\n",
       "      <th>8</th>\n",
       "      <td>9</td>\n",
       "      <td>Ross Gardler</td>\n",
       "      <td>f</td>\n",
       "      <td>f</td>\n",
       "    </tr>\n",
       "    <tr>\n",
       "      <th>9</th>\n",
       "      <td>10</td>\n",
       "      <td>Brock Noland</td>\n",
       "      <td>f</td>\n",
       "      <td>f</td>\n",
       "    </tr>\n",
       "  </tbody>\n",
       "</table>\n",
       "</div>"
      ],
      "text/plain": [
       "   personid                  name isdev hasemail\n",
       "0         1      Benjamin Hindman     f        f\n",
       "1         2  Lewis John McGibbney     f        f\n",
       "2         3         Andy Seaborne     f        f\n",
       "3         4          Brett Porter     f        f\n",
       "4         5          Olivier Lamy     f        f\n",
       "5         6    Jarek Jarcec Cecho     f        f\n",
       "6         7         Matei Zaharia     f        f\n",
       "7         8            Joe Bowser     f        f\n",
       "8         9          Ross Gardler     f        f\n",
       "9        10          Brock Noland     f        f"
      ]
     },
     "execution_count": 35,
     "metadata": {},
     "output_type": "execute_result"
    }
   ],
   "source": [
    "people.head(10)"
   ]
  },
  {
   "cell_type": "markdown",
   "metadata": {},
   "source": [
    "**Not all persons are developers and they may not have commits**"
   ]
  },
  {
   "cell_type": "code",
   "execution_count": 34,
   "metadata": {},
   "outputs": [
    {
     "name": "stdout",
     "output_type": "stream",
     "text": [
      "[    1     2     3 ... 33897 33898 33899]\n",
      "33895\n"
     ]
    }
   ],
   "source": [
    "# Determining the total Unique values in a column\n",
    "unique_values = people['personid'].unique()\n",
    "print(unique_values)\n",
    "print(unique_values.size)"
   ]
  },
  {
   "cell_type": "code",
   "execution_count": 37,
   "metadata": {},
   "outputs": [
    {
     "name": "stdout",
     "output_type": "stream",
     "text": [
      "['f']\n",
      "1\n"
     ]
    }
   ],
   "source": [
    "# Determining the total Unique values in a column\n",
    "unique_values = people['isdev'].unique()\n",
    "print(unique_values)\n",
    "print(unique_values.size)"
   ]
  },
  {
   "cell_type": "markdown",
   "metadata": {},
   "source": [
    "*Checking alias*"
   ]
  },
  {
   "cell_type": "code",
   "execution_count": 39,
   "metadata": {},
   "outputs": [
    {
     "data": {
      "text/plain": [
       "Index(['aliasid', 'email', 'name', 'personid', 'from_commit'], dtype='object')"
      ]
     },
     "execution_count": 39,
     "metadata": {},
     "output_type": "execute_result"
    }
   ],
   "source": [
    "alias.columns"
   ]
  },
  {
   "cell_type": "code",
   "execution_count": null,
   "metadata": {},
   "outputs": [],
   "source": [
    "alias.shape"
   ]
  },
  {
   "cell_type": "code",
   "execution_count": 41,
   "metadata": {},
   "outputs": [
    {
     "data": {
      "text/html": [
       "<div>\n",
       "<style scoped>\n",
       "    .dataframe tbody tr th:only-of-type {\n",
       "        vertical-align: middle;\n",
       "    }\n",
       "\n",
       "    .dataframe tbody tr th {\n",
       "        vertical-align: top;\n",
       "    }\n",
       "\n",
       "    .dataframe thead th {\n",
       "        text-align: right;\n",
       "    }\n",
       "</style>\n",
       "<table border=\"1\" class=\"dataframe\">\n",
       "  <thead>\n",
       "    <tr style=\"text-align: right;\">\n",
       "      <th></th>\n",
       "      <th>aliasid</th>\n",
       "      <th>email</th>\n",
       "      <th>name</th>\n",
       "      <th>personid</th>\n",
       "      <th>from_commit</th>\n",
       "    </tr>\n",
       "  </thead>\n",
       "  <tbody>\n",
       "    <tr>\n",
       "      <th>0</th>\n",
       "      <td>22233</td>\n",
       "      <td>jira@apache.org</td>\n",
       "      <td>Andy Seaborne (Assigned) (JIRA)</td>\n",
       "      <td>3</td>\n",
       "      <td>f</td>\n",
       "    </tr>\n",
       "    <tr>\n",
       "      <th>1</th>\n",
       "      <td>12937</td>\n",
       "      <td>reply+i-2355594-3a189c6b1c866515f1dd1db09f4f45...</td>\n",
       "      <td>Olivier Lamy</td>\n",
       "      <td>5</td>\n",
       "      <td>f</td>\n",
       "    </tr>\n",
       "    <tr>\n",
       "      <th>2</th>\n",
       "      <td>12967</td>\n",
       "      <td>jira@apache.org</td>\n",
       "      <td>Olivier Lamy (Reopened) (JIRA)</td>\n",
       "      <td>5</td>\n",
       "      <td>f</td>\n",
       "    </tr>\n",
       "    <tr>\n",
       "      <th>3</th>\n",
       "      <td>24428</td>\n",
       "      <td>matei@eecs.berkeley.edu</td>\n",
       "      <td>Matei Zaharia</td>\n",
       "      <td>7</td>\n",
       "      <td>f</td>\n",
       "    </tr>\n",
       "    <tr>\n",
       "      <th>4</th>\n",
       "      <td>24451</td>\n",
       "      <td>jira@apache.org</td>\n",
       "      <td>Matei Zaharia (Commented) (JIRA)</td>\n",
       "      <td>7</td>\n",
       "      <td>f</td>\n",
       "    </tr>\n",
       "    <tr>\n",
       "      <th>5</th>\n",
       "      <td>1120</td>\n",
       "      <td>rgardler@opendirective.com</td>\n",
       "      <td>Ross Gardler</td>\n",
       "      <td>9</td>\n",
       "      <td>f</td>\n",
       "    </tr>\n",
       "    <tr>\n",
       "      <th>6</th>\n",
       "      <td>16699</td>\n",
       "      <td>jira@apache.org</td>\n",
       "      <td>Brock Noland (Created) (JIRA)</td>\n",
       "      <td>10</td>\n",
       "      <td>f</td>\n",
       "    </tr>\n",
       "    <tr>\n",
       "      <th>7</th>\n",
       "      <td>1144</td>\n",
       "      <td>jira@apache.org</td>\n",
       "      <td>Lahiru Gunathilake (Commented) (JIRA)</td>\n",
       "      <td>12</td>\n",
       "      <td>f</td>\n",
       "    </tr>\n",
       "    <tr>\n",
       "      <th>8</th>\n",
       "      <td>16854</td>\n",
       "      <td>jira@apache.org</td>\n",
       "      <td>Mike Percy (Assigned) (JIRA)</td>\n",
       "      <td>14</td>\n",
       "      <td>f</td>\n",
       "    </tr>\n",
       "    <tr>\n",
       "      <th>9</th>\n",
       "      <td>34265</td>\n",
       "      <td>matthieu@yahoo-inc.com.INVALID</td>\n",
       "      <td>Matthieu Morel</td>\n",
       "      <td>15</td>\n",
       "      <td>f</td>\n",
       "    </tr>\n",
       "  </tbody>\n",
       "</table>\n",
       "</div>"
      ],
      "text/plain": [
       "   aliasid                                              email  \\\n",
       "0    22233                                    jira@apache.org   \n",
       "1    12937  reply+i-2355594-3a189c6b1c866515f1dd1db09f4f45...   \n",
       "2    12967                                    jira@apache.org   \n",
       "3    24428                            matei@eecs.berkeley.edu   \n",
       "4    24451                                    jira@apache.org   \n",
       "5     1120                         rgardler@opendirective.com   \n",
       "6    16699                                    jira@apache.org   \n",
       "7     1144                                    jira@apache.org   \n",
       "8    16854                                    jira@apache.org   \n",
       "9    34265                     matthieu@yahoo-inc.com.INVALID   \n",
       "\n",
       "                                    name  personid from_commit  \n",
       "0        Andy Seaborne (Assigned) (JIRA)         3           f  \n",
       "1                           Olivier Lamy         5           f  \n",
       "2         Olivier Lamy (Reopened) (JIRA)         5           f  \n",
       "3                          Matei Zaharia         7           f  \n",
       "4       Matei Zaharia (Commented) (JIRA)         7           f  \n",
       "5                           Ross Gardler         9           f  \n",
       "6          Brock Noland (Created) (JIRA)        10           f  \n",
       "7  Lahiru Gunathilake (Commented) (JIRA)        12           f  \n",
       "8           Mike Percy (Assigned) (JIRA)        14           f  \n",
       "9                         Matthieu Morel        15           f  "
      ]
     },
     "execution_count": 41,
     "metadata": {},
     "output_type": "execute_result"
    }
   ],
   "source": [
    "alias.head(10)"
   ]
  },
  {
   "cell_type": "code",
   "execution_count": 44,
   "metadata": {},
   "outputs": [
    {
     "name": "stdout",
     "output_type": "stream",
     "text": [
      "[22233 12937 12967 ...  8569 20573 33862]\n",
      "47078\n"
     ]
    }
   ],
   "source": [
    "# Determining the total Unique values in a column\n",
    "unique_values = alias['aliasid'].unique()\n",
    "print(unique_values)\n",
    "print(unique_values.size)"
   ]
  },
  {
   "cell_type": "code",
   "execution_count": null,
   "metadata": {},
   "outputs": [],
   "source": [
    "# Convert both arrays to lowercase for case-insensitive matching\n",
    "lowercase_ndarray = np.array(unique_values)\n",
    "lowercase_column = commits[\"authorid\"]\n",
    "\n",
    "# Convert to set for faster lookup\n",
    "lowercase_column_set = set(lowercase_column)\n",
    "\n",
    "# Find strings present in the DataFrame\n",
    "present_strings = [s for s in lowercase_ndarray if s in lowercase_column_set]\n",
    "\n",
    "# Find strings that were NOT found\n",
    "not_found_strings = [s for s in lowercase_column_set if s not in  lowercase_ndarray]\n",
    "\n",
    "# Filter the DataFrame for only the matched strings\n",
    "matched_df = commits[commits[\"authorid\"].isin(set(present_strings))]\n",
    "\n",
    "# # Count occurrences of 0, 1, and 2 in the \"status\" column\n",
    "# status_counts = matched_df[\"status\"].value_counts().to_dict()\n",
    "\n",
    "# Print results\n",
    "print(\"Strings present in DataFrame:\", present_strings)\n",
    "print(\"Total strings present:\", len(present_strings))\n",
    "# print(\"Status counts:\", status_counts)\n",
    "\n",
    "# # Print count of each status (default to 0 if not found)\n",
    "# print(f\"Count of 0: {status_counts.get(0, 0)}\")\n",
    "# print(f\"Count of 1: {status_counts.get(1, 0)}\")\n",
    "# print(f\"Count of 2: {status_counts.get(2, 0)}\")\n",
    "\n",
    "# Print the names not found and their count\n",
    "print(\"Strings NOT found in DataFrame:\", not_found_strings)\n",
    "print(\"Total strings NOT found:\", len(not_found_strings))"
   ]
  },
  {
   "cell_type": "code",
   "execution_count": 43,
   "metadata": {},
   "outputs": [
    {
     "name": "stdout",
     "output_type": "stream",
     "text": [
      "[    3     5     7 ... 15113 15122 15155]\n",
      "33629\n"
     ]
    }
   ],
   "source": [
    "# Determining the total Unique values in a column\n",
    "unique_values = alias['personid'].unique()\n",
    "print(unique_values)\n",
    "print(unique_values.size)"
   ]
  },
  {
   "cell_type": "code",
   "execution_count": 45,
   "metadata": {},
   "outputs": [
    {
     "name": "stdout",
     "output_type": "stream",
     "text": [
      "['f' 't']\n",
      "2\n"
     ]
    }
   ],
   "source": [
    "# Determining the total Unique values in a column\n",
    "unique_values = alias['from_commit'].unique()\n",
    "print(unique_values)\n",
    "print(unique_values.size)"
   ]
  },
  {
   "cell_type": "code",
   "execution_count": 46,
   "metadata": {},
   "outputs": [
    {
     "name": "stdout",
     "output_type": "stream",
     "text": [
      "from_commit\n",
      "f    36288\n",
      "t    10790\n",
      "Name: count, dtype: int64\n"
     ]
    }
   ],
   "source": [
    "# Count occurrences of each unique value in a column\n",
    "unique_value_counts = alias['from_commit'].value_counts()\n",
    "\n",
    "print(unique_value_counts)"
   ]
  },
  {
   "cell_type": "code",
   "execution_count": null,
   "metadata": {},
   "outputs": [],
   "source": [
    "alias.shape"
   ]
  },
  {
   "cell_type": "markdown",
   "metadata": {},
   "source": [
    "*Checking Pull Requests*"
   ]
  },
  {
   "cell_type": "code",
   "execution_count": 8,
   "metadata": {},
   "outputs": [
    {
     "data": {
      "text/plain": [
       "Index(['repo', 'number', 'user', 'user_type', 'state', 'created_at',\n",
       "       'updated_at', 'closed_at', 'merged_at', 'merge_commit_sha', 'issue_url',\n",
       "       'body'],\n",
       "      dtype='object')"
      ]
     },
     "execution_count": 8,
     "metadata": {},
     "output_type": "execute_result"
    }
   ],
   "source": [
    "pr.columns"
   ]
  },
  {
   "cell_type": "markdown",
   "metadata": {},
   "source": [
    "**This code snippet says that pull requests are available from 203 projects**"
   ]
  },
  {
   "cell_type": "code",
   "execution_count": 25,
   "metadata": {},
   "outputs": [
    {
     "name": "stdout",
     "output_type": "stream",
     "text": [
      "['Abdera' 'Accumulo' 'ACE' 'ActiveMQ' 'activemq-apollo' 'Airavata'\n",
      " 'Airflow' 'Allura' 'Ambari' 'ant-easyant-core' 'ant-ivy' 'Any23'\n",
      " 'apex-core' 'Aries' 'AsterixDB' 'Atlas' 'Aurora' 'Beam' 'Bigtop'\n",
      " 'Bloodhound' 'Brooklyn' 'Buildr' 'bval' 'Calcite' 'CarbonData'\n",
      " 'Cassandra' 'Cayenne' 'Celix' 'Chukwa' 'Clerezza' 'climate' 'CloudStack'\n",
      " 'commons-ognl' 'Cordova' 'CouchDB' 'creadur-rat' 'Crunch' 'cTAKES'\n",
      " 'Curator' 'CXF' 'DataFu' 'db-jdo' 'Deltacloud' 'DeltaSpike' 'Derby'\n",
      " 'DirectMemory' 'directory-server' 'DistributedLog' 'Drill' 'Dubbo'\n",
      " 'Eagle' 'Empire-db' 'ESME' 'Falcon' 'Felix' 'Fineract' 'flex-sdk' 'Flink'\n",
      " 'Flume' 'Fluo' 'FreeMarker' 'FtpServer' 'Geode' 'Geronimo'\n",
      " 'geronimo-yoko' 'Giraph' 'Gora' 'Griffin' 'Groovy' 'guacamole-client'\n",
      " 'Hama' 'HAWQ' 'HCatalog' 'Helix' 'Ignite' 'Impala' 'Amaterasu'\n",
      " 'Annotator' 'ariatosca' 'BatchEE' 'BRPC' 'Crail' 'Daffodil'\n",
      " 'DataSketches' 'DLab' 'DolphinScheduler' 'Doris' 'Druid' 'ECharts'\n",
      " 'Edgent' 'Flagon' 'Gobblin' 'Heron' 'Hivemall' 'Hudi' 'Iceberg' 'IoTDB'\n",
      " 'Livy' 'marvin' 'Milagro' 'MXNet' 'Myriad' 'Nemo' 'Omid' 'pagespeed-ngx'\n",
      " 'Pinot' 'ponymail' 'Ratis' 'blur' 'concerted' 'gearpump' 'hdt' 'horn'\n",
      " 'htrace' 'iota' 'mrql' 'openaz' 'pirk' 'quickstep' 'ripple' 's4' 'slider'\n",
      " 'wave' 'Rya' 'S2Graph' 'SAMOA' 'ShardingSphere' 'SINGA' 'Spot' 'Superset'\n",
      " 'Tamaya' 'taverna-engine' 'Tephra' 'Toree' 'Training' 'Tuweni' 'TVM'\n",
      " 'Weex' 'Isis' 'Jackrabbit' 'jclouds' 'Jena' 'Johnzon' 'Joshua' 'JSPWiki'\n",
      " 'jUDDI' 'Juneau' 'Kafka' 'Kalumet' 'Knox' 'Kudu' 'Kylin' 'Lens' 'Lenya'\n",
      " 'Libcloud' 'logging-log4cxx' 'logging-log4php' 'Lucene.NET' 'Lucy'\n",
      " 'MADlib' 'ManifoldCF' 'Marmotta' 'Mesos' 'MetaModel' 'Metron' 'Mnemonic'\n",
      " 'MRUnit' 'MyFaces' 'myfaces-tobago' 'mynewt-core' 'NetBeans' 'NiFi'\n",
      " 'NPanday' 'Nutch' 'Nuvem' 'Ode' 'odftoolkit' 'OFBiz' 'olingo-odata4'\n",
      " 'OODT' 'Oozie' 'OpenEJB' 'OpenJPA' 'Openmeetings' 'OpenNLP' 'openoffice'\n",
      " 'OpenWebBeans' 'OpenWhisk' 'openwhisk-composer' 'parquet-java' 'PDFBox'\n",
      " 'Phoenix' 'PhotArk' 'Pig' 'PLC4X' 'Pluto' 'PredictionIO' 'Pulsar' 'Qpid'\n",
      " 'Ranger' 'Rave' 'REEF' 'RocketMQ' 'Roller' 'Samza' 'Sanselan' 'Sentry'\n",
      " 'servicecomb-java-chassis' 'ServiceMix' 'Shindig' 'Shiro' 'Sirona' 'SIS'\n",
      " 'SkyWalking' 'Sling' 'Solr' 'SpamAssassin' 'Spark' 'Sqoop' 'Stanbol'\n",
      " 'Storm' 'Stratos' 'Streams' 'Subversion' 'Synapse' 'Syncope' 'SystemML'\n",
      " 'Tajo' 'tapestry-5' 'Tashi' 'Tez' 'Thrift' 'Tika' 'TinkerPop'\n",
      " 'trafficcontrol' 'trafficserver' 'Trafodion' 'tuscany-sca-2.x' 'Twill'\n",
      " 'uima-uimaj' 'Unomi' 'Usergrid' 'VCL' 'VXQuery' 'Whirr' 'Wicket' 'Wink'\n",
      " 'Wookie' 'XMLBeans' 'Zeppelin' 'zetacomponents' 'Zipkin']\n",
      "252\n"
     ]
    }
   ],
   "source": [
    "# Determining the total Unique values in a column\n",
    "unique_values = pr['repo'].unique()\n",
    "print(unique_values)\n",
    "print(unique_values.size)"
   ]
  },
  {
   "cell_type": "code",
   "execution_count": null,
   "metadata": {},
   "outputs": [],
   "source": [
    "# # Check if 'project_name' contains 'incubator-' and count occurrences\n",
    "# p = pr['repo'].str.contains(r'^retired-', na=False).unique()\n",
    "\n",
    "# # Count the number of rows that contain 'incubator-'\n",
    "# count = p.sum()\n",
    "# print(count)"
   ]
  },
  {
   "cell_type": "code",
   "execution_count": 23,
   "metadata": {},
   "outputs": [],
   "source": [
    "p=pr['repo'].unique()\n",
    "p=pd.DataFrame(p)\n",
    "p.to_csv(\"pr.csv\",index=False)"
   ]
  },
  {
   "cell_type": "markdown",
   "metadata": {},
   "source": [
    "**Among 252 projects in PR Lists, 62 have \"incubator-\" written in front of them which is causing string mismatch with project names in Lists\n",
    "Again, 15 among the 62 have \"retired-\" written after \"incubator-\". We need to remove them both.**"
   ]
  },
  {
   "cell_type": "code",
   "execution_count": 22,
   "metadata": {},
   "outputs": [],
   "source": [
    "# Remove \"incubator-\" from the start of strings\n",
    "pr[\"repo\"] = pr[\"repo\"].str.replace(r\"^incubator-\", \"\", regex=True)\n",
    "pr[\"repo\"] = pr[\"repo\"].str.replace(r\"^retired-\", \"\", regex=True)"
   ]
  },
  {
   "cell_type": "code",
   "execution_count": 26,
   "metadata": {},
   "outputs": [
    {
     "name": "stdout",
     "output_type": "stream",
     "text": [
      "Strings present in DataFrame: ['abdera', 'accumulo', 'ace', 'activemq', 'airavata', 'airflow', 'allura', 'ambari', 'any23', 'aries', 'asterixdb', 'atlas', 'aurora', 'beam', 'bigtop', 'bloodhound', 'brooklyn', 'buildr', 'calcite', 'carbondata', 'cassandra', 'cayenne', 'celix', 'chukwa', 'clerezza', 'cloudstack', 'cordova', 'couchdb', 'crunch', 'ctakes', 'curator', 'cxf', 'datafu', 'deltacloud', 'deltaspike', 'derby', 'directmemory', 'distributedlog', 'drill', 'dubbo', 'eagle', 'empire-db', 'esme', 'falcon', 'felix', 'fineract', 'flink', 'flume', 'fluo', 'freemarker', 'ftpserver', 'geode', 'geronimo', 'giraph', 'gora', 'griffin', 'groovy', 'hama', 'hawq', 'hcatalog', 'helix', 'ignite', 'impala', 'amaterasu', 'annotator', 'ariatosca', 'batchee', 'brpc', 'crail', 'daffodil', 'datasketches', 'dlab', 'dolphinscheduler', 'doris', 'druid', 'echarts', 'edgent', 'flagon', 'gobblin', 'heron', 'hivemall', 'hudi', 'iceberg', 'iotdb', 'livy', 'milagro', 'mxnet', 'myriad', 'nemo', 'omid', 'pinot', 'ratis', 'blur', 'concerted', 'gearpump', 'horn', 'htrace', 'iota', 'mrql', 'openaz', 'pirk', 'quickstep', 'ripple', 's4', 'slider', 'wave', 'rya', 's2graph', 'samoa', 'shardingsphere', 'singa', 'spot', 'superset', 'tamaya', 'tephra', 'toree', 'training', 'tuweni', 'tvm', 'weex', 'isis', 'jackrabbit', 'jclouds', 'jena', 'johnzon', 'joshua', 'jspwiki', 'juddi', 'juneau', 'kafka', 'kalumet', 'knox', 'kudu', 'kylin', 'lens', 'lenya', 'libcloud', 'lucene.net', 'lucy', 'madlib', 'manifoldcf', 'marmotta', 'mesos', 'metamodel', 'metron', 'mnemonic', 'mrunit', 'myfaces', 'netbeans', 'nifi', 'npanday', 'nutch', 'nuvem', 'ode', 'ofbiz', 'oodt', 'oozie', 'openejb', 'openjpa', 'openmeetings', 'opennlp', 'openwebbeans', 'openwhisk', 'pdfbox', 'phoenix', 'photark', 'pig', 'plc4x', 'pluto', 'predictionio', 'pulsar', 'qpid', 'ranger', 'rave', 'reef', 'rocketmq', 'roller', 'samza', 'sanselan', 'sentry', 'servicemix', 'shindig', 'shiro', 'sirona', 'sis', 'skywalking', 'sling', 'solr', 'spamassassin', 'spark', 'sqoop', 'stanbol', 'storm', 'stratos', 'streams', 'subversion', 'synapse', 'syncope', 'systemml', 'tajo', 'tashi', 'tez', 'thrift', 'tika', 'tinkerpop', 'trafodion', 'twill', 'unomi', 'usergrid', 'vcl', 'vxquery', 'whirr', 'wicket', 'wink', 'wookie', 'xmlbeans', 'zeppelin', 'zipkin']\n",
      "Total strings present: 218\n"
     ]
    }
   ],
   "source": [
    "lowercase_ndarray = np.array([str(s).lower() for s in unique_values])\n",
    "lowercase_column = lists['listname'].str.lower()\n",
    "\n",
    "# Find strings that are present in the DataFrame column\n",
    "present_strings = [s for s in lowercase_ndarray if s in lowercase_column.values]\n",
    "\n",
    "# Print the matching strings\n",
    "print(\"Strings present in DataFrame:\", present_strings)\n",
    "\n",
    "# Print the total count\n",
    "print(\"Total strings present:\", len(present_strings))\n"
   ]
  },
  {
   "cell_type": "markdown",
   "metadata": {},
   "source": [
    "**We finally got 21 projects are unsustainable. 155 are sustainable. 42 in_incubation**"
   ]
  },
  {
   "cell_type": "code",
   "execution_count": 27,
   "metadata": {},
   "outputs": [
    {
     "name": "stdout",
     "output_type": "stream",
     "text": [
      "Strings present in DataFrame: ['abdera', 'accumulo', 'ace', 'activemq', 'airavata', 'airflow', 'allura', 'ambari', 'any23', 'aries', 'asterixdb', 'atlas', 'aurora', 'beam', 'bigtop', 'bloodhound', 'brooklyn', 'buildr', 'calcite', 'carbondata', 'cassandra', 'cayenne', 'celix', 'chukwa', 'clerezza', 'cloudstack', 'cordova', 'couchdb', 'crunch', 'ctakes', 'curator', 'cxf', 'datafu', 'deltacloud', 'deltaspike', 'derby', 'directmemory', 'distributedlog', 'drill', 'dubbo', 'eagle', 'empire-db', 'esme', 'falcon', 'felix', 'fineract', 'flink', 'flume', 'fluo', 'freemarker', 'ftpserver', 'geode', 'geronimo', 'giraph', 'gora', 'griffin', 'groovy', 'hama', 'hawq', 'hcatalog', 'helix', 'ignite', 'impala', 'amaterasu', 'annotator', 'ariatosca', 'batchee', 'brpc', 'crail', 'daffodil', 'datasketches', 'dlab', 'dolphinscheduler', 'doris', 'druid', 'echarts', 'edgent', 'flagon', 'gobblin', 'heron', 'hivemall', 'hudi', 'iceberg', 'iotdb', 'livy', 'milagro', 'mxnet', 'myriad', 'nemo', 'omid', 'pinot', 'ratis', 'blur', 'concerted', 'gearpump', 'horn', 'htrace', 'iota', 'mrql', 'openaz', 'pirk', 'quickstep', 'ripple', 's4', 'slider', 'wave', 'rya', 's2graph', 'samoa', 'shardingsphere', 'singa', 'spot', 'superset', 'tamaya', 'tephra', 'toree', 'training', 'tuweni', 'tvm', 'weex', 'isis', 'jackrabbit', 'jclouds', 'jena', 'johnzon', 'joshua', 'jspwiki', 'juddi', 'juneau', 'kafka', 'kalumet', 'knox', 'kudu', 'kylin', 'lens', 'lenya', 'libcloud', 'lucene.net', 'lucy', 'madlib', 'manifoldcf', 'marmotta', 'mesos', 'metamodel', 'metron', 'mnemonic', 'mrunit', 'myfaces', 'netbeans', 'nifi', 'npanday', 'nutch', 'nuvem', 'ode', 'ofbiz', 'oodt', 'oozie', 'openejb', 'openjpa', 'openmeetings', 'opennlp', 'openwebbeans', 'openwhisk', 'pdfbox', 'phoenix', 'photark', 'pig', 'plc4x', 'pluto', 'predictionio', 'pulsar', 'qpid', 'ranger', 'rave', 'reef', 'rocketmq', 'roller', 'samza', 'sanselan', 'sentry', 'servicemix', 'shindig', 'shiro', 'sirona', 'sis', 'skywalking', 'sling', 'solr', 'spamassassin', 'spark', 'sqoop', 'stanbol', 'storm', 'stratos', 'streams', 'subversion', 'synapse', 'syncope', 'systemml', 'tajo', 'tashi', 'tez', 'thrift', 'tika', 'tinkerpop', 'trafodion', 'twill', 'unomi', 'usergrid', 'vcl', 'vxquery', 'whirr', 'wicket', 'wink', 'wookie', 'xmlbeans', 'zeppelin', 'zipkin']\n",
      "Total strings present: 218\n",
      "Status counts: {1: 155, 0: 42, 2: 21}\n",
      "Count of 0: 42\n",
      "Count of 1: 155\n",
      "Count of 2: 21\n"
     ]
    }
   ],
   "source": [
    "# Filter the DataFrame for only the matched strings\n",
    "matched_df = lists[lists[\"listname\"].str.lower().isin(present_strings)]\n",
    "\n",
    "# Count occurrences of 0, 1, and 2 in the \"status\" column\n",
    "status_counts = matched_df[\"status\"].value_counts().to_dict()\n",
    "\n",
    "# Print results\n",
    "print(\"Strings present in DataFrame:\", present_strings)\n",
    "print(\"Total strings present:\", len(present_strings))\n",
    "print(\"Status counts:\", status_counts)\n",
    "\n",
    "# Print count of each status (default to 0 if not found)\n",
    "print(f\"Count of 0: {status_counts.get(0, 0)}\")\n",
    "print(f\"Count of 1: {status_counts.get(1, 0)}\")\n",
    "print(f\"Count of 2: {status_counts.get(2, 0)}\")"
   ]
  },
  {
   "cell_type": "code",
   "execution_count": null,
   "metadata": {},
   "outputs": [
    {
     "name": "stdout",
     "output_type": "stream",
     "text": [
      "Strings present in DataFrame: ['abdera', 'accumulo', 'ace', 'activemq', 'airavata', 'airflow', 'allura', 'ambari', 'any23', 'aries', 'asterixdb', 'atlas', 'aurora', 'beam', 'bigtop', 'bloodhound', 'brooklyn', 'buildr', 'calcite', 'carbondata', 'cassandra', 'cayenne', 'celix', 'chukwa', 'clerezza', 'cloudstack', 'cordova', 'couchdb', 'crunch', 'ctakes', 'curator', 'cxf', 'datafu', 'deltacloud', 'deltaspike', 'derby', 'directmemory', 'distributedlog', 'drill', 'dubbo', 'eagle', 'empire-db', 'esme', 'falcon', 'felix', 'fineract', 'flink', 'flume', 'fluo', 'freemarker', 'ftpserver', 'geode', 'geronimo', 'giraph', 'gora', 'griffin', 'groovy', 'hama', 'hawq', 'hcatalog', 'helix', 'ignite', 'impala', 'amaterasu', 'annotator', 'batchee', 'brpc', 'crail', 'daffodil', 'datasketches', 'dlab', 'dolphinscheduler', 'doris', 'druid', 'echarts', 'edgent', 'flagon', 'gobblin', 'heron', 'hivemall', 'hudi', 'iceberg', 'iotdb', 'livy', 'milagro', 'mxnet', 'myriad', 'nemo', 'omid', 'pinot', 'ratis', 'rya', 's2graph', 'samoa', 'shardingsphere', 'singa', 'spot', 'superset', 'tamaya', 'tephra', 'toree', 'training', 'tuweni', 'tvm', 'weex', 'isis', 'jackrabbit', 'jclouds', 'jena', 'johnzon', 'joshua', 'jspwiki', 'juddi', 'juneau', 'kafka', 'kalumet', 'knox', 'kudu', 'kylin', 'lens', 'lenya', 'libcloud', 'lucene.net', 'lucy', 'madlib', 'manifoldcf', 'marmotta', 'mesos', 'metamodel', 'metron', 'mnemonic', 'mrunit', 'myfaces', 'netbeans', 'nifi', 'npanday', 'nutch', 'nuvem', 'ode', 'ofbiz', 'oodt', 'oozie', 'openejb', 'openjpa', 'openmeetings', 'opennlp', 'openwebbeans', 'openwhisk', 'pdfbox', 'phoenix', 'photark', 'pig', 'plc4x', 'pluto', 'predictionio', 'pulsar', 'qpid', 'ranger', 'rave', 'reef', 'rocketmq', 'roller', 'samza', 'sanselan', 'sentry', 'servicemix', 'shindig', 'shiro', 'sirona', 'sis', 'skywalking', 'sling', 'solr', 'spamassassin', 'spark', 'sqoop', 'stanbol', 'storm', 'stratos', 'streams', 'subversion', 'synapse', 'syncope', 'systemml', 'tajo', 'tashi', 'tez', 'thrift', 'tika', 'tinkerpop', 'trafodion', 'twill', 'unomi', 'usergrid', 'vcl', 'vxquery', 'whirr', 'wicket', 'wink', 'wookie', 'xmlbeans', 'zeppelin', 'zipkin']\n",
      "Total strings present: 203\n",
      "Status counts: {1: 155, 0: 42, 2: 6}\n",
      "Count of 0: 42\n",
      "Count of 1: 155\n",
      "Count of 2: 6\n",
      "Strings NOT found in DataFrame: ['hise', 'olingo', 'click', 'tapestry', 'slider', 'composer', 'easyant', 'uima', 'climate model diagnostic analyzer', 'horn', 'blur', 'graffito', 'xap', 'socialsite', 'zeta components', 'apex', 'flex', 'imperius', 'heraldry', 'triplesoup', 'apollo', 'quickstep', 'commonsrdf', 'beehive', 'woden', 'agila', 'taverna', 'parquet', 'xmlbeans/c++', 'stdcxx', 'tobago', 'stonehenge', 'droids', 'juice', 'ognl', 'depot', 'wsrp4j', 'awf', 'ariatosca', 'axion', 'olio', 'onami', 'iota', 'tuscany', 'pivot', 'chemistry', 'log4cxx2', 'kitty', 'warble', 'guacamole', 'altrmi', 'lucene4c', 'ibatis', 'trinidad', 'wadi', 'pirk', 'bluesky', 'sdap', 'log4php', 'bean validation', 'directory', 'openaz', 'tsik', 'cotton', 'amber', 'log4net', 'gossip', 'openoffice.org', 'gearpump', 'corinthia', 'htrace', 'jaxme', 'provisionr', 's4', 'ripple', 'jdo', 'log4cxx', 'mod_ftp', 'rat', 'hadoop development tools (hdt)', 'kabuki', 'yoko', 'pagespeed', 'nmaven', 'traffic control', 'concerted', 'rcf', 'ivy', 'mrql', 'marvin-ai', 'httpd-cli', 'merlindeveloper', 'traffic server', 'odf toolkit', 'webwork 2', 'devicemap', 'open climate workbench', 'hermes', 'kato', 'servicecomb', 'pony mail', 'river', 'alois', 'lokahi', 'mynewt', 'wave', 'harmony', 'etch', 'muse']\n",
      "Total strings NOT found: 109\n"
     ]
    }
   ],
   "source": [
    "# # Convert both arrays to lowercase for case-insensitive matching\n",
    "# lowercase_ndarray = np.array([str(s).lower() for s in unique_values])\n",
    "# lowercase_column = lists[\"listname\"].str.lower()\n",
    "\n",
    "# # Convert to set for faster lookup\n",
    "# lowercase_column_set = set(lowercase_column)\n",
    "\n",
    "# # Find strings present in the DataFrame\n",
    "# present_strings = [s for s in lowercase_ndarray if s in lowercase_column_set]\n",
    "\n",
    "# # Find strings that were NOT found\n",
    "# not_found_strings = [s for s in lowercase_column_set if s not in  lowercase_ndarray]\n",
    "\n",
    "# # Filter the DataFrame for only the matched strings\n",
    "# matched_df = lists[lists[\"listname\"].str.lower().isin(set(present_strings))]\n",
    "\n",
    "# # Count occurrences of 0, 1, and 2 in the \"status\" column\n",
    "# status_counts = matched_df[\"status\"].value_counts().to_dict()\n",
    "\n",
    "# # Print results\n",
    "# print(\"Strings present in DataFrame:\", present_strings)\n",
    "# print(\"Total strings present:\", len(present_strings))\n",
    "# print(\"Status counts:\", status_counts)\n",
    "\n",
    "# # Print count of each status (default to 0 if not found)\n",
    "# print(f\"Count of 0: {status_counts.get(0, 0)}\")\n",
    "# print(f\"Count of 1: {status_counts.get(1, 0)}\")\n",
    "# print(f\"Count of 2: {status_counts.get(2, 0)}\")\n",
    "\n",
    "# # Print the names not found and their count\n",
    "# print(\"Strings NOT found in DataFrame:\", not_found_strings)\n",
    "# print(\"Total strings NOT found:\", len(not_found_strings))"
   ]
  },
  {
   "cell_type": "code",
   "execution_count": null,
   "metadata": {},
   "outputs": [],
   "source": [
    "# name = pr[\"repo\"].dropna().unique()  # Get unique non-null values\n",
    "# name = pd.DataFrame(name, columns=[\"repo\"])\n",
    "# name.to_csv(\"pr_repo.csv\", index=False)"
   ]
  },
  {
   "cell_type": "code",
   "execution_count": null,
   "metadata": {},
   "outputs": [],
   "source": [
    "# name=lists[['listname','pj_alias']]\n",
    "# name = name.dropna()\n",
    "# name.to_csv(\"prj_name.csv\",index=False)"
   ]
  }
 ],
 "metadata": {
  "kernelspec": {
   "display_name": "Python 3",
   "language": "python",
   "name": "python3"
  },
  "language_info": {
   "codemirror_mode": {
    "name": "ipython",
    "version": 3
   },
   "file_extension": ".py",
   "mimetype": "text/x-python",
   "name": "python",
   "nbconvert_exporter": "python",
   "pygments_lexer": "ipython3",
   "version": "3.10.12"
  }
 },
 "nbformat": 4,
 "nbformat_minor": 2
}
